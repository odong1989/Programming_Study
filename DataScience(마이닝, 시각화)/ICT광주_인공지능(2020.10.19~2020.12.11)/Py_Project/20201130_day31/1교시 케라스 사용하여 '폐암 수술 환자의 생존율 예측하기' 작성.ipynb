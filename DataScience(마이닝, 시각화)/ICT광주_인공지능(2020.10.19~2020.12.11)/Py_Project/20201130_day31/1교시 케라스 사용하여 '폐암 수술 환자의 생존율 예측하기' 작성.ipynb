{
 "cells": [
  {
   "cell_type": "code",
   "execution_count": 1,
   "metadata": {},
   "outputs": [],
   "source": [
    "from tensorflow.keras.models import Sequential\n",
    "from tensorflow.keras.layers import Dense\n",
    "import numpy\n",
    "import tensorflow as tf\n",
    "seed = 0\n",
    "numpy.random.seed(seed)\n",
    "tf.random.set_seed(seed)"
   ]
  },
  {
   "cell_type": "code",
   "execution_count": 2,
   "metadata": {},
   "outputs": [],
   "source": [
    "#준비된 수술 환자 데이터를 로딩\n",
    "Data_set = numpy.loadtxt(\"C:/sourceTree/DataScience/ICT/Py_Project/20201127_day30/ThoraricSurgery.csv\",delimiter=\",\")\n",
    "\n",
    "#환자의 기록과 수술 결과를 X,Y로 구분하여 저장합니다.\n",
    "X = Data_set[:,0:17]\n",
    "Y = Data_set[:,[17]]"
   ]
  },
  {
   "cell_type": "code",
   "execution_count": 3,
   "metadata": {},
   "outputs": [],
   "source": [
    "#딥러닝 구조를 결정합니다(모델을 설정하고 실행하는 부분입니다.)\n",
    "model = Sequential()\n",
    "model.add(Dense(30,input_dim=17,activation='sigmoid'))\n",
    "model.add(Dense(1,activation='sigmoid'))"
   ]
  },
  {
   "cell_type": "code",
   "execution_count": 4,
   "metadata": {},
   "outputs": [
    {
     "name": "stdout",
     "output_type": "stream",
     "text": [
      "Epoch 1/30\n",
      "47/47 [==============================] - 0s 2ms/step - loss: 0.6723 - accuracy: 0.6128\n",
      "Epoch 2/30\n",
      "47/47 [==============================] - 0s 1ms/step - loss: 0.4566 - accuracy: 0.8511\n",
      "Epoch 3/30\n",
      "47/47 [==============================] - 0s 830us/step - loss: 0.4311 - accuracy: 0.8511\n",
      "Epoch 4/30\n",
      "47/47 [==============================] - 0s 1ms/step - loss: 0.4244 - accuracy: 0.8511\n",
      "Epoch 5/30\n",
      "47/47 [==============================] - 0s 1ms/step - loss: 0.4210 - accuracy: 0.8511\n",
      "Epoch 6/30\n",
      "47/47 [==============================] - 0s 979us/step - loss: 0.4214 - accuracy: 0.8511\n",
      "Epoch 7/30\n",
      "47/47 [==============================] - 0s 2ms/step - loss: 0.4197 - accuracy: 0.8511\n",
      "Epoch 8/30\n",
      "47/47 [==============================] - 0s 832us/step - loss: 0.4185 - accuracy: 0.8511\n",
      "Epoch 9/30\n",
      "47/47 [==============================] - 0s 851us/step - loss: 0.4176 - accuracy: 0.8511\n",
      "Epoch 10/30\n",
      "47/47 [==============================] - 0s 915us/step - loss: 0.4172 - accuracy: 0.8511\n",
      "Epoch 11/30\n",
      "47/47 [==============================] - 0s 1ms/step - loss: 0.4163 - accuracy: 0.8511\n",
      "Epoch 12/30\n",
      "47/47 [==============================] - 0s 915us/step - loss: 0.4160 - accuracy: 0.8511\n",
      "Epoch 13/30\n",
      "47/47 [==============================] - 0s 851us/step - loss: 0.4159 - accuracy: 0.8511\n",
      "Epoch 14/30\n",
      "47/47 [==============================] - 0s 787us/step - loss: 0.4161 - accuracy: 0.8511\n",
      "Epoch 15/30\n",
      "47/47 [==============================] - 0s 1ms/step - loss: 0.4152 - accuracy: 0.8511\n",
      "Epoch 16/30\n",
      "47/47 [==============================] - 0s 809us/step - loss: 0.4155 - accuracy: 0.8511\n",
      "Epoch 17/30\n",
      "47/47 [==============================] - 0s 894us/step - loss: 0.4156 - accuracy: 0.8511\n",
      "Epoch 18/30\n",
      "47/47 [==============================] - 0s 940us/step - loss: 0.4161 - accuracy: 0.8511\n",
      "Epoch 19/30\n",
      "47/47 [==============================] - 0s 1ms/step - loss: 0.4148 - accuracy: 0.8511\n",
      "Epoch 20/30\n",
      "47/47 [==============================] - 0s 1ms/step - loss: 0.4148 - accuracy: 0.8511\n",
      "Epoch 21/30\n",
      "47/47 [==============================] - 0s 894us/step - loss: 0.4140 - accuracy: 0.8511\n",
      "Epoch 22/30\n",
      "47/47 [==============================] - 0s 766us/step - loss: 0.4132 - accuracy: 0.8511\n",
      "Epoch 23/30\n",
      "47/47 [==============================] - 0s 809us/step - loss: 0.4151 - accuracy: 0.8511\n",
      "Epoch 24/30\n",
      "47/47 [==============================] - 0s 873us/step - loss: 0.4145 - accuracy: 0.8511\n",
      "Epoch 25/30\n",
      "47/47 [==============================] - 0s 809us/step - loss: 0.4138 - accuracy: 0.8511\n",
      "Epoch 26/30\n",
      "47/47 [==============================] - 0s 787us/step - loss: 0.4132 - accuracy: 0.8511\n",
      "Epoch 27/30\n",
      "47/47 [==============================] - 0s 867us/step - loss: 0.4139 - accuracy: 0.8511\n",
      "Epoch 28/30\n",
      "47/47 [==============================] - 0s 936us/step - loss: 0.4133 - accuracy: 0.8511\n",
      "Epoch 29/30\n",
      "47/47 [==============================] - 0s 745us/step - loss: 0.4128 - accuracy: 0.8511\n",
      "Epoch 30/30\n",
      "47/47 [==============================] - 0s 745us/step - loss: 0.4129 - accuracy: 0.8511\n"
     ]
    },
    {
     "data": {
      "text/plain": [
       "<tensorflow.python.keras.callbacks.History at 0x2421591b148>"
      ]
     },
     "execution_count": 4,
     "metadata": {},
     "output_type": "execute_result"
    }
   ],
   "source": [
    "#딥러닝을 실행합니다.\n",
    "model.compile(loss='binary_crossentropy',optimizer='adam',metrics=['accuracy'])\n",
    "model.fit(X,Y,epochs=30, batch_size=10)"
   ]
  },
  {
   "cell_type": "code",
   "execution_count": 6,
   "metadata": {},
   "outputs": [
    {
     "name": "stdout",
     "output_type": "stream",
     "text": [
      "15/15 [==============================] - 0s 800us/step - loss: 0.4112 - accuracy: 0.8511\n",
      "\n",
      " Accuracy: 0.8511 \n"
     ]
    }
   ],
   "source": [
    "#결과를 출력합니다.\n",
    "print(\"\\n Accuracy: %.4f \"%(model.evaluate(X,Y)[1]))"
   ]
  },
  {
   "cell_type": "markdown",
   "metadata": {},
   "source": []
  }
 ],
 "metadata": {
  "kernelspec": {
   "display_name": "Python 3",
   "language": "python",
   "name": "python3"
  },
  "language_info": {
   "codemirror_mode": {
    "name": "ipython",
    "version": 3
   },
   "file_extension": ".py",
   "mimetype": "text/x-python",
   "name": "python",
   "nbconvert_exporter": "python",
   "pygments_lexer": "ipython3",
   "version": "3.7.9"
  }
 },
 "nbformat": 4,
 "nbformat_minor": 4
}
