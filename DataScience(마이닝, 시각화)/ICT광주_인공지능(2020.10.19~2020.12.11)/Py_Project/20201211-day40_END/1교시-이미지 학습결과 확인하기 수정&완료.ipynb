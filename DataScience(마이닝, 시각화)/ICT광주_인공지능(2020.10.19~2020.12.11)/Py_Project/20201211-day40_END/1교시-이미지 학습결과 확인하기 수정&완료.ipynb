{
 "cells": [
  {
   "cell_type": "code",
   "execution_count": 1,
   "metadata": {},
   "outputs": [
    {
     "name": "stdout",
     "output_type": "stream",
     "text": [
      "Model: \"sequential_5\"\n",
      "_________________________________________________________________\n",
      "Layer (type)                 Output Shape              Param #   \n",
      "=================================================================\n",
      "conv2d_10 (Conv2D)           (None, 26, 26, 32)        320       \n",
      "_________________________________________________________________\n",
      "conv2d_11 (Conv2D)           (None, 24, 24, 64)        18496     \n",
      "_________________________________________________________________\n",
      "max_pooling2d_5 (MaxPooling2 (None, 12, 12, 64)        0         \n",
      "_________________________________________________________________\n",
      "dropout_10 (Dropout)         (None, 12, 12, 64)        0         \n",
      "_________________________________________________________________\n",
      "flatten_5 (Flatten)          (None, 9216)              0         \n",
      "_________________________________________________________________\n",
      "dense_10 (Dense)             (None, 128)               1179776   \n",
      "_________________________________________________________________\n",
      "dropout_11 (Dropout)         (None, 128)               0         \n",
      "_________________________________________________________________\n",
      "dense_11 (Dense)             (None, 10)                1290      \n",
      "=================================================================\n",
      "Total params: 1,199,882\n",
      "Trainable params: 1,199,882\n",
      "Non-trainable params: 0\n",
      "_________________________________________________________________\n"
     ]
    }
   ],
   "source": [
    "import tensorflow as tf\n",
    "import sys\n",
    "import os\n",
    "from tensorflow.keras.models import load_model\n",
    "import matplotlib.pyplot as plt\n",
    "import numpy as np\n",
    "import cv2\n",
    "\n",
    "model = load_model('./model/my_model_cnn_use/10-0.0266.hdf5')\n",
    "\n",
    "model.summary() #앞에 학습시켰던 모든 정보를 확인할 수 있습니다.\n",
    "#파리미터(Param #)가 0인 경우는 이미지 축소 과정을 하느라 그런거임.."
   ]
  },
  {
   "cell_type": "code",
   "execution_count": 2,
   "metadata": {},
   "outputs": [],
   "source": [
    "\n",
    "n=5\n",
    "test_num = [[0]*n for _ in range(n)]\n",
    "\n",
    "#plt.imread든  cv2.imread든 이미지를 읽어오는 점은 똑같다.\n",
    "\n",
    "#test_num[0] = plt.imread('./model/minist_test/2.jpg') \n",
    "#test_num[1] = plt.imread('./model/minist_test/3.jpg')\n",
    "#test_num[2] = plt.imread('./model/minist_test/5.jpg')\n",
    "#test_num[3] = plt.imread('./model/minist_test/6.jpg')\n",
    "#test_num[4] = plt.imread('./model/minist_test/7.jpg')\n",
    "\n",
    "\n",
    "#test_num[0] = cv2.imread('./model/minist_test/2.jpg') \n",
    "#test_num[1] = cv2.imread('./model/minist_test/3.jpg')\n",
    "#test_num[2] = cv2.imread('./model/minist_test/5.jpg')\n",
    "#test_num[3] = cv2.imread('./model/minist_test/6.jpg')\n",
    "#test_num[4] = cv2.imread('./model/minist_test/7.jpg')\n",
    "\n",
    "\n",
    "test_num[0] = cv2.imread('./model/minist_test/2_white.png') \n",
    "test_num[1] = cv2.imread('./model/minist_test/3_white.png')\n",
    "test_num[2] = cv2.imread('./model/minist_test/5_white.png')\n",
    "test_num[3] = cv2.imread('./model/minist_test/6_white_re.png')\n",
    "test_num[4] = cv2.imread('./model/minist_test/7_white.png')\n",
    "\n",
    "\n"
   ]
  },
  {
   "cell_type": "code",
   "execution_count": 3,
   "metadata": {},
   "outputs": [
    {
     "data": {
      "image/png": "[encoded data removed]",
      "text/plain": [
       "<Figure size 432x288 with 1 Axes>"
      ]
     },
     "metadata": {
      "needs_background": "light"
     },
     "output_type": "display_data"
    },
    {
     "name": "stdout",
     "output_type": "stream",
     "text": [
      "WARNING:tensorflow:From <ipython-input-3-25d6ceb14e2d>:7: Sequential.predict_classes (from tensorflow.python.keras.engine.sequential) is deprecated and will be removed after 2021-01-01.\n",
      "Instructions for updating:\n",
      "Please use instead:* `np.argmax(model.predict(x), axis=-1)`,   if your model does multi-class classification   (e.g. if it uses a `softmax` last-layer activation).* `(model.predict(x) > 0.5).astype(\"int32\")`,   if your model does binary classification   (e.g. if it uses a `sigmoid` last-layer activation).\n",
      "The Answer 0 is [2]\n"
     ]
    },
    {
     "data": {
      "image/png": "[encoded data removed]",
      "text/plain": [
       "<Figure size 432x288 with 1 Axes>"
      ]
     },
     "metadata": {
      "needs_background": "light"
     },
     "output_type": "display_data"
    },
    {
     "name": "stdout",
     "output_type": "stream",
     "text": [
      "The Answer 1 is [3]\n"
     ]
    },
    {
     "data": {
      "image/png": "[encoded data removed]",
      "text/plain": [
       "<Figure size 432x288 with 1 Axes>"
      ]
     },
     "metadata": {
      "needs_background": "light"
     },
     "output_type": "display_data"
    },
    {
     "name": "stdout",
     "output_type": "stream",
     "text": [
      "The Answer 2 is [5]\n"
     ]
    },
    {
     "data": {
      "image/png": "[encoded data removed]",
      "text/plain": [
       "<Figure size 432x288 with 1 Axes>"
      ]
     },
     "metadata": {
      "needs_background": "light"
     },
     "output_type": "display_data"
    },
    {
     "name": "stdout",
     "output_type": "stream",
     "text": [
      "The Answer 3 is [3]\n"
     ]
    },
    {
     "data": {
      "image/png": "[encoded data removed]",
      "text/plain": [
       "<Figure size 432x288 with 1 Axes>"
      ]
     },
     "metadata": {
      "needs_background": "light"
     },
     "output_type": "display_data"
    },
    {
     "name": "stdout",
     "output_type": "stream",
     "text": [
      "The Answer 4 is [7]\n"
     ]
    }
   ],
   "source": [
    "for i in range(5):\n",
    "    test_num[i] = cv2.cvtColor(test_num[i], cv2.COLOR_BGR2GRAY) \n",
    "    #cv2.cvtColor : 색상을 흑백으로 바꿔준다. 이를 않을 경우 변형된(반전된) 컬러가 찍히단.\n",
    "    #따라서 cv2.cvtColor와  cv2.COLOR_BGR2GRAY를 통해 반전해주어서 하얀바탕에 검정글씨로 찍히도록 한다.\n",
    "    test_num[i] = cv2.bitwise_not(test_num[i])\n",
    "    plt.imshow(test_num[i], cmap='Greys');\n",
    "    plt.show()\n",
    "    test_num[i] = test_num[i].reshape(1,28,28,1).astype('float64') / 255\n",
    "    print('The Answer',i,'is',model.predict_classes(test_num[i]))"
   ]
  },
  {
   "cell_type": "code",
   "execution_count": null,
   "metadata": {},
   "outputs": [],
   "source": []
  }
 ],
 "metadata": {
  "kernelspec": {
   "display_name": "Python 3",
   "language": "python",
   "name": "python3"
  },
  "language_info": {
   "codemirror_mode": {
    "name": "ipython",
    "version": 3
   },
   "file_extension": ".py",
   "mimetype": "text/x-python",
   "name": "python",
   "nbconvert_exporter": "python",
   "pygments_lexer": "ipython3",
   "version": "3.7.9"
  }
 },
 "nbformat": 4,
 "nbformat_minor": 4
}
