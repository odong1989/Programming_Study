{
 "cells": [
  {
   "cell_type": "code",
   "execution_count": 1,
   "metadata": {},
   "outputs": [
    {
     "name": "stdout",
     "output_type": "stream",
     "text": [
      "WARNING:tensorflow:From C:\\ProgramData\\Anaconda3\\envs\\tf_2_3\\lib\\site-packages\\tensorflow\\python\\compat\\v2_compat.py:96: disable_resource_variables (from tensorflow.python.ops.variable_scope) is deprecated and will be removed in a future version.\n",
      "Instructions for updating:\n",
      "non-resource variables are not supported in the long term\n"
     ]
    }
   ],
   "source": [
    "import tensorflow.compat.v1 as tf\n",
    "tf.disable_v2_behavior()\n",
    "import numpy as np"
   ]
  },
  {
   "cell_type": "code",
   "execution_count": 2,
   "metadata": {},
   "outputs": [],
   "source": [
    "#실행할 때마다 같은 결과를 출력하기 위한 시드 값 설정\n",
    "seed=0\n",
    "np.random.seed(seed)\n",
    "tf.set_random_seed(seed)"
   ]
  },
  {
   "cell_type": "code",
   "execution_count": 3,
   "metadata": {},
   "outputs": [],
   "source": [
    "#x,y 데이터 값\n",
    "x_data = np.array([[0,0], [0,1], [1,0], [1,1] ], dtype=np.float32) \n",
    "y_data = np.array([[0],[1],[1],[1] ], dtype=np.float32)"
   ]
  },
  {
   "cell_type": "code",
   "execution_count": 4,
   "metadata": {},
   "outputs": [],
   "source": [
    "#입력값을 플레이스홀더에 실시.\n",
    "X = tf.placeholder(tf.float32, shape=[None, 2])\n",
    "Y = tf.placeholder(tf.float32, shape=[None, 1])\n",
    "W = tf.Variable(tf.random_uniform([2,1], dtype=tf.float32) )\n",
    "b = tf.Variable(tf.random_uniform([1], dtype=tf.float32) )"
   ]
  },
  {
   "cell_type": "code",
   "execution_count": 5,
   "metadata": {},
   "outputs": [],
   "source": [
    "#y 시그모이드 함수의 방정식을 세움.\n",
    "hypothesis = tf.sigmoid(-(tf.matmul(X, W) +b ))"
   ]
  },
  {
   "cell_type": "code",
   "execution_count": 6,
   "metadata": {},
   "outputs": [],
   "source": [
    "cost = -tf.reduce_mean(Y * tf.log(hypothesis) + (1-Y) * tf.log(1-hypothesis) )\n",
    "train = tf.train.GradientDescentOptimizer(learning_rate=0.1).minimize(cost)\n",
    "predicted = tf.cast(hypothesis>0.5, dtype=tf.float32 ) #결과값 나오는 small Y이다.\n",
    "accuracy =tf.reduce_mean(tf.cast(tf.equal(predicted, Y), dtype=tf.float32 )) #계산하기 좋게 0,1으로 변경한다"
   ]
  },
  {
   "cell_type": "code",
   "execution_count": 7,
   "metadata": {},
   "outputs": [
    {
     "name": "stdout",
     "output_type": "stream",
     "text": [
      "step: 0 cost: 0.8381313 W: [[-0.01210037]\n",
      " [-0.02474154]] b: [0.5012444]\n",
      "step: 1000 cost: 0.08810478 W: [[-4.056755]\n",
      " [-4.057573]] b: [1.4913199]\n",
      "step: 2000 cost: 0.04660115 W: [[-5.3852406]\n",
      " [-5.3854895]] b: [2.1965384]\n",
      "step: 3000 cost: 0.031315655 W: [[-6.201518 ]\n",
      " [-6.2016325]] b: [2.6179354]\n",
      "step: 4000 cost: 0.023484895 W: [[-6.7881246]\n",
      " [-6.7881927]] b: [2.9177063]\n",
      "step: 5000 cost: 0.018751824 W: [[-7.2450237]\n",
      " [-7.2450647]] b: [3.1499627]\n",
      "step: 6000 cost: 0.0155907 W: [[-7.618796 ]\n",
      " [-7.6188235]] b: [3.339351]\n",
      "step: 7000 cost: 0.013333542 W: [[-7.9348288]\n",
      " [-7.9348497]] b: [3.4991374]\n",
      "step: 8000 cost: 0.011642754 W: [[-8.208469]\n",
      " [-8.208486]] b: [3.6372712]\n",
      "step: 9000 cost: 0.010329789 W: [[-8.449676]\n",
      " [-8.44969 ]] b: [3.7588885]\n",
      "step: 10000 cost: 0.009281143 W: [[-8.665284]\n",
      " [-8.665297]] b: [3.8674989]\n",
      "\n",
      " Hypothesis : [[0.02048227]\n",
      " [0.9918195 ]\n",
      " [0.9918195 ]\n",
      " [0.9999987 ]] \n",
      " Correct (Y) : [[0.]\n",
      " [1.]\n",
      " [1.]\n",
      " [1.]] \n",
      " Accuracy: 1.0\n"
     ]
    }
   ],
   "source": [
    "#학습\n",
    "with tf.Session() as sess :\n",
    "    sess.run(tf.global_variables_initializer())\n",
    "\n",
    "    for step in range(10001) :\n",
    "        sess.run(train,feed_dict={X:x_data, Y:y_data} ) \n",
    "        if(step) % 1000 == 0 :\n",
    "            print(\"step:\",step,\"cost:\",sess.run(cost, feed_dict={X:x_data, Y:y_data}),\n",
    "                  \"W:\",sess.run(W),\"b:\",sess.run(b) )\n",
    "    #정확도 측정\n",
    "    h,c,a = sess.run( [hypothesis , predicted, accuracy], feed_dict= {X:x_data, Y:y_data} )\n",
    "    print(\"\\n Hypothesis :\", h ,\"\\n Correct (Y) :\", c, \"\\n Accuracy:\",a)"
   ]
  }
 ],
 "metadata": {
  "kernelspec": {
   "display_name": "Python 3",
   "language": "python",
   "name": "python3"
  },
  "language_info": {
   "codemirror_mode": {
    "name": "ipython",
    "version": 3
   },
   "file_extension": ".py",
   "mimetype": "text/x-python",
   "name": "python",
   "nbconvert_exporter": "python",
   "pygments_lexer": "ipython3",
   "version": "3.7.9"
  }
 },
 "nbformat": 4,
 "nbformat_minor": 4
}
