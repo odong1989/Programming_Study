{
 "cells": [
  {
   "cell_type": "code",
   "execution_count": 1,
   "metadata": {},
   "outputs": [],
   "source": [
    "import pandas as pd"
   ]
  },
  {
   "cell_type": "code",
   "execution_count": 2,
   "metadata": {},
   "outputs": [],
   "source": [
    "mushrooms =pd.read_csv(\"C:/sourceTree/DataScience/ICT/Py_Project/20201203_day34/mushrooms.csv\")\n",
    "#mushrooms\n",
    "# LabelEncoder - 열 단위로만 가능하므로 loop사용\n",
    "from sklearn.preprocessing import LabelEncoder\n",
    "labelencoder = LabelEncoder()\n",
    "for col in mushrooms.columns :\n",
    "    mushrooms[col] = labelencoder.fit_transform(mushrooms[col]) #열단위로 기존값들을 숫자로 바꿔줌.(1열씩 1열씩 문자->숫자변경)\n",
    "#mushrooms"
   ]
  },
  {
   "cell_type": "code",
   "execution_count": 3,
   "metadata": {},
   "outputs": [],
   "source": [
    "import matplotlib.pyplot as plt\n",
    "\n",
    "y = mushrooms['class'].values        # class 열만을 취함.\n",
    "x = mushrooms.drop(['class'],axis=1) # class 열을 제외한 나머지 모든열을 취함.\n",
    "x = x.values"
   ]
  },
  {
   "cell_type": "code",
   "execution_count": 4,
   "metadata": {},
   "outputs": [],
   "source": [
    "import tensorflow as tf\n",
    "from tensorflow.keras.models import Sequential\n",
    "from tensorflow.keras.layers import Dense\n",
    "from sklearn.model_selection import train_test_split\n",
    "import numpy as np"
   ]
  },
  {
   "cell_type": "code",
   "execution_count": 5,
   "metadata": {},
   "outputs": [
    {
     "name": "stdout",
     "output_type": "stream",
     "text": [
      "x_train.shape= (6499, 22)\n",
      "x_test.shape= (1625, 22)\n",
      "y_train.shape= (6499,)\n",
      "y_test.shape= (1625,)\n",
      "[1 0 0 0 0]\n"
     ]
    }
   ],
   "source": [
    "seed=0\n",
    "x_train, x_test, y_train, y_test = train_test_split(x,y, test_size=0.2, random_state=seed)\n",
    "print(\"x_train.shape=\",x_train.shape)\n",
    "print(\"x_test.shape=\",x_test.shape)\n",
    "print(\"y_train.shape=\",y_train.shape)\n",
    "print(\"y_test.shape=\",y_test.shape)\n",
    "print(y_test[0:5])"
   ]
  },
  {
   "cell_type": "code",
   "execution_count": 6,
   "metadata": {},
   "outputs": [],
   "source": [
    "#Binary를 multi-class로\n",
    "y_train = tf.keras.utils.to_categorical(y_train, num_classes=2)\n",
    "y_test = tf.keras.utils.to_categorical(y_test,num_classes=2)"
   ]
  },
  {
   "cell_type": "code",
   "execution_count": 7,
   "metadata": {},
   "outputs": [
    {
     "name": "stdout",
     "output_type": "stream",
     "text": [
      "(6499, 22)\n",
      "(6499, 2)\n",
      "[[0. 1.]\n",
      " [1. 0.]\n",
      " [1. 0.]\n",
      " [1. 0.]\n",
      " [1. 0.]]\n"
     ]
    }
   ],
   "source": [
    "###to_categorical로 이항->다항 변환후\n",
    "print(x_train.shape)\n",
    "print(y_train.shape)\n",
    "print(y_test[0:5])"
   ]
  },
  {
   "cell_type": "code",
   "execution_count": 8,
   "metadata": {},
   "outputs": [],
   "source": [
    "model = Sequential()\n",
    "model.add(Dense(48, input_dim=22, activation='relu'))\n",
    "model.add(Dense(24, activation='relu'))\n",
    "model.add(Dense(12, activation='relu'))\n",
    "model.add(Dense(2, activation='softmax'))"
   ]
  },
  {
   "cell_type": "code",
   "execution_count": 9,
   "metadata": {},
   "outputs": [
    {
     "name": "stdout",
     "output_type": "stream",
     "text": [
      "Epoch 1/25\n",
      "204/204 [==============================] - 0s 2ms/step - loss: 0.4198 - accuracy: 0.8190\n",
      "Epoch 2/25\n",
      "204/204 [==============================] - 0s 1ms/step - loss: 0.1947 - accuracy: 0.9306\n",
      "Epoch 3/25\n",
      "204/204 [==============================] - 0s 2ms/step - loss: 0.1237 - accuracy: 0.9529\n",
      "Epoch 4/25\n",
      "204/204 [==============================] - 0s 2ms/step - loss: 0.0749 - accuracy: 0.9765\n",
      "Epoch 5/25\n",
      "204/204 [==============================] - 0s 1ms/step - loss: 0.0446 - accuracy: 0.9889\n",
      "Epoch 6/25\n",
      "204/204 [==============================] - 0s 2ms/step - loss: 0.0252 - accuracy: 0.9940\n",
      "Epoch 7/25\n",
      "204/204 [==============================] - 0s 2ms/step - loss: 0.0166 - accuracy: 0.9965\n",
      "Epoch 8/25\n",
      "204/204 [==============================] - 0s 2ms/step - loss: 0.0107 - accuracy: 0.9982\n",
      "Epoch 9/25\n",
      "204/204 [==============================] - 0s 1ms/step - loss: 0.0072 - accuracy: 0.9988\n",
      "Epoch 10/25\n",
      "204/204 [==============================] - 0s 1ms/step - loss: 0.0046 - accuracy: 0.9992\n",
      "Epoch 11/25\n",
      "204/204 [==============================] - 0s 1ms/step - loss: 0.0030 - accuracy: 0.9997: 0s - loss: 0.0036 - accura\n",
      "Epoch 12/25\n",
      "204/204 [==============================] - 0s 1ms/step - loss: 0.0020 - accuracy: 1.0000\n",
      "Epoch 13/25\n",
      "204/204 [==============================] - 0s 1ms/step - loss: 0.0013 - accuracy: 1.0000\n",
      "Epoch 14/25\n",
      "204/204 [==============================] - 0s 2ms/step - loss: 0.0013 - accuracy: 1.0000\n",
      "Epoch 15/25\n",
      "204/204 [==============================] - 0s 2ms/step - loss: 0.0033 - accuracy: 0.9992\n",
      "Epoch 16/25\n",
      "204/204 [==============================] - 0s 1ms/step - loss: 7.6754e-04 - accuracy: 1.0000\n",
      "Epoch 17/25\n",
      "204/204 [==============================] - 0s 1ms/step - loss: 5.8840e-04 - accuracy: 1.0000\n",
      "Epoch 18/25\n",
      "204/204 [==============================] - 1s 3ms/step - loss: 3.3355e-04 - accuracy: 1.0000\n",
      "Epoch 19/25\n",
      "204/204 [==============================] - 0s 1ms/step - loss: 3.1480e-04 - accuracy: 1.0000\n",
      "Epoch 20/25\n",
      "204/204 [==============================] - 0s 1ms/step - loss: 2.9180e-04 - accuracy: 1.0000\n",
      "Epoch 21/25\n",
      "204/204 [==============================] - 0s 1ms/step - loss: 2.3645e-04 - accuracy: 1.0000\n",
      "Epoch 22/25\n",
      "204/204 [==============================] - 0s 2ms/step - loss: 1.9372e-04 - accuracy: 1.0000\n",
      "Epoch 23/25\n",
      "204/204 [==============================] - 0s 1ms/step - loss: 2.3279e-04 - accuracy: 1.0000\n",
      "Epoch 24/25\n",
      "204/204 [==============================] - 0s 2ms/step - loss: 0.0020 - accuracy: 0.9997\n",
      "Epoch 25/25\n",
      "204/204 [==============================] - 1s 3ms/step - loss: 0.0172 - accuracy: 0.9957\n"
     ]
    }
   ],
   "source": [
    "model.compile(loss='categorical_crossentropy', optimizer='adam', metrics=['accuracy'])\n",
    "history=model.fit(x_train, y_train, epochs=25, batch_size=32)"
   ]
  },
  {
   "cell_type": "code",
   "execution_count": 10,
   "metadata": {},
   "outputs": [
    {
     "name": "stdout",
     "output_type": "stream",
     "text": [
      "Model: \"sequential\"\n",
      "_________________________________________________________________\n",
      "Layer (type)                 Output Shape              Param #   \n",
      "=================================================================\n",
      "dense (Dense)                (None, 48)                1104      \n",
      "_________________________________________________________________\n",
      "dense_1 (Dense)              (None, 24)                1176      \n",
      "_________________________________________________________________\n",
      "dense_2 (Dense)              (None, 12)                300       \n",
      "_________________________________________________________________\n",
      "dense_3 (Dense)              (None, 2)                 26        \n",
      "=================================================================\n",
      "Total params: 2,606\n",
      "Trainable params: 2,606\n",
      "Non-trainable params: 0\n",
      "_________________________________________________________________\n"
     ]
    }
   ],
   "source": [
    "model.summary()"
   ]
  },
  {
   "cell_type": "code",
   "execution_count": 11,
   "metadata": {},
   "outputs": [
    {
     "name": "stdout",
     "output_type": "stream",
     "text": [
      " 1/51 [..............................] - ETA: 0s - loss: 3.9765e-04 - accuracy: 1.0000WARNING:tensorflow:Callbacks method `on_test_batch_end` is slow compared to the batch time (batch time: 0.0000s vs `on_test_batch_end` time: 0.0010s). Check your callbacks.\n",
      "51/51 [==============================] - 0s 902us/step - loss: 7.9828e-04 - accuracy: 1.0000\n"
     ]
    },
    {
     "data": {
      "text/plain": [
       "[0.0007982789538800716, 1.0]"
      ]
     },
     "execution_count": 11,
     "metadata": {},
     "output_type": "execute_result"
    }
   ],
   "source": [
    "model.evaluate(x_test,y_test)"
   ]
  }
 ],
 "metadata": {
  "kernelspec": {
   "display_name": "Python 3",
   "language": "python",
   "name": "python3"
  },
  "language_info": {
   "codemirror_mode": {
    "name": "ipython",
    "version": 3
   },
   "file_extension": ".py",
   "mimetype": "text/x-python",
   "name": "python",
   "nbconvert_exporter": "python",
   "pygments_lexer": "ipython3",
   "version": "3.7.9"
  }
 },
 "nbformat": 4,
 "nbformat_minor": 4
}
