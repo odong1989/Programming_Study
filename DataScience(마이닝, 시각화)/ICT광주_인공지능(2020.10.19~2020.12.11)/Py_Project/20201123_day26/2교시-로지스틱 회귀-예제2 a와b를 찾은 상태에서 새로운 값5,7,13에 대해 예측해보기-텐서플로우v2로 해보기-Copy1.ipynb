{
 "cells": [
  {
   "cell_type": "code",
   "execution_count": 1,
   "metadata": {},
   "outputs": [],
   "source": [
    "import tensorflow as tf\n",
    "import numpy as np"
   ]
  },
  {
   "cell_type": "code",
   "execution_count": 2,
   "metadata": {},
   "outputs": [],
   "source": [
    "#x,y의 데이터 값\n",
    "data=[[2,0], [4,0], [6,0], [8,1], [10,1], [12,1], [14,1]] # [[공부시간1,합격여부(합격=1) ],[공부시간2,합격여부(합격=1) ]...]\n",
    "x_data = [x_row[0] for x_row in data]\n",
    "y_data = [y_row[1] for y_row in data]"
   ]
  },
  {
   "cell_type": "code",
   "execution_count": 3,
   "metadata": {},
   "outputs": [],
   "source": [
    "a      = tf.Variable(tf.random.normal([1], dtype=tf.float64, seed=0 ))\n",
    "b      = tf.Variable(tf.random.normal([1], dtype=tf.float64, seed=0 ))"
   ]
  },
  {
   "cell_type": "code",
   "execution_count": 4,
   "metadata": {},
   "outputs": [],
   "source": [
    "def hypothesis(a,b):\n",
    "    #가설\n",
    "    return 1/(1 + np.e** -(a * x_data + b) )\n",
    "\n",
    "def cost(w,b):\n",
    "    #손실을 계산하는 함수.\n",
    "    return -tf.reduce_mean(np.array(y_data) * tf.math.log(hypothesis(a,b))\n",
    "            +(1 -np.array(y_data)) * tf.math.log(1- hypothesis(a,b)) )\n",
    "\n",
    "\n",
    "def costFunc():#minimize에서 사용 손실(비용)함수\n",
    "    return -tf.reduce_mean(np.array(y_data) * tf.math.log(hypothesis(a,b))\n",
    "            +(1 -np.array(y_data)) * tf.math.log(1- hypothesis(a,b)) )\n",
    "\n",
    "\n",
    "#loss를 최소로 하는 값 구하기 & #학습률 값\n",
    "opt = tf.keras.optimizers.SGD(learning_rate=0.5)"
   ]
  },
  {
   "cell_type": "code",
   "execution_count": null,
   "metadata": {},
   "outputs": [
    {
     "name": "stdout",
     "output_type": "stream",
     "text": [
      "0 4.199030941448979, [2.45719506], [-0.03358081]\n",
      "6000 0.01516909509106098, [2.92268135], [-20.30933691]\n",
      "12000 0.008063038533778466, [3.56459439], [-24.8069916]\n"
     ]
    }
   ],
   "source": [
    "#학습\n",
    "for i in range(60001) :\n",
    "    opt.minimize(costFunc, var_list=[a,b])\n",
    "    if i % 6000 == 0 :\n",
    "        print(i, f'{cost(a,b)}, {a.numpy()}, {b.numpy()}' )"
   ]
  },
  {
   "cell_type": "code",
   "execution_count": null,
   "metadata": {},
   "outputs": [],
   "source": [
    "   #새로운값 5,7,13에 대한 분석결과를 출력하도록 한다.\n",
    "    if i % 60000 ==0 and i != 0 :\n",
    "        new_x_data=5              \n",
    "        y_test = 1/(1 + np.e** -(w * new_x_data + b) ) \n",
    "        print(\"y_test : \", y_test )             #y_test :  [3.88235153e-05] 의 의미는 합격률=0.0003, 거의 불합격이란애기.              \n",
    "        print(\"y_test[0] : \", y_test[0] )\n",
    "\n",
    "        new_x_data=7\n",
    "        y_test = 1/(1 + np.e** -(w * new_x_data + b) ) \n",
    "        print(\"y_test : \", y_test )\n",
    "        print(\"y_test[0] : \", y_test[0] )\n",
    "\n",
    "        new_x_data=13\n",
    "        y_test = 1/(1 + np.e** -(w * new_x_data + b) ) \n",
    "        print(\"y_test : \", y_test )\n",
    "        print(\"y_test[0] : \", y_test[0] )\n",
    "        print(\"\")\n",
    "        print(\"y_test :\",y_test)\n",
    "            "
   ]
  }
 ],
 "metadata": {
  "kernelspec": {
   "display_name": "Python 3",
   "language": "python",
   "name": "python3"
  },
  "language_info": {
   "codemirror_mode": {
    "name": "ipython",
    "version": 3
   },
   "file_extension": ".py",
   "mimetype": "text/x-python",
   "name": "python",
   "nbconvert_exporter": "python",
   "pygments_lexer": "ipython3",
   "version": "3.7.9"
  }
 },
 "nbformat": 4,
 "nbformat_minor": 4
}
