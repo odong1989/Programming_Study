{
 "cells": [
  {
   "cell_type": "code",
   "execution_count": 1,
   "metadata": {},
   "outputs": [],
   "source": [
    "import tensorflow as tf\n",
    "import numpy as np"
   ]
  },
  {
   "cell_type": "code",
   "execution_count": 2,
   "metadata": {},
   "outputs": [],
   "source": [
    "#실행할 때마다 같은 결과를 출력하기 위한 시드 값 설정\n",
    "seed=0\n",
    "np.random.seed(seed)\n",
    "tf.random.set_seed(seed)"
   ]
  },
  {
   "cell_type": "code",
   "execution_count": 3,
   "metadata": {},
   "outputs": [],
   "source": [
    "#x,y 데이터 값\n",
    "x_data = np.array([[2,3], [4,3], [6,4], [8,6], [10,7], [12,8], [14,9]], dtype=np.float32) #[[공부시간1,과외수1],[공부시간2,과외수2] ... ]\n",
    "y_data = np.array([0,0,0,1,1,1,1], dtype=np.float32).reshape(7,1) #합격여부"
   ]
  },
  {
   "cell_type": "code",
   "execution_count": 4,
   "metadata": {},
   "outputs": [],
   "source": [
    "W = tf.Variable(tf.random.uniform([2,1], dtype=tf.float32) )\n",
    "b = tf.Variable(tf.random.uniform([1], dtype=tf.float32) )"
   ]
  },
  {
   "cell_type": "code",
   "execution_count": 5,
   "metadata": {},
   "outputs": [],
   "source": [
    "def hypothesis(W,b) :\n",
    "    return tf.sigmoid(-(tf.matmul(x_data, W) +b) )\n",
    "\n",
    "def costFunc() :\n",
    "    return - tf.reduce_mean(y_data * tf.math.log(hypothesis(W,b)) \n",
    "                            + (1-y_data) * tf.math.log(1-hypothesis(W,b)) )\n",
    "\n",
    "def cost(W,b) :\n",
    "    return - tf.reduce_mean(y_data *tf.math.log(hypothesis(W,b))\n",
    "                           + (1-y_data) * tf.math.log(1-hypothesis(W,b)) )"
   ]
  },
  {
   "cell_type": "code",
   "execution_count": 6,
   "metadata": {},
   "outputs": [],
   "source": [
    "opt = tf.keras.optimizers.SGD(learning_rate=0.1)"
   ]
  },
  {
   "cell_type": "code",
   "execution_count": 7,
   "metadata": {},
   "outputs": [
    {
     "name": "stdout",
     "output_type": "stream",
     "text": [
      "epochs=0, cost=0.7385315299034119, W1=-0.32010728120803833, W2=-0.20691928267478943,b=[0.50261587]\n",
      "epochs=100, cost=0.33076950907707214, W1=-0.5283777117729187, W2=0.29896992444992065,b=[1.5932477]\n",
      "epochs=200, cost=0.27307024598121643, W1=-0.6717134714126587, W2=0.36956843733787537,b=[2.3320446]\n",
      "epochs=300, cost=0.23750421404838562, W1=-0.7296363711357117, W2=0.3432748019695282,b=[2.9240158]\n",
      "epochs=400, cost=0.2116539180278778, W1=-0.74824059009552, W2=0.2764214873313904,b=[3.4273112]\n",
      "epochs=500, cost=0.19140687584877014, W1=-0.7458232045173645, W2=0.1905982941389084,b=[3.8688357]\n",
      "epochs=600, cost=0.17487765848636627, W1=-0.7313019037246704, W2=0.09590532630681992,b=[4.263859]\n",
      "epochs=700, cost=0.16102410852909088, W1=-0.7095859050750732, W2=-0.0023617642000317574,b=[4.6221476]\n",
      "epochs=800, cost=0.14919829368591309, W1=-0.6835943460464478, W2=-0.1012367382645607,b=[4.950458]\n",
      "epochs=900, cost=0.13896444439888, W1=-0.6551514863967896, W2=-0.19899895787239075,b=[5.253712]\n",
      "epochs=1000, cost=0.13001248240470886, W1=-0.6254356503486633, W2=-0.2946415841579437,b=[5.535643]\n",
      "epochs=1100, cost=0.1221126988530159, W1=-0.5952234864234924, W2=-0.3875865042209625,b=[5.7991667]\n",
      "epochs=1200, cost=0.11508963257074356, W1=-0.5650324821472168, W2=-0.477521151304245,b=[6.046616]\n",
      "epochs=1300, cost=0.10880596935749054, W1=-0.5352082252502441, W2=-0.5643008351325989,b=[6.2798924]\n",
      "epochs=1400, cost=0.10315226018428802, W1=-0.5059784650802612, W2=-0.647889256477356,b=[6.500567]\n",
      "epochs=1500, cost=0.09803996235132217, W1=-0.47749051451683044, W2=-0.7283188700675964,b=[6.7099576]\n",
      "epochs=1600, cost=0.0933963879942894, W1=-0.4498353898525238, W2=-0.8056658506393433,b=[6.9091816]\n",
      "epochs=1700, cost=0.08916119486093521, W1=-0.4230653643608093, W2=-0.8800333738327026,b=[7.0992017]\n",
      "epochs=1800, cost=0.0852840468287468, W1=-0.39720359444618225, W2=-0.9515404105186462,b=[7.2808385]\n",
      "epochs=1900, cost=0.08172233402729034, W1=-0.3722541034221649, W2=-1.0203138589859009,b=[7.454811]\n",
      "epochs=2000, cost=0.0784401223063469, W1=-0.34820765256881714, W2=-1.0864838361740112,b=[7.621749]\n",
      "epochs=2100, cost=0.0754062756896019, W1=-0.3250441551208496, W2=-1.1501816511154175,b=[7.7822056]\n",
      "epochs=2200, cost=0.07259439677000046, W1=-0.30273956060409546, W2=-1.2115322351455688,b=[7.9366703]\n",
      "epochs=2300, cost=0.06998142600059509, W1=-0.2812642753124237, W2=-1.270659327507019,b=[8.085582]\n",
      "epochs=2400, cost=0.06754749268293381, W1=-0.26058581471443176, W2=-1.3276808261871338,b=[8.229325]\n",
      "epochs=2500, cost=0.06527509540319443, W1=-0.24067147076129913, W2=-1.38270902633667,b=[8.368255]\n",
      "epochs=2600, cost=0.06314895302057266, W1=-0.22148744761943817, W2=-1.4358505010604858,b=[8.502683]\n",
      "epochs=2700, cost=0.06115564703941345, W1=-0.20299986004829407, W2=-1.4872061014175415,b=[8.632893]\n",
      "epochs=2800, cost=0.059283338487148285, W1=-0.18517622351646423, W2=-1.536871075630188,b=[8.759149]\n",
      "epochs=2900, cost=0.057521481066942215, W1=-0.1679845154285431, W2=-1.5849344730377197,b=[8.881681]\n",
      "epochs=3000, cost=0.0558607243001461, W1=-0.15139389038085938, W2=-1.6314802169799805,b=[9.000708]\n"
     ]
    }
   ],
   "source": [
    "for i in range(3001) : \n",
    "    opt.minimize(costFunc, var_list=[W,b])\n",
    "    if i % 100 == 0 :\n",
    "        print(f'epochs={i}, cost={cost(W,b)}, W1={W.numpy()[0,0]}, W2={W.numpy()[1,0]},b={b.numpy()}' )"
   ]
  },
  {
   "cell_type": "code",
   "execution_count": 9,
   "metadata": {},
   "outputs": [
    {
     "name": "stdout",
     "output_type": "stream",
     "text": [
      "============================\n",
      "W= [[-0.15139389]\n",
      " [-1.6314802 ]]\n",
      "b= [9.000708]\n",
      "sigmoid= [[0.0218069 ]\n",
      " [0.02929255]\n",
      " [0.17272684]\n",
      " [0.88072616]\n",
      " [0.98080254]\n",
      " [0.9971791 ]\n",
      " [0.9995913 ]]\n",
      "\n",
      "Accturacy=1.0000\n"
     ]
    }
   ],
   "source": [
    "print(\"============================\")\n",
    "print(\"W=\",W.numpy())\n",
    "print(\"b=\",b.numpy())\n",
    "print(\"sigmoid=\",hypothesis(W,b).numpy() )\n",
    "print()\n",
    "print(\"Accturacy=%.4f\"%(sum((y_data == (hypothesis(W,b).numpy()>0.5)).flatten()/ len(y_data) )))"
   ]
  },
  {
   "cell_type": "code",
   "execution_count": null,
   "metadata": {
    "scrolled": false
   },
   "outputs": [],
   "source": []
  },
  {
   "cell_type": "code",
   "execution_count": null,
   "metadata": {},
   "outputs": [],
   "source": []
  }
 ],
 "metadata": {
  "kernelspec": {
   "display_name": "Python 3",
   "language": "python",
   "name": "python3"
  },
  "language_info": {
   "codemirror_mode": {
    "name": "ipython",
    "version": 3
   },
   "file_extension": ".py",
   "mimetype": "text/x-python",
   "name": "python",
   "nbconvert_exporter": "python",
   "pygments_lexer": "ipython3",
   "version": "3.7.9"
  }
 },
 "nbformat": 4,
 "nbformat_minor": 4
}
