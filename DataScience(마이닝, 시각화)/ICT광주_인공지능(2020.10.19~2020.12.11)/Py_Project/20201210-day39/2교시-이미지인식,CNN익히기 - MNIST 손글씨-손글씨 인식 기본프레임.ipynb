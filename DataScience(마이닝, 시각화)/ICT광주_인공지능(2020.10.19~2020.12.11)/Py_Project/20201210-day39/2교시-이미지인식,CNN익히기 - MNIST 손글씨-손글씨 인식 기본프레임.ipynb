{
 "cells": [
  {
   "cell_type": "code",
   "execution_count": 1,
   "metadata": {},
   "outputs": [],
   "source": [
    "#데이터 전처리\n",
    "from tensorflow.keras.datasets import mnist\n",
    "from tensorflow.keras.models import Sequential\n",
    "from tensorflow.keras.layers import Dense\n",
    "from tensorflow.keras.callbacks import ModelCheckpoint,EarlyStopping\n",
    "\n",
    "import os\n",
    "import matplotlib.pyplot as plt\n",
    "import numpy as np\n",
    "import sys\n",
    "import tensorflow as tf\n",
    "\n",
    "seed = 0\n",
    "np.random.seed(seed)\n",
    "tf.random.set_seed(seed)"
   ]
  },
  {
   "cell_type": "code",
   "execution_count": 2,
   "metadata": {},
   "outputs": [
    {
     "name": "stdout",
     "output_type": "stream",
     "text": [
      "학습셋 이미지 수 : 60000 개\n",
      "테스트셋 이미지수 : 10000 개\n"
     ]
    }
   ],
   "source": [
    "#MNIST 데이터셋 불러오기\n",
    "(X_train, Y_class_train), (X_test, Y_class_test) = mnist.load_data()\n",
    "\n",
    "print(\"학습셋 이미지 수 : %d 개\" % (X_train.shape[0]) )\n",
    "print(\"테스트셋 이미지수 : %d 개\"% (X_test.shape[0]) )\n"
   ]
  },
  {
   "cell_type": "code",
   "execution_count": 3,
   "metadata": {},
   "outputs": [],
   "source": [
    "#차원 변환 과정\n",
    "X_train = X_train.reshape(X_train.shape[0], 784).astype('float32') / 255\n",
    "\n",
    "X_test = X_test.reshape(X_test.shape[0], 784).astype('float32' )/ 255\n"
   ]
  },
  {
   "cell_type": "code",
   "execution_count": 4,
   "metadata": {},
   "outputs": [],
   "source": [
    "Y_train = tf.keras.utils.to_categorical(Y_class_train,10)\n",
    "Y_test = tf.keras.utils.to_categorical(Y_class_test,10)"
   ]
  },
  {
   "cell_type": "code",
   "execution_count": 5,
   "metadata": {},
   "outputs": [],
   "source": [
    "model = Sequential()\n",
    "model.add(Dense(512, input_dim=784, activation='relu'))\n",
    "model.add(Dense(10,activation='softmax'))"
   ]
  },
  {
   "cell_type": "code",
   "execution_count": 6,
   "metadata": {},
   "outputs": [],
   "source": [
    "model.compile(loss='categorical_crossentropy',\n",
    "              optimizer='adam',\n",
    "              metrics=['accuracy'])"
   ]
  },
  {
   "cell_type": "code",
   "execution_count": 7,
   "metadata": {},
   "outputs": [
    {
     "name": "stdout",
     "output_type": "stream",
     "text": [
      "\n",
      "Epoch 00001: val_loss improved from inf to 0.15295, saving model to ./model\\01-0.1529.hdf5\n",
      "\n",
      "Epoch 00002: val_loss improved from 0.15295 to 0.10529, saving model to ./model\\02-0.1053.hdf5\n",
      "\n",
      "Epoch 00003: val_loss improved from 0.10529 to 0.08126, saving model to ./model\\03-0.0813.hdf5\n",
      "\n",
      "Epoch 00004: val_loss improved from 0.08126 to 0.07529, saving model to ./model\\04-0.0753.hdf5\n",
      "\n",
      "Epoch 00005: val_loss improved from 0.07529 to 0.06790, saving model to ./model\\05-0.0679.hdf5\n",
      "\n",
      "Epoch 00006: val_loss improved from 0.06790 to 0.06750, saving model to ./model\\06-0.0675.hdf5\n",
      "\n",
      "Epoch 00007: val_loss improved from 0.06750 to 0.06143, saving model to ./model\\07-0.0614.hdf5\n",
      "\n",
      "Epoch 00008: val_loss did not improve from 0.06143\n",
      "\n",
      "Epoch 00009: val_loss improved from 0.06143 to 0.06033, saving model to ./model\\09-0.0603.hdf5\n",
      "\n",
      "Epoch 00010: val_loss did not improve from 0.06033\n",
      "\n",
      "Epoch 00011: val_loss did not improve from 0.06033\n",
      "\n",
      "Epoch 00012: val_loss did not improve from 0.06033\n",
      "\n",
      "Epoch 00013: val_loss did not improve from 0.06033\n",
      "\n",
      "Epoch 00014: val_loss improved from 0.06033 to 0.05914, saving model to ./model\\14-0.0591.hdf5\n",
      "\n",
      "Epoch 00015: val_loss did not improve from 0.05914\n",
      "\n",
      "Epoch 00016: val_loss did not improve from 0.05914\n",
      "\n",
      "Epoch 00017: val_loss did not improve from 0.05914\n",
      "\n",
      "Epoch 00018: val_loss did not improve from 0.05914\n",
      "\n",
      "Epoch 00019: val_loss did not improve from 0.05914\n",
      "\n",
      "Epoch 00020: val_loss did not improve from 0.05914\n",
      "\n",
      "Epoch 00021: val_loss did not improve from 0.05914\n",
      "\n",
      "Epoch 00022: val_loss did not improve from 0.05914\n",
      "\n",
      "Epoch 00023: val_loss did not improve from 0.05914\n",
      "\n",
      "Epoch 00024: val_loss did not improve from 0.05914\n",
      "313/313 [==============================] - 0s 1ms/step - loss: 0.0680 - accuracy: 0.9834\n",
      "\n",
      " Test Accuracy : 0.9834\n"
     ]
    }
   ],
   "source": [
    "MODEL_DIR ='./model'\n",
    "if not os.path.exists(MODEL_DIR):\n",
    "    os.mkdir(MODEL_DIR)\n",
    "    \n",
    "modelpath=\"./model/{epoch:02d}-{val_loss:.4f}.hdf5\"\n",
    "checkpointer = ModelCheckpoint(filepath=modelpath, monitor='val_loss', verbose=1,save_best_only=True)\n",
    "early_stopping_callback = EarlyStopping(monitor='val_loss',patience=10)\n",
    "\n",
    "history = model.fit(X_train, Y_train, validation_data=(X_test,Y_test), epochs=30,\n",
    "batch_size=200, verbose=0, callbacks=[early_stopping_callback,checkpointer])\n",
    "\n",
    "print(\"\\n Test Accuracy : %.4f\" % (model.evaluate(X_test,Y_test) [1] ))"
   ]
  },
  {
   "cell_type": "code",
   "execution_count": 8,
   "metadata": {},
   "outputs": [
    {
     "data": {
      "image/png": "[encoded data removed]",
      "text/plain": [
       "<Figure size 432x288 with 1 Axes>"
      ]
     },
     "metadata": {
      "needs_background": "light"
     },
     "output_type": "display_data"
    }
   ],
   "source": [
    "y_vloss = history.history['val_loss']\n",
    "\n",
    "y_loss  = history.history['loss']\n",
    "\n",
    "x_len = np.arange(len(y_loss))\n",
    "plt.plot(x_len, y_vloss, marker='.', c=\"red\", label=\"Testset_loss\")\n",
    "plt.plot(x_len, y_vloss, marker='.', c=\"blue\", label=\"Trainset_loss\")\n",
    "\n",
    "plt.legend(loc='upper right')\n",
    "\n",
    "plt.grid()\n",
    "plt.xlabel('epoch')\n",
    "plt.ylabel('loss')\n",
    "plt.show()"
   ]
  },
  {
   "cell_type": "code",
   "execution_count": 10,
   "metadata": {},
   "outputs": [],
   "source": [
    "model.save('./model/my_model_cnn.h5')#최종학습결과를 모델"
   ]
  },
  {
   "cell_type": "code",
   "execution_count": null,
   "metadata": {},
   "outputs": [],
   "source": []
  }
 ],
 "metadata": {
  "kernelspec": {
   "display_name": "Python 3",
   "language": "python",
   "name": "python3"
  },
  "language_info": {
   "codemirror_mode": {
    "name": "ipython",
    "version": 3
   },
   "file_extension": ".py",
   "mimetype": "text/x-python",
   "name": "python",
   "nbconvert_exporter": "python",
   "pygments_lexer": "ipython3",
   "version": "3.7.9"
  }
 },
 "nbformat": 4,
 "nbformat_minor": 4
}
