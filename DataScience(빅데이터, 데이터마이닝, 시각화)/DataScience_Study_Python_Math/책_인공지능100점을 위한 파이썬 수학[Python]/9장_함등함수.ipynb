{
  "nbformat": 4,
  "nbformat_minor": 0,
  "metadata": {
    "colab": {
      "name": "9장_함등함수.ipynb",
      "provenance": [],
      "collapsed_sections": []
    },
    "kernelspec": {
      "name": "python3",
      "display_name": "Python 3"
    }
  },
  "cells": [
    {
      "cell_type": "code",
      "metadata": {
        "id": "9qfOuLPdOrm3"
      },
      "source": [
        "#9,1 항등함수\r\n",
        "def identity_function(x):\r\n",
        "  return x"
      ],
      "execution_count": 1,
      "outputs": []
    },
    {
      "cell_type": "code",
      "metadata": {
        "id": "D53EHQvRPRo3"
      },
      "source": [
        "#9.2 비례확률함수\r\n",
        "import numpy as np\r\n",
        "def mean_probabilaty(x):\r\n",
        "  x=x.T\r\n",
        "  return(x/np.sum(x, axis=0)).T"
      ],
      "execution_count": 2,
      "outputs": []
    },
    {
      "cell_type": "code",
      "metadata": {
        "colab": {
          "base_uri": "https://localhost:8080/"
        },
        "id": "YNhL1rwYRwka",
        "outputId": "79ace398-c9af-4bc3-e0f6-a798f0ee7b1c"
      },
      "source": [
        "y = np.array([[1,1,3,0,0,0,1,0,0,4], [2,2,5,1,0,0,5,0,1,4]])\r\n",
        "print(mean_probabilaty(y))"
      ],
      "execution_count": 3,
      "outputs": [
        {
          "output_type": "stream",
          "text": [
            "[[0.1  0.1  0.3  0.   0.   0.   0.1  0.   0.   0.4 ]\n",
            " [0.1  0.1  0.25 0.05 0.   0.   0.25 0.   0.05 0.2 ]]\n"
          ],
          "name": "stdout"
        }
      ]
    },
    {
      "cell_type": "code",
      "metadata": {
        "id": "UfrdqXdgTAgX"
      },
      "source": [
        "#9.3스프트맥스 함수\r\n",
        "def softmax(X):\r\n",
        "  X = X.T - np.max(X.T, axis=0)\r\n",
        "  return (np.exp(X) / np.sum(np.exp(X), axis=0)).T"
      ],
      "execution_count": 4,
      "outputs": []
    },
    {
      "cell_type": "code",
      "metadata": {
        "colab": {
          "base_uri": "https://localhost:8080/"
        },
        "id": "cGZa7zMCTpSa",
        "outputId": "4818aba0-57cd-4108-c8f5-d68857aec0ac"
      },
      "source": [
        "softmax(np.array([[1,1,2,4,6,0,0,0,0,0]]))"
      ],
      "execution_count": 5,
      "outputs": [
        {
          "output_type": "execute_result",
          "data": {
            "text/plain": [
              "array([[0.00571245, 0.00571245, 0.01552804, 0.11473753, 0.84780208,\n",
              "        0.00210149, 0.00210149, 0.00210149, 0.00210149, 0.00210149]])"
            ]
          },
          "metadata": {
            "tags": []
          },
          "execution_count": 5
        }
      ]
    },
    {
      "cell_type": "code",
      "metadata": {
        "id": "lZ8XQkJ0T1mI"
      },
      "source": [
        ""
      ],
      "execution_count": null,
      "outputs": []
    }
  ]
}