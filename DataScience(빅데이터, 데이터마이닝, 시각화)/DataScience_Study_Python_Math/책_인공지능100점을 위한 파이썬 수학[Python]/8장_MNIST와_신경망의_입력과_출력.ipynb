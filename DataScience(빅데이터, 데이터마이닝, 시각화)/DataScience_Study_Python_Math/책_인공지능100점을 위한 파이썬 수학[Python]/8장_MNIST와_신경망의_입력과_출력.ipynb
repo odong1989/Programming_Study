{
  "nbformat": 4,
  "nbformat_minor": 0,
  "metadata": {
    "colab": {
      "name": "8장_MNIST와 신경망의 입력과 출력.ipynb",
      "provenance": [],
      "collapsed_sections": []
    },
    "kernelspec": {
      "name": "python3",
      "display_name": "Python 3"
    }
  },
  "cells": [
    {
      "cell_type": "code",
      "metadata": {
        "id": "xlLnXxTFvIOA"
      },
      "source": [
        "#8.4 행렬계산을 위한 파이썬 코드|"
      ],
      "execution_count": 1,
      "outputs": []
    },
    {
      "cell_type": "code",
      "metadata": {
        "id": "KQExBH8-wCN3"
      },
      "source": [
        "#8.4 행렬계산을 위한 파이썬 코드_1\r\n",
        "import numpy as np\r\n",
        "from numpy.linalg import inv\r\n",
        "\r\n",
        "A=np.array([[1,1],\r\n",
        "           [2,3]])\r\n",
        "\r\n",
        "B=np.array([[1100],\r\n",
        "           [2800]])\r\n",
        "\r\n",
        "invA = inv(A)\r\n",
        "print(np.dot(invA, B))"
      ],
      "execution_count": null,
      "outputs": []
    },
    {
      "cell_type": "code",
      "metadata": {
        "id": "WRmwGugjw6ZL"
      },
      "source": [
        "#8.4 행렬계산을 위한 파이썬 코드_2\r\n",
        "import numpy as np\r\n",
        "\r\n",
        "A = np.array([[1,1],\r\n",
        "              [2,3]])\r\n",
        "B = np.array([[1100],\r\n",
        "             [2800]])\r\n",
        "\r\n",
        "invA = np.linalg.inv(A)\r\n",
        "print(np.dot(invA,B))"
      ],
      "execution_count": null,
      "outputs": []
    },
    {
      "cell_type": "code",
      "metadata": {
        "id": "d8GDm7hdx7kD"
      },
      "source": [
        "#8.4 행렬계산을 위한 파이썬 코드_3\r\n",
        "import numpy as np\r\n",
        "from numpy.linalg import inv\r\n",
        "\r\n",
        "A = np.array([[1,1,1,1],\r\n",
        "              [5,2,4,7],\r\n",
        "              [0,1,1,2],\r\n",
        "              [5,2,2,3]])\r\n",
        "\r\n",
        "\r\n",
        "B = np.array([[2350],\r\n",
        "              [10600],\r\n",
        "              [2450],\r\n",
        "              [6800]])\r\n",
        "\r\n",
        "invA = inv(A)\r\n",
        "print(np.dot(invA, B))"
      ],
      "execution_count": null,
      "outputs": []
    },
    {
      "cell_type": "code",
      "metadata": {
        "id": "lWhYf5RKy-wq"
      },
      "source": [
        "#8.4 행렬계산을 위한 파이썬 코드_4\r\n",
        "#전치행렬을 만드는 방법\r\n",
        "import numpy as np\r\n",
        "\r\n",
        "#(1)행렬을 만들고\r\n",
        "A = np.array([[1,1],\r\n",
        "              [2,3]])\r\n",
        "\r\n",
        "print(\"A = \\n\",A)\r\n",
        "print(\"A.T =\\n\",A.T) #(2)행렬이름의 뒤에 .T를 붙인다"
      ],
      "execution_count": null,
      "outputs": []
    },
    {
      "cell_type": "code",
      "metadata": {
        "colab": {
          "base_uri": "https://localhost:8080/"
        },
        "id": "vTKmWJ7-0Cj2",
        "outputId": "090702b8-75e2-4655-ecc7-8ed139d9a0a1"
      },
      "source": [
        "#8.6 무작위 데이터로 신경망함수 만들기\r\n",
        "#(8.5는 이론설명으로 생략)\r\n",
        "\r\n",
        "#1.keras에서 mnist데이터 읽어오기\r\n",
        "import numpy as np\r\n",
        "from keras.datasets import mnist\r\n",
        "(x_train,y_train),(x_test,y_test) = mnist.load_data()\r\n",
        "\r\n",
        "#데이터 포멧은 60000, 28,28 / 10000, 28, 28\r\n",
        "#데이터를 28x28에서 784으로 변경\r\n",
        "x_train = x_train.reshape(60000,784)\r\n",
        "x_test = x_test.reshape(10000, 784)\r\n",
        "\r\n",
        "#2.Hidden layer : W,b 초기화 [W1, W2, B1, B2]\r\n",
        "def init_mnistbw2(layer_x, layer_h, layer_y):\r\n",
        "  matrix_nn = {}\r\n",
        "  matrix_nn = dict(B1=np.random.rand(layer_h),\r\n",
        "                   B2=np.random.rand(layer_y),\r\n",
        "                   W1=np.random.rand(layer_x,layer_h),\r\n",
        "                   W2=np.random.rand(layer_h,layer_y)\r\n",
        "                  )\r\n",
        "  return matrix_nn\r\n",
        "\r\n",
        "\r\n",
        "#3.활성함수\r\n",
        "def sigmoid(x):\r\n",
        "    return 1 / (1+np.exp(-x))\r\n",
        "    \r\n",
        "#4.소프트맥스\r\n",
        "def softmax(X):\r\n",
        "    X = X.T - np.max(X.T, axis=0)\r\n",
        "    return (np.exp(X) / np.sum(np.exp(X), axis=0)).T\r\n",
        "\r\n",
        "#5.predict\r\n",
        "def predict(X):\r\n",
        "  A=sigmoid(np.dot(X,W1)+B1)\r\n",
        "  B=sigmoid(np.dot(A,W2)+B2)\r\n",
        "  return softmax(B)  \r\n",
        "\r\n",
        "\r\n",
        "\r\n",
        "#6.process\r\n",
        "#ibw = init_mnistbw2(784,50,10)\r\n",
        "#W1,W2,B1,B2 = ibw['W1'],ibw['W2'],ibw['B1'],ibw['B2']\r\n",
        "#accuracy=0\r\n",
        "\r\n",
        "#for i in range(len(x_test)) : #10,000\r\n",
        "#  y= predict(x_test[i])\r\n",
        "#  p = np.argmax(y)\r\n",
        "#  if p == y_test[i]:\r\n",
        "#    accuracy = accuracy +1\r\n",
        "\r\n",
        "#print(\"Acc = \", str(float(accuracy/len(x_test))))\r\n",
        "\r\n",
        "# process\r\n",
        "ibw = init_mnistbw2(784,50,10)\r\n",
        "W1, W2, B1, B2 = ibw['W1'], ibw['W2'], ibw['B1'], ibw['B2']\r\n",
        "accuracy = 0\r\n",
        "\r\n",
        "for i in range(len(x_test)):  # 10,000\r\n",
        "    y = predict(x_test[i])\r\n",
        "    p = np.argmax(y)\r\n",
        "    if p == y_test[i]:\r\n",
        "        accuracy = accuracy + 1\r\n",
        "\r\n",
        "print(\"Acc = \", str(float(accuracy/len(x_test))))   # 0.1 근처의 값"
      ],
      "execution_count": 6,
      "outputs": [
        {
          "output_type": "stream",
          "text": [
            "Acc =  0.1135\n"
          ],
          "name": "stdout"
        }
      ]
    }
  ]
}