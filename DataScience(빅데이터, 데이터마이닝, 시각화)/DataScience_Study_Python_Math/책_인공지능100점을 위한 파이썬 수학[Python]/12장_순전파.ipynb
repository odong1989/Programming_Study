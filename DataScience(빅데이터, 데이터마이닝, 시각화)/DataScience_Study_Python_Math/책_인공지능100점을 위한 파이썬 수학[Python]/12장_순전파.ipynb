{
  "nbformat": 4,
  "nbformat_minor": 0,
  "metadata": {
    "colab": {
      "name": "12장_순전파.ipynb",
      "provenance": [],
      "collapsed_sections": []
    },
    "kernelspec": {
      "name": "python3",
      "display_name": "Python 3"
    }
  },
  "cells": [
    {
      "cell_type": "code",
      "metadata": {
        "id": "I3eO7inLoNRC"
      },
      "source": [
        "# 12.1. MNIST 데이터 입력\r\n",
        "\r\n",
        "import numpy as np \r\n",
        "from keras.datasets import mnist\r\n",
        "(x_train, t_train), (x_test, t_test) = mnist.load_data()\r\n",
        "t_trainlbl, t_testlbl = t_train, t_test\r\n",
        "\r\n",
        "# 28X28 을 784 로 수정\r\n",
        "x_train = x_train.reshape(60000,784)    # 주석 (1)\r\n",
        "x_test = x_test.reshape(10000,784)    \r\n",
        "\r\n",
        "# one-hot label \r\n",
        "T0 = np.zeros((t_train.size, 10))    #(60000,10) = 000\r\n",
        "T1 = np.zeros((t_test.size, 10))    #(10000,10) = 000\r\n",
        "\r\n",
        "for idx in range(t_train.size): T0[idx][t_train[idx]] = 1    #(3))\r\n",
        "for idx in range(t_test.size): T1[idx][t_test[idx]] = 1\r\n",
        "\r\n",
        "t_train, t_test = T0, T1\r\n",
        "\r\n",
        "# normalize 0.0 ~ 1.0\r\n",
        "x_train = x_train / 255\r\n",
        "x_test = x_test / 255\r\n",
        "\r\n",
        "print('MNIST DataSets 준비 완료')\r\n"
      ],
      "execution_count": null,
      "outputs": []
    },
    {
      "cell_type": "code",
      "metadata": {
        "id": "T7RMKoqbj1hV"
      },
      "source": [
        "# 12.2. 함수정의\r\n",
        "\r\n",
        "# 미분함수 \r\n",
        "def numerical_diff(f, x):\r\n",
        "    h = 1e-4    # 0.0001\r\n",
        "    nd_coef = np.zeros_like(x)\r\n",
        "    it = np.nditer(x, flags=['multi_index'], op_flags=['readwrite'])\r\n",
        "    while not it.finished:\r\n",
        "        index = it.multi_index\r\n",
        "        tmp = x[index]\r\n",
        "        x[index] = tmp + h\r\n",
        "        fxh2 = f()    # f(x+h)\r\n",
        "        x[index] = tmp - h \r\n",
        "        fxh1 = f()    # f(x-h)\r\n",
        "        nd_coef[index] = (fxh2 - fxh1) / (2*h)\r\n",
        "        x[index] = tmp \r\n",
        "        it.iternext()\r\n",
        "    return nd_coef\r\n",
        "\r\n",
        "# 시그모이드\r\n",
        "def sigmoid(x):\r\n",
        "    return 1 / (1+np.exp(-x))\r\n",
        "\r\n",
        "# 소프트맥스\r\n",
        "def softmax(x):\r\n",
        "    if x.ndim == 1:  # 기본 1개 처리과정 , 벡터입력\r\n",
        "        x = x - np.max(x) \r\n",
        "        return np.exp(x) / np.sum(np.exp(x))\r\n",
        "    if x.ndim == 2:  # 배치용 n 개 처리, 행렬입력\r\n",
        "        x = x.T - np.max(x.T, axis=0)\r\n",
        "        return (np.exp(x) / np.sum(np.exp(x), axis=0)).T\r\n",
        "\r\n",
        "# 크로스엔트로피오차\r\n",
        "def cee(y, t):\r\n",
        "    if y.ndim == 1:\r\n",
        "        t = t.reshape(1, t.size)  # 크기가 1xN 인 2차원 행렬로 재구성\r\n",
        "        y = y.reshape(1, y.size)\r\n",
        "    result = -np.sum(t * np.log(y + 1e-7))  / y.shape[0] \r\n",
        "    return result \r\n"
      ],
      "execution_count": null,
      "outputs": []
    }
  ]
}