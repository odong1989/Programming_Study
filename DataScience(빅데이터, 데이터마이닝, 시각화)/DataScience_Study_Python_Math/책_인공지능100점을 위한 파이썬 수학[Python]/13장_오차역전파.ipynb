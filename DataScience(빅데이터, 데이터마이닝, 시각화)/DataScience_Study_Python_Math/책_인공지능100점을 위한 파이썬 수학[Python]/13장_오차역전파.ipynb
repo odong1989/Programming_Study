{
  "nbformat": 4,
  "nbformat_minor": 0,
  "metadata": {
    "colab": {
      "name": "13장 오차역전파.ipynb",
      "provenance": []
    },
    "kernelspec": {
      "name": "python3",
      "display_name": "Python 3"
    }
  },
  "cells": [
    {
      "cell_type": "code",
      "metadata": {
        "id": "v0tWJXw9GRbC"
      },
      "source": [
        "# 13.6.2. [STEP2] MNIST 데이터 가져오기\r\n",
        "\r\n",
        "import numpy as np \r\n",
        "import time\r\n",
        "from keras.datasets import mnist\r\n",
        "\r\n",
        "(x_train, t_train), (x_test, t_test) = mnist.load_data()\r\n",
        "t_trainlbl, t_testlbl = t_train, t_test\r\n",
        "\r\n",
        "# 28X28 을 784 로 수정\r\n",
        "x_train = x_train.reshape(60000,784)    # 주석 (1)\r\n",
        "x_test = x_test.reshape(10000,784)    \r\n",
        "\r\n",
        "# one-hot label \r\n",
        "T0 = np.zeros((t_train.size, 10))    #(60000,10) = 000\r\n",
        "T1 = np.zeros((t_test.size, 10))    #(10000,10) = 000\r\n",
        "\r\n",
        "for idx in range(t_train.size): T0[idx][t_train[idx]] = 1    #(3))\r\n",
        "for idx in range(t_test.size): T1[idx][t_test[idx]] = 1\r\n",
        "\r\n",
        "t_train, t_test = T0, T1\r\n",
        "\r\n",
        "# normalize 0.0 ~ 1.0\r\n",
        "x_train = x_train / 255\r\n",
        "x_test = x_test / 255\r\n",
        "\r\n",
        "print('MNIST DataSets 준비 완료')"
      ],
      "execution_count": null,
      "outputs": []
    },
    {
      "cell_type": "code",
      "metadata": {
        "id": "wNV158CkGnyq"
      },
      "source": [
        ""
      ],
      "execution_count": null,
      "outputs": []
    }
  ]
}