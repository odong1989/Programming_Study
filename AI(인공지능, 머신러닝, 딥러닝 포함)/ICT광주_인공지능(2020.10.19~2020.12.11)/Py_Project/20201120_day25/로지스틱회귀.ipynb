{
 "cells": [
  {
   "cell_type": "code",
   "execution_count": 1,
   "metadata": {},
   "outputs": [
    {
     "name": "stdout",
     "output_type": "stream",
     "text": [
      "WARNING:tensorflow:From C:\\ProgramData\\Anaconda3\\envs\\tf_2_3\\lib\\site-packages\\tensorflow\\python\\compat\\v2_compat.py:96: disable_resource_variables (from tensorflow.python.ops.variable_scope) is deprecated and will be removed in a future version.\n",
      "Instructions for updating:\n",
      "non-resource variables are not supported in the long term\n"
     ]
    }
   ],
   "source": [
    "import tensorflow.compat.v1 as tf\n",
    "tf.disable_v2_behavior()\n",
    "import numpy as np"
   ]
  },
  {
   "cell_type": "code",
   "execution_count": 2,
   "metadata": {},
   "outputs": [],
   "source": [
    "#x,y의 데이터 값\n",
    "data=[[2,0], [4,0], [6,0], [8,1], [10,1], [12,1], [14,1]]\n",
    "x_data = [x_row[0] for x_row in data]\n",
    "y_data = [y_row[1] for y_row in data]"
   ]
  },
  {
   "cell_type": "code",
   "execution_count": 3,
   "metadata": {},
   "outputs": [],
   "source": [
    "#,a와 b의 값을 임의로 정한다.\n",
    "a = tf.Variable(tf.random_normal([1], dtype=tf.float64, seed=0))\n",
    "b = tf.Variable(tf.random_normal([1], dtype=tf.float64, seed=0))"
   ]
  },
  {
   "cell_type": "code",
   "execution_count": 4,
   "metadata": {},
   "outputs": [],
   "source": [
    "#y 시그모이드 함수의 방정식을 세운다.\n",
    "y = 1/(1 + np.e**-(a * x_data + b))"
   ]
  },
  {
   "cell_type": "code",
   "execution_count": 5,
   "metadata": {},
   "outputs": [],
   "source": [
    "#loss를 구하는 함수\n",
    "loss = -tf.reduce_mean(np.array(y_data) * tf.log(y) + (1 - np.array(y_data)) * tf.log(1-y))"
   ]
  },
  {
   "cell_type": "code",
   "execution_count": 6,
   "metadata": {},
   "outputs": [],
   "source": [
    "#학습률 값\n",
    "leaning_rate = 0.5"
   ]
  },
  {
   "cell_type": "code",
   "execution_count": 7,
   "metadata": {},
   "outputs": [],
   "source": [
    "#loss를 최소로 하는 값 구하기\n",
    "gradient_decent = tf.train.GradientDescentOptimizer(leaning_rate).minimize(loss)"
   ]
  },
  {
   "cell_type": "code",
   "execution_count": 8,
   "metadata": {},
   "outputs": [
    {
     "name": "stdout",
     "output_type": "stream",
     "text": [
      "Epoch : 0, loss=4.3780, 기울기a = -0.6344, y절편=-0.6344\n",
      "Epoch : 6000, loss=4.3780, 기울기a = -0.6344, y절편=-0.6344\n",
      "Epoch : 12000, loss=4.3780, 기울기a = -0.6344, y절편=-0.6344\n",
      "Epoch : 18000, loss=4.3780, 기울기a = -0.6344, y절편=-0.6344\n",
      "Epoch : 24000, loss=4.3780, 기울기a = -0.6344, y절편=-0.6344\n",
      "Epoch : 30000, loss=4.3780, 기울기a = -0.6344, y절편=-0.6344\n",
      "Epoch : 36000, loss=4.3780, 기울기a = -0.6344, y절편=-0.6344\n",
      "Epoch : 42000, loss=4.3780, 기울기a = -0.6344, y절편=-0.6344\n",
      "Epoch : 48000, loss=4.3780, 기울기a = -0.6344, y절편=-0.6344\n",
      "Epoch : 54000, loss=4.3780, 기울기a = -0.6344, y절편=-0.6344\n",
      "Epoch : 60000, loss=4.3780, 기울기a = -0.6344, y절편=-0.6344\n"
     ]
    }
   ],
   "source": [
    "#학습\n",
    "with tf.Session() as sess:\n",
    "    sess.run(tf.global_variables_initializer())\n",
    "    \n",
    "    for i in range(60001) :\n",
    "        if i % 6000 ==0 :\n",
    "            print(\"Epoch : %.f, loss=%.4f, 기울기a = %.4f, y절편=%.4f\"\n",
    "                 % (i,sess.run(loss), sess.run(a), sess.run(b) ))"
   ]
  },
  {
   "cell_type": "code",
   "execution_count": null,
   "metadata": {},
   "outputs": [],
   "source": []
  }
 ],
 "metadata": {
  "kernelspec": {
   "display_name": "Python 3",
   "language": "python",
   "name": "python3"
  },
  "language_info": {
   "codemirror_mode": {
    "name": "ipython",
    "version": 3
   },
   "file_extension": ".py",
   "mimetype": "text/x-python",
   "name": "python",
   "nbconvert_exporter": "python",
   "pygments_lexer": "ipython3",
   "version": "3.7.9"
  }
 },
 "nbformat": 4,
 "nbformat_minor": 4
}
