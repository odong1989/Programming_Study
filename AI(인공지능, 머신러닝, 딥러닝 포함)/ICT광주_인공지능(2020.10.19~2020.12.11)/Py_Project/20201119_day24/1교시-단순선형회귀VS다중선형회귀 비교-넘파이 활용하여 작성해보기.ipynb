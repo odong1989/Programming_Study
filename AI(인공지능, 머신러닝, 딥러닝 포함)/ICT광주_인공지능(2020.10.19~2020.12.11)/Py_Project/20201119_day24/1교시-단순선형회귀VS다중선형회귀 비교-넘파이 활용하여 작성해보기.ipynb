{
 "cells": [
  {
   "cell_type": "code",
   "execution_count": 1,
   "metadata": {},
   "outputs": [],
   "source": [
    "import numpy as np"
   ]
  },
  {
   "cell_type": "code",
   "execution_count": 2,
   "metadata": {},
   "outputs": [],
   "source": [
    "data = [[2,0,81], [4,4, 93], [6,2,91], [8,3,97] ] \n",
    "x1 = np.array([x_row1[0] for x_row1 in data], dtype='f')\n",
    "x2 = np.array([x_row2[1] for x_row2 in data], dtype='f' )\n",
    "y = np.array([y_row[2] for y_row in data], dtype='f')"
   ]
  },
  {
   "cell_type": "code",
   "execution_count": 4,
   "metadata": {},
   "outputs": [
    {
     "name": "stdout",
     "output_type": "stream",
     "text": [
      "다중 선형회귀의 점수 평균 :  88.82962\n",
      "다중 선형회귀의 오차 평균 :  1.6703777\n"
     ]
    }
   ],
   "source": [
    "m_a1=1.2301\n",
    "m_a2=2.1633\n",
    "m_b =77.8117\n",
    "m_y2 = m_a1 * x1  + m_a2*x2 + m_b\n",
    "print('다중 선형회귀의 점수 평균 : ', m_y2.mean() )\n",
    "m_diff_y = abs(y - m_y2)\n",
    "print('다중 선형회귀의 오차 평균 : ', m_diff_y.mean() )"
   ]
  },
  {
   "cell_type": "code",
   "execution_count": 5,
   "metadata": {},
   "outputs": [
    {
     "name": "stdout",
     "output_type": "stream",
     "text": [
      "단순 선형회귀의 점수 평균 :  90.49999\n",
      "단순 선형회귀의 오차 평균 :  2.4000015\n"
     ]
    }
   ],
   "source": [
    "s_a1 = 2.3\n",
    "s_b = 79\n",
    "s_y1 = s_a1 * x1 +s_b\n",
    "print('단순 선형회귀의 점수 평균 : ', s_y1.mean() )\n",
    "s_diff_y = abs(y - s_y1)\n",
    "print('단순 선형회귀의 오차 평균 : ',s_diff_y.mean() )"
   ]
  },
  {
   "cell_type": "code",
   "execution_count": null,
   "metadata": {},
   "outputs": [],
   "source": []
  }
 ],
 "metadata": {
  "kernelspec": {
   "display_name": "Python 3",
   "language": "python",
   "name": "python3"
  },
  "language_info": {
   "codemirror_mode": {
    "name": "ipython",
    "version": 3
   },
   "file_extension": ".py",
   "mimetype": "text/x-python",
   "name": "python",
   "nbconvert_exporter": "python",
   "pygments_lexer": "ipython3",
   "version": "3.7.9"
  }
 },
 "nbformat": 4,
 "nbformat_minor": 4
}
