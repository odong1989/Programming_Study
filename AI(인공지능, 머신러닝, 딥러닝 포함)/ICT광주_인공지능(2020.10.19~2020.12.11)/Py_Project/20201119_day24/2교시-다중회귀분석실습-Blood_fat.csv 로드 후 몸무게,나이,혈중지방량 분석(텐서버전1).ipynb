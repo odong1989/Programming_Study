{
 "cells": [
  {
   "cell_type": "code",
   "execution_count": 1,
   "metadata": {},
   "outputs": [
    {
     "name": "stdout",
     "output_type": "stream",
     "text": [
      "WARNING:tensorflow:From C:\\ProgramData\\Anaconda3\\envs\\tf_2_3\\lib\\site-packages\\tensorflow\\python\\compat\\v2_compat.py:96: disable_resource_variables (from tensorflow.python.ops.variable_scope) is deprecated and will be removed in a future version.\n",
      "Instructions for updating:\n",
      "non-resource variables are not supported in the long term\n"
     ]
    }
   ],
   "source": [
    "import tensorflow.compat.v1 as tf\n",
    "tf.disable_v2_behavior()\n",
    "import numpy"
   ]
  },
  {
   "cell_type": "code",
   "execution_count": 2,
   "metadata": {},
   "outputs": [],
   "source": [
    "#step1. 데이터 로드& 변수에 할당.\n",
    "#data load 주피터노트북 버전\n",
    "data = numpy.loadtxt(\"C:/Users/GimBoSeong/Documents/DataScience/ICT/Py_Project/20201119/Blood_fat.csv\",delimiter=\",\")\n",
    "#print(data) #[몸무게, 나이, 혈중지방량]\n",
    "\n",
    "x1 = [x_row1[0] for x_row1 in data]\n",
    "x2 = [x_row2[1] for x_row2 in data]\n",
    "y_data = [y_row[2] for y_row in data]\n",
    "#print(x1)\n",
    "#print(x2)\n",
    "#print(y_data)"
   ]
  },
  {
   "cell_type": "code",
   "execution_count": 3,
   "metadata": {},
   "outputs": [],
   "source": [
    "#step2. 방정식의 변수&식 설정.\n",
    "\n",
    "#기울기 a1,a2 / y절편b의 값을 정한다.(이걸먼저 않으면 미정의 에러남...)\n",
    "a1 = tf.Variable(tf.random_uniform([1], 0, 10, dtype=tf.float64, seed=0))\n",
    "a2 = tf.Variable(tf.random_uniform([1], 0 ,10, dtype=tf.float64, seed=0))\n",
    "b = tf.Variable(tf.random_uniform([1],0,100,dtype=tf.float64, seed=0))\n",
    "\n",
    "#다중선형회귀 식 설정.\n",
    "y= a1*x1+a2*x2+b\n",
    "#print(y)"
   ]
  },
  {
   "cell_type": "code",
   "execution_count": 4,
   "metadata": {},
   "outputs": [],
   "source": [
    "#step3.학습률 값 설정\n",
    "learning_rate = 0.001"
   ]
  },
  {
   "cell_type": "code",
   "execution_count": 5,
   "metadata": {},
   "outputs": [],
   "source": [
    "#step4.텐서플로우 RMSE 함수\n",
    "rmse = tf.sqrt(tf.reduce_mean(tf.square(y-y_data)))\n",
    "\n",
    "#RMSE 값을 최소로 하는 값 찾기\n",
    "gradient_decent = tf.train.GradientDescentOptimizer(learning_rate).minimize(rmse)"
   ]
  },
  {
   "cell_type": "code",
   "execution_count": 6,
   "metadata": {},
   "outputs": [
    {
     "name": "stdout",
     "output_type": "stream",
     "text": [
      "Epoch: 0, RMSE = 643.9146, 기울기a1=7.9995, 기울기 a2=8.0295, y절편b=80.6891\n",
      "da1 : , [7.99945558]\n",
      "da2 :  [8.02947076]\n",
      "db :  [80.68914637]\n",
      "Epoch: 100, RMSE = 51.0198, 기울기a1=1.2999, 기울기 a2=4.2778, y절편b=80.5946\n",
      "da1 : , [1.29992372]\n",
      "da2 :  [4.27776566]\n",
      "db :  [80.59463733]\n",
      "Epoch: 200, RMSE = 42.6573, 기울기a1=0.8654, 기울기 a2=4.3693, y절편b=80.5900\n",
      "da1 : , [0.86542757]\n",
      "da2 :  [4.36930983]\n",
      "db :  [80.58996441]\n",
      "Epoch: 300, RMSE = 42.1239, 기울기a1=0.7509, 기울기 a2=4.5693, y절편b=80.5895\n",
      "da1 : , [0.75094944]\n",
      "da2 :  [4.56931597]\n",
      "db :  [80.58945714]\n",
      "Epoch: 400, RMSE = 41.8101, 기울기a1=0.6632, 기울기 a2=4.7227, y절편b=80.5890\n",
      "da1 : , [0.6631554]\n",
      "da2 :  [4.72270311]\n",
      "db :  [80.58902581]\n",
      "Epoch: 500, RMSE = 41.6278, 기울기a1=0.5962, 기울기 a2=4.8396, y절편b=80.5887\n",
      "da1 : , [0.59624432]\n",
      "da2 :  [4.83960617]\n",
      "db :  [80.58865424]\n",
      "Epoch: 600, RMSE = 41.5226, 기울기a1=0.5454, 기울기 a2=4.9284, y절편b=80.5883\n",
      "da1 : , [0.54543868]\n",
      "da2 :  [4.92837184]\n",
      "db :  [80.58832896]\n",
      "Epoch: 700, RMSE = 41.4623, 기울기a1=0.5069, 기울기 a2=4.9956, y절편b=80.5880\n",
      "da1 : , [0.50694617]\n",
      "da2 :  [4.99562554]\n",
      "db :  [80.58803917]\n",
      "Epoch: 800, RMSE = 41.4277, 기울기a1=0.4778, 기울기 a2=5.0465, y절편b=80.5878\n",
      "da1 : , [0.47781962]\n",
      "da2 :  [5.04651621]\n",
      "db :  [80.58777646]\n",
      "Epoch: 900, RMSE = 41.4080, 기울기a1=0.4558, 기울기 a2=5.0850, y절편b=80.5875\n",
      "da1 : , [0.45579629]\n",
      "da2 :  [5.08499705]\n",
      "db :  [80.58753432]\n",
      "Epoch: 1000, RMSE = 41.3967, 기울기a1=0.4392, 기울기 a2=5.1141, y절편b=80.5873\n",
      "da1 : , [0.43915095]\n",
      "da2 :  [5.11408211]\n",
      "db :  [80.58730777]\n",
      "Epoch: 1100, RMSE = 41.3902, 기울기a1=0.4266, 기울기 a2=5.1361, y절편b=80.5871\n",
      "da1 : , [0.42657345]\n",
      "da2 :  [5.13606035]\n",
      "db :  [80.58709304]\n",
      "Epoch: 1200, RMSE = 41.3865, 기울기a1=0.4171, 기울기 a2=5.1527, y절편b=80.5869\n",
      "da1 : , [0.41707111]\n",
      "da2 :  [5.15266606]\n",
      "db :  [80.58688724]\n",
      "Epoch: 1300, RMSE = 41.3844, 기울기a1=0.4099, 기울기 a2=5.1652, y절편b=80.5867\n",
      "da1 : , [0.40989274]\n",
      "da2 :  [5.16521161]\n",
      "db :  [80.58668821]\n",
      "Epoch: 1400, RMSE = 41.3832, 기울기a1=0.4045, 기울기 a2=5.1747, y절편b=80.5865\n",
      "da1 : , [0.40447034]\n",
      "da2 :  [5.17468937]\n",
      "db :  [80.5864943]\n",
      "Epoch: 1500, RMSE = 41.3826, 기울기a1=0.4004, 기울기 a2=5.1818, y절편b=80.5863\n",
      "da1 : , [0.40037458]\n",
      "da2 :  [5.18184938]\n",
      "db :  [80.58630425]\n",
      "Epoch: 1600, RMSE = 41.3822, 기울기a1=0.3973, 기울기 a2=5.1873, y절편b=80.5861\n",
      "da1 : , [0.39728106]\n",
      "da2 :  [5.1872584]\n",
      "db :  [80.58611713]\n",
      "Epoch: 1700, RMSE = 41.3819, 기울기a1=0.3949, 기울기 a2=5.1913, y절편b=80.5859\n",
      "da1 : , [0.39494466]\n",
      "da2 :  [5.19134466]\n",
      "db :  [80.58593223]\n",
      "Epoch: 1800, RMSE = 41.3818, 기울기a1=0.3932, 기울기 a2=5.1944, y절편b=80.5857\n",
      "da1 : , [0.39318022]\n",
      "da2 :  [5.19443168]\n",
      "db :  [80.585749]\n",
      "Epoch: 1900, RMSE = 41.3817, 기울기a1=0.3918, 기울기 a2=5.1968, y절편b=80.5856\n",
      "da1 : , [0.39184785]\n",
      "da2 :  [5.19676385]\n",
      "db :  [80.58556704]\n",
      "Epoch: 2000, RMSE = 41.3817, 기울기a1=0.3908, 기울기 a2=5.1985, y절편b=80.5854\n",
      "da1 : , [0.39084186]\n",
      "da2 :  [5.19852579]\n",
      "db :  [80.58538604]\n",
      "(da1*x1[i]) + da2*x2[i]+db : [352.54828853]\n",
      "(da1*x1[i]) + da2*x2[i]+db : [213.08735745]\n",
      "(da1*x1[i]) + da2*x2[i]+db : [376.31344802]\n",
      "(da1*x1[i]) + da2*x2[i]+db : [263.90008982]\n",
      "(da1*x1[i]) + da2*x2[i]+db : [406.60533742]\n",
      "(da1*x1[i]) + da2*x2[i]+db : [237.516619]\n",
      "(da1*x1[i]) + da2*x2[i]+db : [250.76714524]\n",
      "(da1*x1[i]) + da2*x2[i]+db : [295.8729283]\n",
      "(da1*x1[i]) + da2*x2[i]+db : [407.77786299]\n",
      "(da1*x1[i]) + da2*x2[i]+db : [338.63366023]\n",
      "(da1*x1[i]) + da2*x2[i]+db : [215.90273523]\n",
      "(da1*x1[i]) + da2*x2[i]+db : [276.52461089]\n",
      "(da1*x1[i]) + da2*x2[i]+db : [376.31344802]\n",
      "(da1*x1[i]) + da2*x2[i]+db : [222.42946513]\n",
      "(da1*x1[i]) + da2*x2[i]+db : [415.55660324]\n",
      "(da1*x1[i]) + da2*x2[i]+db : [357.08271227]\n",
      "(da1*x1[i]) + da2*x2[i]+db : [280.78577444]\n",
      "(da1*x1[i]) + da2*x2[i]+db : [376.58670822]\n",
      "(da1*x1[i]) + da2*x2[i]+db : [369.824815]\n",
      "(da1*x1[i]) + da2*x2[i]+db : [289.38429528]\n"
     ]
    }
   ],
   "source": [
    "#step5.학습 진행\n",
    "with tf.Session() as sess:\n",
    "    sess.run(tf.global_variables_initializer() )\n",
    "\n",
    "    for step in range(2001):\n",
    "        sess.run(gradient_decent)\n",
    "        if step % 100 == 0 :\n",
    "            print(\"Epoch: %.f, RMSE = %.04f, 기울기a1=%.04f, 기울기 a2=%.04f, y절편b=%.04f\"\n",
    "                 %(step, sess.run(rmse), sess.run(a1), sess.run(a2), sess.run(b) ))\n",
    "            da1=sess.run(a1)\n",
    "            da2=sess.run(a2)\n",
    "            db=sess.run(b)\n",
    "            print(\"da1 : ,\",da1)\n",
    "            print(\"da2 : \",da2)\n",
    "            print(\"db : \",db)\n",
    "for i in range(20):\n",
    "    print(\"(da1*x1[i]) + da2*x2[i]+db :\",(da1*x1[i]) + da2*x2[i]+db)\n",
    "sess.close()"
   ]
  },
  {
   "cell_type": "code",
   "execution_count": null,
   "metadata": {},
   "outputs": [],
   "source": []
  }
 ],
 "metadata": {
  "kernelspec": {
   "display_name": "Python 3",
   "language": "python",
   "name": "python3"
  },
  "language_info": {
   "codemirror_mode": {
    "name": "ipython",
    "version": 3
   },
   "file_extension": ".py",
   "mimetype": "text/x-python",
   "name": "python",
   "nbconvert_exporter": "python",
   "pygments_lexer": "ipython3",
   "version": "3.7.9"
  }
 },
 "nbformat": 4,
 "nbformat_minor": 4
}
