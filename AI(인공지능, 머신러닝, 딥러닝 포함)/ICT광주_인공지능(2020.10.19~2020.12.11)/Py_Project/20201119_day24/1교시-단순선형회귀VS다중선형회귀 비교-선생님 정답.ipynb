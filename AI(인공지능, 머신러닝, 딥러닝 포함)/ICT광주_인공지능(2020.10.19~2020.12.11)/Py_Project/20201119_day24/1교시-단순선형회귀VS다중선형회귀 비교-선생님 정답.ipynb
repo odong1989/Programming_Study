{
 "cells": [
  {
   "cell_type": "code",
   "execution_count": 12,
   "metadata": {},
   "outputs": [],
   "source": [
    "import tensorflow.compat.v1 as tf\n",
    "tf.disable_v2_behavior()\n",
    "import matplotlib.pyplot as plt"
   ]
  },
  {
   "cell_type": "code",
   "execution_count": 13,
   "metadata": {},
   "outputs": [
    {
     "name": "stdout",
     "output_type": "stream",
     "text": [
      "[2, 4, 6, 8]\n",
      "[0, 4, 2, 3]\n",
      "[81, 93, 91, 97]\n"
     ]
    }
   ],
   "source": [
    "#x1,x2,y의 데이터 값.\n",
    "data = [[2, 0 ,81], [4, 4, 93], [6,2,91], [8,3,97]] # 공부한시간,과외횟수,시험점수\n",
    "\n",
    "x1 = [x_row1[0] for x_row1 in data]\n",
    "x2 = [x_row2[1] for x_row2 in data] #새로추가되는 값. 다중선형회귀 위해 x2가 추가됨.\n",
    "y_data = [y_row[2] for y_row in data]\n",
    "print(x1)\n",
    "print(x2)\n",
    "print(y_data)"
   ]
  },
  {
   "cell_type": "code",
   "execution_count": 14,
   "metadata": {
    "scrolled": false
   },
   "outputs": [
    {
     "name": "stdout",
     "output_type": "stream",
     "text": [
      "[80.2719, 91.3853, 89.5189, 94.14240000000001]\n",
      "다중 선형회귀의 점수 평균 :  88.82962500000001\n"
     ]
    }
   ],
   "source": [
    "#m을 앞에 붙여 다중 선형회귀 변수로 구분.\n",
    "m_a1 = 1.2301\n",
    "m_a2 = 2.1633\n",
    "m_b =77.8117\n",
    "m_result_y =[]\n",
    "\n",
    "for i in range(4) :\n",
    "    m_result_y.append(m_a1*x1[i] + m_a2*x2[i] +m_b) #y=a2x2+a1x1+y절편b\n",
    "print(m_result_y)\n",
    "m_avr = sum(m_result_y)/4\n",
    "print('다중 선형회귀의 점수 평균 : ',m_avr) #사실 평균은 큰 의미 없지만 그래도 학습위해 찍어봄."
   ]
  },
  {
   "cell_type": "code",
   "execution_count": 15,
   "metadata": {},
   "outputs": [
    {
     "name": "stdout",
     "output_type": "stream",
     "text": [
      "다중 선형회귀의 오차 평균 :  1.6703749999999964\n"
     ]
    }
   ],
   "source": [
    "m_diff_y =[]\n",
    "for i in range(4):\n",
    "    m_diff_y.append(abs(y_data[i] - m_result_y[i] ))# 실제점수(y_data[i])-다중회귀예측값(m_result_y[i])\n",
    "avr_d1 = sum(m_diff_y)/4\n",
    "print('다중 선형회귀의 오차 평균 : ',avr_d1) #다중선형회귀는 1.67 정도의 오차를 보였다."
   ]
  },
  {
   "cell_type": "code",
   "execution_count": 16,
   "metadata": {},
   "outputs": [
    {
     "name": "stdout",
     "output_type": "stream",
     "text": [
      "[83.6, 88.2, 92.8, 97.4]\n",
      "단순선형회귀의 점수 평균 :  90.5\n"
     ]
    }
   ],
   "source": [
    "s_a1 = 2.3\n",
    "s_b=79\n",
    "s_result_y=[]\n",
    "for i in range(4) :\n",
    "    s_result_y.append(s_a1*x1[i] +s_b)\n",
    "print(s_result_y)\n",
    "s_avr2 = sum(s_result_y)/4\n",
    "print('단순선형회귀의 점수 평균 : ', s_avr2) #이평균도 딱히 의미없음."
   ]
  },
  {
   "cell_type": "code",
   "execution_count": 17,
   "metadata": {},
   "outputs": [
    {
     "name": "stdout",
     "output_type": "stream",
     "text": [
      "2.3999999999999986\n",
      "단순선형회귀의 오차평균 :  2.3999999999999986\n"
     ]
    }
   ],
   "source": [
    "s_diff_y=[]\n",
    "for i in range(4):\n",
    "    s_diff_y.append(abs(y_data[i] - s_result_y[i] ))# 실제점수(y_data[i])-단순회귀예측값(s_result_y[i])\n",
    "avr_d2 = sum(s_diff_y)/4\n",
    "print(avr_d2)\n",
    "print('단순선형회귀의 오차평균 : ', avr_d2)"
   ]
  }
 ],
 "metadata": {
  "kernelspec": {
   "display_name": "Python 3",
   "language": "python",
   "name": "python3"
  },
  "language_info": {
   "codemirror_mode": {
    "name": "ipython",
    "version": 3
   },
   "file_extension": ".py",
   "mimetype": "text/x-python",
   "name": "python",
   "nbconvert_exporter": "python",
   "pygments_lexer": "ipython3",
   "version": "3.7.9"
  }
 },
 "nbformat": 4,
 "nbformat_minor": 4
}
