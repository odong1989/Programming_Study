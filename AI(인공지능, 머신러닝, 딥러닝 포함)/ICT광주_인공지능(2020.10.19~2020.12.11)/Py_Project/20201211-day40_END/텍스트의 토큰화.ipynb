{
 "cells": [
  {
   "cell_type": "code",
   "execution_count": 1,
   "metadata": {},
   "outputs": [],
   "source": [
    "from tensorflow.keras.preprocessing.text import text_to_word_sequence\n",
    "#text_to_word_sequence메소드 : 케라스의 텍스트 전처리와 관련된함수."
   ]
  },
  {
   "cell_type": "code",
   "execution_count": 2,
   "metadata": {},
   "outputs": [],
   "source": [
    "#\n",
    "text = '해보지 않으면 해낼 수 없다'"
   ]
  },
  {
   "cell_type": "code",
   "execution_count": 3,
   "metadata": {},
   "outputs": [
    {
     "name": "stdout",
     "output_type": "stream",
     "text": [
      "\n",
      "원문:\n",
      " 해보지 않으면 해낼 수 없다\n",
      "\n",
      "토큰화:\n",
      " ['해보지', '않으면', '해낼', '수', '없다']\n"
     ]
    }
   ],
   "source": [
    "result = text_to_word_sequence(text)\n",
    "print(\"\\n원문:\\n\",text)\n",
    "print(\"\\n토큰화:\\n\", result)"
   ]
  },
  {
   "cell_type": "code",
   "execution_count": 4,
   "metadata": {},
   "outputs": [],
   "source": [
    "from tensorflow.keras.preprocessing.text import Tokenizer"
   ]
  },
  {
   "cell_type": "code",
   "execution_count": 5,
   "metadata": {},
   "outputs": [],
   "source": [
    "docs = [ '먼저 텍스트의 각 단어를 나누어 토큰화 합니다.',\n",
    "         '텍스트의 단어로 토큰화 해야 딥러닝에서 인식됩니다.',\n",
    "         '토큰화 한 결과는 딥러닝에서 사용할 수 있습니다.',\n",
    "        ]"
   ]
  },
  {
   "cell_type": "code",
   "execution_count": 6,
   "metadata": {},
   "outputs": [],
   "source": [
    "token = Tokenizer()\n",
    "token.fit_on_texts(docs)"
   ]
  },
  {
   "cell_type": "code",
   "execution_count": 7,
   "metadata": {},
   "outputs": [
    {
     "name": "stdout",
     "output_type": "stream",
     "text": [
      "\n",
      "단어 카운트 : \n",
      " OrderedDict([('먼저', 1), ('텍스트의', 2), ('각', 1), ('단어를', 1), ('나누어', 1), ('토큰화', 3), ('합니다', 1), ('단어로', 1), ('해야', 1), ('딥러닝에서', 2), ('인식됩니다', 1), ('한', 1), ('결과는', 1), ('사용할', 1), ('수', 1), ('있습니다', 1)])\n"
     ]
    }
   ],
   "source": [
    "print(\"\\n단어 카운트 : \\n\", token.word_counts)"
   ]
  },
  {
   "cell_type": "code",
   "execution_count": 8,
   "metadata": {},
   "outputs": [
    {
     "name": "stdout",
     "output_type": "stream",
     "text": [
      "\n",
      "문장 카운트 :\n",
      " 3\n"
     ]
    }
   ],
   "source": [
    "print(\"\\n문장 카운트 :\\n\",token.document_count)"
   ]
  },
  {
   "cell_type": "code",
   "execution_count": 9,
   "metadata": {},
   "outputs": [
    {
     "name": "stdout",
     "output_type": "stream",
     "text": [
      "\n",
      "각 단어가 몇 개의 문장에 포함되어 있는가? :\n",
      " defaultdict(<class 'int'>, {'합니다': 1, '단어를': 1, '먼저': 1, '각': 1, '나누어': 1, '텍스트의': 2, '토큰화': 3, '딥러닝에서': 2, '인식됩니다': 1, '해야': 1, '단어로': 1, '수': 1, '한': 1, '사용할': 1, '있습니다': 1, '결과는': 1})\n"
     ]
    }
   ],
   "source": [
    "print(\"\\n각 단어가 몇 개의 문장에 포함되어 있는가? :\\n\",token.word_docs)"
   ]
  },
  {
   "cell_type": "code",
   "execution_count": 10,
   "metadata": {},
   "outputs": [
    {
     "name": "stdout",
     "output_type": "stream",
     "text": [
      "\n",
      "각 단어에 매겨진 인덱스 값 :\n",
      " {'토큰화': 1, '텍스트의': 2, '딥러닝에서': 3, '먼저': 4, '각': 5, '단어를': 6, '나누어': 7, '합니다': 8, '단어로': 9, '해야': 10, '인식됩니다': 11, '한': 12, '결과는': 13, '사용할': 14, '수': 15, '있습니다': 16}\n"
     ]
    }
   ],
   "source": [
    "print(\"\\n각 단어에 매겨진 인덱스 값 :\\n\",token.word_index)"
   ]
  }
 ],
 "metadata": {
  "kernelspec": {
   "display_name": "Python 3",
   "language": "python",
   "name": "python3"
  },
  "language_info": {
   "codemirror_mode": {
    "name": "ipython",
    "version": 3
   },
   "file_extension": ".py",
   "mimetype": "text/x-python",
   "name": "python",
   "nbconvert_exporter": "python",
   "pygments_lexer": "ipython3",
   "version": "3.7.9"
  }
 },
 "nbformat": 4,
 "nbformat_minor": 4
}
