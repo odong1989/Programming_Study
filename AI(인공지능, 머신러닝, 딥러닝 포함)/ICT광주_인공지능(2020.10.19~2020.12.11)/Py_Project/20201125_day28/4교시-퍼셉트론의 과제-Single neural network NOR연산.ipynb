{
 "cells": [
  {
   "cell_type": "code",
   "execution_count": 1,
   "metadata": {},
   "outputs": [
    {
     "name": "stdout",
     "output_type": "stream",
     "text": [
      "WARNING:tensorflow:From C:\\ProgramData\\Anaconda3\\envs\\tf_2_3\\lib\\site-packages\\tensorflow\\python\\compat\\v2_compat.py:96: disable_resource_variables (from tensorflow.python.ops.variable_scope) is deprecated and will be removed in a future version.\n",
      "Instructions for updating:\n",
      "non-resource variables are not supported in the long term\n"
     ]
    }
   ],
   "source": [
    "import tensorflow.compat.v1 as tf\n",
    "tf.disable_v2_behavior()\n",
    "import numpy as np"
   ]
  },
  {
   "cell_type": "code",
   "execution_count": 2,
   "metadata": {},
   "outputs": [],
   "source": [
    "#실행할 때마다 같은 결과를 출력하기 위한 시드 값 설정\n",
    "seed=0\n",
    "np.random.seed(seed)\n",
    "tf.set_random_seed(seed)"
   ]
  },
  {
   "cell_type": "code",
   "execution_count": 3,
   "metadata": {},
   "outputs": [],
   "source": [
    "#x,y 데이터 값\n",
    "x_data = np.array([[0,0], [0,1], [1,0], [1,1] ], dtype=np.float32) \n",
    "y_data = np.array([[1],[0],[0],[0] ], dtype=np.float32)"
   ]
  },
  {
   "cell_type": "code",
   "execution_count": 4,
   "metadata": {},
   "outputs": [],
   "source": [
    "#입력값을 플레이스홀더에 실시.\n",
    "X = tf.placeholder(tf.float32, shape=[None, 2])\n",
    "Y = tf.placeholder(tf.float32, shape=[None, 1])\n",
    "W = tf.Variable(tf.random_uniform([2,1], dtype=tf.float32) )\n",
    "b = tf.Variable(tf.random_uniform([1], dtype=tf.float32) )"
   ]
  },
  {
   "cell_type": "code",
   "execution_count": 5,
   "metadata": {},
   "outputs": [],
   "source": [
    "#y 시그모이드 함수의 방정식을 세움.\n",
    "hypothesis = tf.sigmoid(-(tf.matmul(X, W) +b ))"
   ]
  },
  {
   "cell_type": "code",
   "execution_count": 6,
   "metadata": {},
   "outputs": [],
   "source": [
    "cost = -tf.reduce_mean(Y * tf.log(hypothesis) + (1-Y) * tf.log(1-hypothesis) )\n",
    "train = tf.train.GradientDescentOptimizer(learning_rate=0.1).minimize(cost)\n",
    "predicted = tf.cast(hypothesis>0.5, dtype=tf.float32 ) #결과값 나오는 small Y이다.\n",
    "accuracy =tf.reduce_mean(tf.cast(tf.equal(predicted, Y), dtype=tf.float32 )) #계산하기 좋게 0,1으로 변경한다"
   ]
  },
  {
   "cell_type": "code",
   "execution_count": 7,
   "metadata": {},
   "outputs": [
    {
     "name": "stdout",
     "output_type": "stream",
     "text": [
      "step: 0 cost: 0.5814789 W: [[0.03789964]\n",
      " [0.02525846]] b: [0.5512444]\n",
      "step: 1000 cost: 0.09178305 W: [[3.9711983]\n",
      " [3.9703937]] b: [-1.4440848]\n",
      "step: 2000 cost: 0.047671378 W: [[5.3386   ]\n",
      " [5.3383775]] b: [-2.1721377]\n",
      "step: 3000 cost: 0.031806607 W: [[6.169825]\n",
      " [6.169724]] b: [-2.6016214]\n",
      "step: 4000 cost: 0.023763333 W: [[6.7642193]\n",
      " [6.7641664]] b: [-2.9054952]\n",
      "step: 5000 cost: 0.018930197 W: [[7.225869 ]\n",
      " [7.2258344]] b: [-3.140225]\n",
      "step: 6000 cost: 0.015714474 W: [[7.6028314]\n",
      " [7.602805 ]] b: [-3.331259]\n",
      "step: 7000 cost: 0.01342429 W: [[7.921158]\n",
      " [7.921138]] b: [-3.4922187]\n",
      "step: 8000 cost: 0.0117120445 W: [[8.196515]\n",
      " [8.196502]] b: [-3.6312325]\n",
      "step: 9000 cost: 0.01038438 W: [[8.439062]\n",
      " [8.439054]] b: [-3.7535338]\n",
      "step: 10000 cost: 0.00932526 W: [[8.655743]\n",
      " [8.655737]] b: [-3.8626873]\n",
      "\n",
      " Hypothesis : [[9.7942096e-01]\n",
      " [8.2190335e-03]\n",
      " [8.2189441e-03]\n",
      " [1.4429911e-06]] \n",
      " Correct (Y) : [[1.]\n",
      " [0.]\n",
      " [0.]\n",
      " [0.]] \n",
      " Accuracy: 1.0\n",
      "\n",
      "Hyothesis: [[9.7942096e-01]\n",
      " [8.2190335e-03]\n",
      " [8.2189441e-03]\n",
      " [1.4429911e-06]] \n",
      "Correct(Y): [[1.]\n",
      " [0.]\n",
      " [0.]\n",
      " [0.]]\n"
     ]
    }
   ],
   "source": [
    "#학습\n",
    "with tf.Session() as sess :\n",
    "    sess.run(tf.global_variables_initializer())\n",
    "\n",
    "    for step in range(10001) :\n",
    "        sess.run(train,feed_dict={X:x_data, Y:y_data} ) \n",
    "        if(step) % 1000 == 0 :\n",
    "            print(\"step:\",step,\"cost:\",sess.run(cost, feed_dict={X:x_data, Y:y_data}),\n",
    "                  \"W:\",sess.run(W),\"b:\",sess.run(b) )\n",
    "    #정확도 측정\n",
    "    h,c,a = sess.run( [hypothesis , predicted, accuracy], feed_dict= {X:x_data, Y:y_data} )\n",
    "    print(\"\\n Hypothesis :\", h ,\"\\n Correct (Y) :\", c, \"\\n Accuracy:\",a)\n",
    "\n",
    "\n",
    "    \n",
    "    #임의의 값을 입력하여 OR연산 예상치값, 실제치값 확인해보기\n",
    "    #스텝1.값을 추가\n",
    "#    new_x=np.array([0,1]).reshape(1,2) \n",
    "    \n",
    "#    new_y = sess.run(hypothesis, feed_dict= {X:x_data, Y:y_data}  )\n",
    "#    h,c = sess.run([hypothesis, predicted], feed_dict={X:x_data, Y:y_data} )\n",
    "#    print(\"\\nHyothesis:\",h,\"\\nCorrect(Y):\",c )"
   ]
  },
  {
   "cell_type": "code",
   "execution_count": null,
   "metadata": {},
   "outputs": [],
   "source": []
  },
  {
   "cell_type": "code",
   "execution_count": null,
   "metadata": {},
   "outputs": [],
   "source": []
  }
 ],
 "metadata": {
  "kernelspec": {
   "display_name": "Python 3",
   "language": "python",
   "name": "python3"
  },
  "language_info": {
   "codemirror_mode": {
    "name": "ipython",
    "version": 3
   },
   "file_extension": ".py",
   "mimetype": "text/x-python",
   "name": "python",
   "nbconvert_exporter": "python",
   "pygments_lexer": "ipython3",
   "version": "3.7.9"
  }
 },
 "nbformat": 4,
 "nbformat_minor": 4
}
