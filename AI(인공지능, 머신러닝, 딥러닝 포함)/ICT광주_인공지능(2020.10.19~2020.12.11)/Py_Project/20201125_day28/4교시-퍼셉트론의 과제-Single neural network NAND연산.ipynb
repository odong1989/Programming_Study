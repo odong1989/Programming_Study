{
 "cells": [
  {
   "cell_type": "code",
   "execution_count": 1,
   "metadata": {},
   "outputs": [
    {
     "name": "stdout",
     "output_type": "stream",
     "text": [
      "WARNING:tensorflow:From C:\\ProgramData\\Anaconda3\\envs\\tf_2_3\\lib\\site-packages\\tensorflow\\python\\compat\\v2_compat.py:96: disable_resource_variables (from tensorflow.python.ops.variable_scope) is deprecated and will be removed in a future version.\n",
      "Instructions for updating:\n",
      "non-resource variables are not supported in the long term\n"
     ]
    }
   ],
   "source": [
    "import tensorflow.compat.v1 as tf\n",
    "tf.disable_v2_behavior()\n",
    "import numpy as np"
   ]
  },
  {
   "cell_type": "code",
   "execution_count": 2,
   "metadata": {},
   "outputs": [],
   "source": [
    "#실행할 때마다 같은 결과를 출력하기 위한 시드 값 설정\n",
    "seed=0\n",
    "np.random.seed(seed)\n",
    "tf.set_random_seed(seed)"
   ]
  },
  {
   "cell_type": "code",
   "execution_count": 3,
   "metadata": {},
   "outputs": [],
   "source": [
    "#x,y 데이터 값\n",
    "x_data = np.array([[0,0], [0,1], [1,0], [1,1] ], dtype=np.float32) \n",
    "y_data = np.array([[1],[1],[1],[0] ], dtype=np.float32)"
   ]
  },
  {
   "cell_type": "code",
   "execution_count": 4,
   "metadata": {},
   "outputs": [],
   "source": [
    "#입력값을 플레이스홀더에 실시.\n",
    "X = tf.placeholder(tf.float32, shape=[None, 2])\n",
    "Y = tf.placeholder(tf.float32, shape=[None, 1])\n",
    "W = tf.Variable(tf.random_uniform([2,1], dtype=tf.float32) )\n",
    "b = tf.Variable(tf.random_uniform([1], dtype=tf.float32) )"
   ]
  },
  {
   "cell_type": "code",
   "execution_count": 5,
   "metadata": {},
   "outputs": [],
   "source": [
    "#y 시그모이드 함수의 방정식을 세움.\n",
    "hypothesis = tf.sigmoid(-(tf.matmul(X, W) +b ))"
   ]
  },
  {
   "cell_type": "code",
   "execution_count": 6,
   "metadata": {},
   "outputs": [],
   "source": [
    "cost = -tf.reduce_mean(Y * tf.log(hypothesis) + (1-Y) * tf.log(1-hypothesis) )\n",
    "train = tf.train.GradientDescentOptimizer(learning_rate=0.1).minimize(cost)\n",
    "predicted = tf.cast(hypothesis>0.5, dtype=tf.float32 ) #결과값 나오는 small Y이다.\n",
    "accuracy =tf.reduce_mean(tf.cast(tf.equal(predicted, Y), dtype=tf.float32 )) #계산하기 좋게 0,1으로 변경한다"
   ]
  },
  {
   "cell_type": "code",
   "execution_count": 7,
   "metadata": {},
   "outputs": [
    {
     "name": "stdout",
     "output_type": "stream",
     "text": [
      "step: 0 cost: 0.85035825 W: [[0.01289964]\n",
      " [0.00025846]] b: [0.5012444]\n",
      "step: 1000 cost: 0.14545895 W: [[3.0073154]\n",
      " [3.0071642]] b: [-4.729083]\n",
      "step: 2000 cost: 0.08230207 W: [[4.220259]\n",
      " [4.220248]] b: [-6.5225825]\n",
      "step: 3000 cost: 0.056869946 W: [[4.992734]\n",
      " [4.992732]] b: [-7.6729126]\n",
      "step: 4000 cost: 0.043253724 W: [[5.558569]\n",
      " [5.558568]] b: [-8.5175705]\n",
      "step: 5000 cost: 0.03481781 W: [[6.0041337]\n",
      " [6.0041337]] b: [-9.183506]\n",
      "step: 6000 cost: 0.029096723 W: [[6.3711305]\n",
      " [6.3711305]] b: [-9.732417]\n",
      "step: 7000 cost: 0.02496972 W: [[6.6828594]\n",
      " [6.6828594]] b: [-10.198892]\n",
      "step: 8000 cost: 0.021856004 W: [[6.953641]\n",
      " [6.953641]] b: [-10.604235]\n",
      "step: 9000 cost: 0.019425333 W: [[7.1928883]\n",
      " [7.1928883]] b: [-10.962463]\n",
      "step: 10000 cost: 0.017476344 W: [[7.4071198]\n",
      " [7.4071198]] b: [-11.283303]\n",
      "\n",
      " Hypothesis : [[0.99998736]\n",
      " [0.9796912 ]\n",
      " [0.9796912 ]\n",
      " [0.02844468]] \n",
      " Correct (Y) : [[1.]\n",
      " [1.]\n",
      " [1.]\n",
      " [0.]] \n",
      " Accuracy: 1.0\n"
     ]
    }
   ],
   "source": [
    "#학습\n",
    "with tf.Session() as sess :\n",
    "    sess.run(tf.global_variables_initializer())\n",
    "\n",
    "    for step in range(10001) :\n",
    "        sess.run(train,feed_dict={X:x_data, Y:y_data} ) \n",
    "        if(step) % 1000 == 0 :\n",
    "            print(\"step:\",step,\"cost:\",sess.run(cost, feed_dict={X:x_data, Y:y_data}),\n",
    "                  \"W:\",sess.run(W),\"b:\",sess.run(b) )\n",
    "    #정확도 측정\n",
    "    h,c,a = sess.run( [hypothesis , predicted, accuracy], feed_dict= {X:x_data, Y:y_data} )\n",
    "    print(\"\\n Hypothesis :\", h ,\"\\n Correct (Y) :\", c, \"\\n Accuracy:\",a)\n",
    "\n",
    "\n",
    "    \n",
    "    #임의의 값을 입력하여 OR연산 예상치값, 실제치값 확인해보기\n",
    "    #스텝1.값을 추가\n",
    "#    new_x=np.array([0,1]).reshape(1,2) \n",
    "    \n",
    "#    new_y = sess.run(hypothesis, feed_dict= {X:x_data, Y:y_data}  )\n",
    "#    h,c = sess.run([hypothesis, predicted], feed_dict={X:x_data, Y:y_data} )\n",
    "#    print(\"\\nHyothesis:\",h,\"\\nCorrect(Y):\",c )"
   ]
  },
  {
   "cell_type": "code",
   "execution_count": null,
   "metadata": {},
   "outputs": [],
   "source": []
  },
  {
   "cell_type": "code",
   "execution_count": null,
   "metadata": {},
   "outputs": [],
   "source": []
  }
 ],
 "metadata": {
  "kernelspec": {
   "display_name": "Python 3",
   "language": "python",
   "name": "python3"
  },
  "language_info": {
   "codemirror_mode": {
    "name": "ipython",
    "version": 3
   },
   "file_extension": ".py",
   "mimetype": "text/x-python",
   "name": "python",
   "nbconvert_exporter": "python",
   "pygments_lexer": "ipython3",
   "version": "3.7.9"
  }
 },
 "nbformat": 4,
 "nbformat_minor": 4
}
