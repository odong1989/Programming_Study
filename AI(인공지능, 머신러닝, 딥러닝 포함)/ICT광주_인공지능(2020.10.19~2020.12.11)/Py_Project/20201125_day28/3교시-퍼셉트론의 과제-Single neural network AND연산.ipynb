{
 "cells": [
  {
   "cell_type": "code",
   "execution_count": 1,
   "metadata": {},
   "outputs": [
    {
     "name": "stdout",
     "output_type": "stream",
     "text": [
      "WARNING:tensorflow:From C:\\ProgramData\\Anaconda3\\envs\\tf_2_3\\lib\\site-packages\\tensorflow\\python\\compat\\v2_compat.py:96: disable_resource_variables (from tensorflow.python.ops.variable_scope) is deprecated and will be removed in a future version.\n",
      "Instructions for updating:\n",
      "non-resource variables are not supported in the long term\n"
     ]
    }
   ],
   "source": [
    "import tensorflow.compat.v1 as tf\n",
    "tf.disable_v2_behavior()\n",
    "import numpy as np"
   ]
  },
  {
   "cell_type": "code",
   "execution_count": 2,
   "metadata": {},
   "outputs": [],
   "source": [
    "#실행할 때마다 같은 결과를 출력하기 위한 시드 값 설정\n",
    "seed=0\n",
    "np.random.seed(seed)\n",
    "tf.set_random_seed(seed)"
   ]
  },
  {
   "cell_type": "code",
   "execution_count": 9,
   "metadata": {},
   "outputs": [],
   "source": [
    "#x,y 데이터 값\n",
    "x_data = np.array([[0,0], [0,1], [1,0], [1,1] ], dtype=np.float32) \n",
    "y_data = np.array([[0],[0],[0],[1] ], dtype=np.float32)"
   ]
  },
  {
   "cell_type": "code",
   "execution_count": 13,
   "metadata": {},
   "outputs": [
    {
     "data": {
      "text/plain": [
       "<tf.Tensor 'Placeholder_8:0' shape=(?, 2) dtype=float32>"
      ]
     },
     "execution_count": 13,
     "metadata": {},
     "output_type": "execute_result"
    }
   ],
   "source": [
    "#입력값을 플레이스홀더에 실시.\n",
    "X = tf.placeholder(tf.float32, shape=[None, 2])\n",
    "Y = tf.placeholder(tf.float32, shape=[None, 1])\n",
    "W = tf.Variable(tf.random_uniform([2,1], dtype=tf.float32) )\n",
    "b = tf.Variable(tf.random_uniform([1], dtype=tf.float32) )"
   ]
  },
  {
   "cell_type": "code",
   "execution_count": 5,
   "metadata": {},
   "outputs": [],
   "source": [
    "#y 시그모이드 함수의 방정식을 세움.\n",
    "hypothesis = tf.sigmoid(-(tf.matmul(X, W) +b ))"
   ]
  },
  {
   "cell_type": "code",
   "execution_count": 6,
   "metadata": {},
   "outputs": [],
   "source": [
    "cost = -tf.reduce_mean(Y * tf.log(hypothesis) + (1-Y) * tf.log(1-hypothesis) )\n",
    "train = tf.train.GradientDescentOptimizer(learning_rate=0.1).minimize(cost)\n",
    "predicted = tf.cast(hypothesis>0.5, dtype=tf.float32 ) #결과값 나오는 small Y이다.\n",
    "accuracy =tf.reduce_mean(tf.cast(tf.equal(predicted, Y), dtype=tf.float32 )) #계산하기 좋게 0,1으로 변경한다"
   ]
  },
  {
   "cell_type": "code",
   "execution_count": 7,
   "metadata": {},
   "outputs": [
    {
     "name": "stdout",
     "output_type": "stream",
     "text": [
      "step: 0 cost: 0.5937427 W: [[0.01289964]\n",
      " [0.00025846]] b: [0.5512444]\n",
      "step: 1000 cost: 0.14104438 W: [[-3.0735295]\n",
      " [-3.0737054]] b: [4.826551]\n",
      "step: 2000 cost: 0.08082126 W: [[-4.258444 ]\n",
      " [-4.2584605]] b: [6.5793624]\n",
      "step: 3000 cost: 0.05614262 W: [[-5.019452 ]\n",
      " [-5.0194545]] b: [7.712767]\n",
      "step: 4000 cost: 0.042825654 W: [[-5.5790462]\n",
      " [-5.579047 ]] b: [8.548164]\n",
      "step: 5000 cost: 0.034537196 W: [[-6.0207057]\n",
      " [-6.020706 ]] b: [9.208289]\n",
      "step: 6000 cost: 0.028899144 W: [[-6.385033 ]\n",
      " [-6.3850336]] b: [9.753219]\n",
      "step: 7000 cost: 0.024823293 W: [[-6.6948247]\n",
      " [-6.6948256]] b: [10.216804]\n",
      "step: 8000 cost: 0.02174336 W: [[-6.964135 ]\n",
      " [-6.9641356]] b: [10.619945]\n",
      "step: 9000 cost: 0.019335998 W: [[-7.202231]\n",
      " [-7.202232]] b: [10.976453]\n",
      "step: 10000 cost: 0.017403852 W: [[-7.4155354]\n",
      " [-7.415536 ]] b: [11.295906]\n",
      "\n",
      " Hypothesis : [[1.2423682e-05]\n",
      " [2.0225644e-02]\n",
      " [2.0225674e-02]\n",
      " [9.7167194e-01]] \n",
      " Correct (Y) : [[0.]\n",
      " [0.]\n",
      " [0.]\n",
      " [1.]] \n",
      " Accuracy: 1.0\n"
     ]
    }
   ],
   "source": [
    "#학습\n",
    "with tf.Session() as sess :\n",
    "    sess.run(tf.global_variables_initializer())\n",
    "\n",
    "    for step in range(10001) :\n",
    "        sess.run(train,feed_dict={X:x_data, Y:y_data} ) \n",
    "        if(step) % 1000 == 0 :\n",
    "            print(\"step:\",step,\"cost:\",sess.run(cost, feed_dict={X:x_data, Y:y_data}),\n",
    "                  \"W:\",sess.run(W),\"b:\",sess.run(b) )\n",
    "    #정확도 측정\n",
    "    h,c,a = sess.run( [hypothesis , predicted, accuracy], feed_dict= {X:x_data, Y:y_data} )\n",
    "    print(\"\\n Hypothesis :\", h ,\"\\n Correct (Y) :\", c, \"\\n Accuracy:\",a)"
   ]
  }
 ],
 "metadata": {
  "kernelspec": {
   "display_name": "Python 3",
   "language": "python",
   "name": "python3"
  },
  "language_info": {
   "codemirror_mode": {
    "name": "ipython",
    "version": 3
   },
   "file_extension": ".py",
   "mimetype": "text/x-python",
   "name": "python",
   "nbconvert_exporter": "python",
   "pygments_lexer": "ipython3",
   "version": "3.7.9"
  }
 },
 "nbformat": 4,
 "nbformat_minor": 4
}
