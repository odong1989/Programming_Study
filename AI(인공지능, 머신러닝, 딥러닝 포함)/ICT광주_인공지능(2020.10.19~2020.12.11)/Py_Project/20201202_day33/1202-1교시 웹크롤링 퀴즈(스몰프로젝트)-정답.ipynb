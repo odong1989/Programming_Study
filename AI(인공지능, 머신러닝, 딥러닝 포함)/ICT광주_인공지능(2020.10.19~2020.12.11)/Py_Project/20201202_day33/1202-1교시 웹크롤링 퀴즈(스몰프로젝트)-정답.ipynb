{
 "cells": [
  {
   "cell_type": "code",
   "execution_count": 1,
   "metadata": {},
   "outputs": [
    {
     "name": "stdout",
     "output_type": "stream",
     "text": [
      "변경\n",
      "['엘렌 페이지', '족발 쥐', '공인인증서 폐지', '에버글로우', '이대호', '한국정보인증', '수능 예비소집일', '수능일', 'esg', '굿모닝 대한민국 라이브', '에스파', '관상 테스트', '군포 화재', '군포아파트화재', '판공비', '챔피언스리그 순위', '공인인증서 폐지 관련주', '고기영', '박은정 검사', '주시은 아나운서']\n",
      "엘렌 페이지\n",
      "족발 쥐\n",
      "공인인증서 폐지\n",
      "에버글로우\n",
      "이대호\n",
      "한국정보인증\n",
      "수능 예비소집일\n",
      "수능일\n",
      "esg\n",
      "굿모닝 대한민국 라이브\n",
      "에스파\n",
      "관상 테스트\n",
      "군포 화재\n",
      "군포아파트화재\n",
      "판공비\n",
      "챔피언스리그 순위\n",
      "공인인증서 폐지 관련주\n",
      "고기영\n",
      "박은정 검사\n",
      "주시은 아나운서\n"
     ]
    }
   ],
   "source": [
    "# python에서 HTTP 요청을 보내는 모듈\n",
    "import requests\n",
    "from bs4 import BeautifulSoup       #bs4라고 불리는 html 분석 라이브러리\n",
    "import copy                         #\n",
    "import threading                    #\n",
    "from datetime import datetime      #시간관리하는 모듈\n",
    "\n",
    "#스텝1 헤더,링크설정\n",
    "#유저 설정(HTTP 헤더는 클라이언트와 서버가 요청 또는 응답으로 부가적인 정보를 전송할 수 있음.)\n",
    "headers = {'User-Agent':'Mozila/5.0 (Windows NT 10.0; Win64; x64) AppleWebKit/537.36(KHTML, like Gecko) Chrome/80.0.3987.122 Safari/537.36'}\n",
    "\n",
    "#네이버 메인이 아닌 DataLab 페이지\n",
    "url = 'https://datalab.naver.com/keyword/realtimeList.naver?where=main'\n",
    "\n",
    "#스텝2,카운트변수등 변수설정\n",
    "nCount = 0 #n은 정수형을 의미.\n",
    "outFp = open(\"n_real.txt\",\"w\",encoding='utf-8')\n",
    "\n",
    "oldRtData = [None]*20 #20개의 단어들을 대상으로 함.\n",
    "newRtData = [None]*20 #20개의 단어들을 대상으로 함.\n",
    "\n",
    "\n",
    "\n",
    "#--ppt파트2------------------------------------------------------------\n",
    "def readRTData() :\n",
    "    #글로벌 선언하여 전역유지\n",
    "    global oldRtData\n",
    "    global newRtdata\n",
    "    global nCount    #카운트는 들어올때마다 유지된다(리셋되지 않음.)\n",
    "    \n",
    "    for i in range(1,3):\n",
    "        resp = requests.get(url, headers=headers)\n",
    "        soup = BeautifulSoup(resp.content, 'html.parser')\n",
    "        title_list = soup.select('span.item_title')\n",
    "\n",
    "    for idx, title in enumerate(title_list,1):\n",
    "        newRtData[idx-1] = title.text\n",
    "        \n",
    "    if newRtData == oldRtData :\n",
    "        print('동일')\n",
    "    else :\n",
    "        print('변경')\n",
    "        print(newRtData)\n",
    "        for w_string in newRtData :\n",
    "            print(w_string)\n",
    "            now_T = datetime.now()\n",
    "            outFp.writelines(str(now_T.hour)+'/'+str(now_T.minute) +'/'+str(now_T.second) + '/'+w_string + '/n')\n",
    "        \n",
    "        \n",
    "#비교 후 기존 데이터를 새로운 데이터로 업데이트\n",
    "oldRtData = copy.deepcopy(newRtData)\n",
    "nCount +=1\n",
    "\n",
    "if(nCount <200): #5초씩 200번 읽도록 설정시킴. 즉 5초마다 함수하도록 설정시킨 것.\n",
    "    timer = threading.Timer(1,readRTData)\n",
    "    timer.start()\n",
    "else:\n",
    "    outFp.close()\n",
    "    print(\"=============종료======================\")\n",
    "        \n",
    "        \n",
    "readRTData()"
   ]
  },
  {
   "cell_type": "code",
   "execution_count": 2,
   "metadata": {
    "scrolled": true
   },
   "outputs": [
    {
     "name": "stdout",
     "output_type": "stream",
     "text": [
      "변경\n",
      "['엘렌 페이지', '족발 쥐', '공인인증서 폐지', '에버글로우', '이대호', '한국정보인증', '수능 예비소집일', '수능일', 'esg', '굿모닝 대한민국 라이브', '에스파', '관상 테스트', '군포 화재', '군포아파트화재', '판공비', '챔피언스리그 순위', '공인인증서 폐지 관련주', '고기영', '박은정 검사', '주시은 아나운서']\n",
      "엘렌 페이지\n",
      "족발 쥐\n",
      "공인인증서 폐지\n",
      "에버글로우\n",
      "이대호\n",
      "한국정보인증\n",
      "수능 예비소집일\n",
      "수능일\n",
      "esg\n",
      "굿모닝 대한민국 라이브\n",
      "에스파\n",
      "관상 테스트\n",
      "군포 화재\n",
      "군포아파트화재\n",
      "판공비\n",
      "챔피언스리그 순위\n",
      "공인인증서 폐지 관련주\n",
      "고기영\n",
      "박은정 검사\n",
      "주시은 아나운서\n"
     ]
    }
   ],
   "source": [
    "#조건1) 5초 간격으로 5분간의 실시간 검색어를 추적할 것.\n",
    "#조건2) 실시간 검색어 결과가 기존과 다른 경우에 파일에 저장\n",
    "#조건3) 저장할 때 몇 번째 확인인지를 표시하여 저장하세요\n",
    "# 예. 시작후 5초면 1번째 확인, 55초후면 11번째 확인\n",
    "#조건4)저장된 파일을 통하여 네이버 급상승 검색어 갱신 주기를 확인할 수 있음."
   ]
  },
  {
   "cell_type": "code",
   "execution_count": null,
   "metadata": {},
   "outputs": [],
   "source": []
  },
  {
   "cell_type": "code",
   "execution_count": null,
   "metadata": {},
   "outputs": [],
   "source": []
  },
  {
   "cell_type": "code",
   "execution_count": null,
   "metadata": {},
   "outputs": [],
   "source": []
  }
 ],
 "metadata": {
  "kernelspec": {
   "display_name": "Python 3",
   "language": "python",
   "name": "python3"
  },
  "language_info": {
   "codemirror_mode": {
    "name": "ipython",
    "version": 3
   },
   "file_extension": ".py",
   "mimetype": "text/x-python",
   "name": "python",
   "nbconvert_exporter": "python",
   "pygments_lexer": "ipython3",
   "version": "3.7.9"
  }
 },
 "nbformat": 4,
 "nbformat_minor": 4
}
