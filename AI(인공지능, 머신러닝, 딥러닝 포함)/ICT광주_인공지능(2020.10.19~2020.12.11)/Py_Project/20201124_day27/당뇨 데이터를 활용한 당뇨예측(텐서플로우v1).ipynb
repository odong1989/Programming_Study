{
 "cells": [
  {
   "cell_type": "code",
   "execution_count": 1,
   "metadata": {},
   "outputs": [
    {
     "name": "stdout",
     "output_type": "stream",
     "text": [
      "WARNING:tensorflow:From C:\\ProgramData\\Anaconda3\\envs\\tf_2_3\\lib\\site-packages\\tensorflow\\python\\compat\\v2_compat.py:96: disable_resource_variables (from tensorflow.python.ops.variable_scope) is deprecated and will be removed in a future version.\n",
      "Instructions for updating:\n",
      "non-resource variables are not supported in the long term\n"
     ]
    }
   ],
   "source": [
    "import tensorflow.compat.v1 as tf\n",
    "tf.disable_v2_behavior()\n",
    "import numpy as np"
   ]
  },
  {
   "cell_type": "code",
   "execution_count": 2,
   "metadata": {},
   "outputs": [],
   "source": [
    "#step1. 데이터 로드& 변수에 할당.\n",
    "data = np.loadtxt(\"C:/Users/GimBoSeong/OneDrive/문서/DataScience/ICT/Py_Project/20201124_day27/data-03-diabetes.csv\",delimiter=\",\")\n",
    "\n",
    "x_data = data[:,0:-1]\n",
    "y_data = data[:,[-1]]"
   ]
  },
  {
   "cell_type": "code",
   "execution_count": 3,
   "metadata": {},
   "outputs": [],
   "source": [
    "X = tf.placeholder(tf.float32, shape=[None, 8])\n",
    "Y = tf.placeholder(tf.float32, shape=[None, 1])"
   ]
  },
  {
   "cell_type": "code",
   "execution_count": 4,
   "metadata": {},
   "outputs": [],
   "source": [
    "#기울기 a와 바이어스 b의 값을 임의로 정함. a는 [2,1] 형태를 가지며 a1,a2이다.\n",
    "W = tf.Variable(tf.random_uniform([8,1]) )\n",
    "#[2,1] 의미 : 들어오는 값은 2개, 나가는 값은 1개(tf.random_uniform([2,1])\n",
    "b = tf.Variable(tf.random_uniform([1]) )"
   ]
  },
  {
   "cell_type": "code",
   "execution_count": 5,
   "metadata": {},
   "outputs": [],
   "source": [
    "#y 시그모이드 함수의 방정식을 세움.\n",
    "hypthesis = tf.sigmoid(-(tf.matmul(X,W) +b ))"
   ]
  },
  {
   "cell_type": "code",
   "execution_count": 6,
   "metadata": {},
   "outputs": [],
   "source": [
    "cost = -tf.reduce_mean(Y * tf.log(hypthesis) + (1-Y) * tf.log(1-hypthesis))\n",
    "train = tf.train.GradientDescentOptimizer(learning_rate=0.01).minimize(cost)"
   ]
  },
  {
   "cell_type": "code",
   "execution_count": 7,
   "metadata": {},
   "outputs": [
    {
     "name": "stdout",
     "output_type": "stream",
     "text": [
      "step=0, cost_val=0.5872\n",
      "step=1000, cost_val=0.5522\n",
      "step=2000, cost_val=0.5296\n",
      "step=3000, cost_val=0.5145\n",
      "step=4000, cost_val=0.5041\n",
      "step=5000, cost_val=0.4967\n",
      "step=6000, cost_val=0.4913\n",
      "step=7000, cost_val=0.4873\n",
      "step=8000, cost_val=0.4843\n",
      "step=9000, cost_val=0.4820\n",
      "\n",
      " Accuracy: 0.7654809\n"
     ]
    }
   ],
   "source": [
    "predicted = tf.cast(hypthesis>0.5, dtype=tf.float32 ) #결과값 나오는 small Y이다#\n",
    "accuracy  = tf.reduce_mean(tf.cast(tf.equal(predicted, Y), dtype=tf.float32 )) #계산하기 좋게 0,1으로 변경한다\n",
    "\n",
    "#학습\n",
    "with tf.Session() as sess :\n",
    "    sess.run(tf.global_variables_initializer())\n",
    "\n",
    "    for step in range(10000) :\n",
    "        cost_val, _ = sess.run([cost,train], feed_dict={X:x_data, Y: y_data} ) \n",
    "        if step % 1000 == 0 :\n",
    "            print(\"step=%d, cost_val=%.4f\" % (step, cost_val))\n",
    "   #정확도 측정\n",
    "    _, _, a = sess.run( [ hypthesis, predicted, accuracy], feed_dict= {X:x_data, Y:y_data} )\n",
    "    print( \"\\n Accuracy:\",a)"
   ]
  },
  {
   "cell_type": "code",
   "execution_count": 8,
   "metadata": {},
   "outputs": [],
   "source": [
    "    \n",
    "#   print(\"predicted=\",sess.run(predicted, feed_dict={X:x_data} ))\n",
    "            \n",
    "#    #다른 값 테스트\n",
    "#    p_val, h_val = sess.run([predicted, y], feed_dict= {X:[ [1,5], [10,5], [4,5] ]} )\n",
    "#    print(\"check predicted=\",p_val) #연산된 값을 bool로 변환한 값.\n",
    "#    print(\"cechkhypothesis=\",h_val) #계산값\n",
    "\n",
    "#    #정확도 측정\n",
    "#    h,c,a = sess.run( [y, predicted, accuracy], feed_dict= {X:x_data, Y:y_data} )\n",
    "#    print(\"\\n Hypothesis :\", h ,\"\\n Correct (Y) :\", c, \"\\n Accuracy:\",a)"
   ]
  },
  {
   "cell_type": "code",
   "execution_count": null,
   "metadata": {},
   "outputs": [],
   "source": []
  }
 ],
 "metadata": {
  "kernelspec": {
   "display_name": "Python 3",
   "language": "python",
   "name": "python3"
  },
  "language_info": {
   "codemirror_mode": {
    "name": "ipython",
    "version": 3
   },
   "file_extension": ".py",
   "mimetype": "text/x-python",
   "name": "python",
   "nbconvert_exporter": "python",
   "pygments_lexer": "ipython3",
   "version": "3.7.9"
  }
 },
 "nbformat": 4,
 "nbformat_minor": 4
}
