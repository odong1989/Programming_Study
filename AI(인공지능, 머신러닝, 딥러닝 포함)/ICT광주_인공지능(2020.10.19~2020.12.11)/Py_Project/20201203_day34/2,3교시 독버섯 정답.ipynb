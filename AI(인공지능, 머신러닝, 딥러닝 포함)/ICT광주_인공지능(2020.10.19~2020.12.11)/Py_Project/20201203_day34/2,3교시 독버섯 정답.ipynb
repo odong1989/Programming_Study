{
 "cells": [
  {
   "cell_type": "code",
   "execution_count": 1,
   "metadata": {},
   "outputs": [],
   "source": [
    "import pandas as pd"
   ]
  },
  {
   "cell_type": "code",
   "execution_count": 2,
   "metadata": {},
   "outputs": [],
   "source": [
    "mushrooms =pd.read_csv(\"C:/sourceTree/DataScience/ICT/Py_Project/20201203_day34/mushrooms.csv\")\n",
    "\n",
    "# LabelEncoder - 열 단위로만 가능하므로 loop사용\n",
    "from sklearn.preprocessing import LabelEncoder\n",
    "labelencoder = LabelEncoder()\n",
    "\n",
    "for col in mushrooms.columns :\n",
    "    mushrooms[col] = labelencoder.fit_transform(mushrooms[col]) #열단위로 기존값들을 숫자로 바꿔줌.(1열씩 1열씩 문자->숫자변경)\n",
    "    \n",
    "#mushrooms"
   ]
  },
  {
   "cell_type": "code",
   "execution_count": 3,
   "metadata": {},
   "outputs": [],
   "source": [
    "import matplotlib.pyplot as plt\n",
    "\n",
    "y = mushrooms['class'].values        # class 열만을 취함.\n",
    "x = mushrooms.drop(['class'],axis=1) # class 열을 제외한 나머지 모든열을 취함.\n",
    "x = x.values"
   ]
  },
  {
   "cell_type": "code",
   "execution_count": 4,
   "metadata": {},
   "outputs": [],
   "source": [
    "import tensorflow as tf\n",
    "from tensorflow.keras.models import Sequential\n",
    "from tensorflow.keras.layers import Dense\n",
    "from sklearn.model_selection import train_test_split\n",
    "import numpy as np"
   ]
  },
  {
   "cell_type": "code",
   "execution_count": 5,
   "metadata": {},
   "outputs": [
    {
     "name": "stdout",
     "output_type": "stream",
     "text": [
      "x_train.shape= (6499, 22)\n",
      "x_test.shape= (1625, 22)\n",
      "y_train.shape= (6499,)\n",
      "y_test.shape= (1625,)\n",
      "[1 0 0 0 0]\n"
     ]
    }
   ],
   "source": [
    "seed=0\n",
    "x_train, x_test, y_train, y_test = train_test_split(x,y, test_size=0.2, random_state=seed)\n",
    "print(\"x_train.shape=\",x_train.shape)\n",
    "print(\"x_test.shape=\",x_test.shape)\n",
    "print(\"y_train.shape=\",y_train.shape)\n",
    "print(\"y_test.shape=\",y_test.shape)\n",
    "print(y_test[0:5])"
   ]
  },
  {
   "cell_type": "code",
   "execution_count": 6,
   "metadata": {},
   "outputs": [],
   "source": [
    "model = Sequential()\n",
    "model.add(Dense(48, input_dim=22, activation='relu'))\n",
    "model.add(Dense(24, activation='relu'))\n",
    "model.add(Dense(12, activation='relu'))\n",
    "model.add(Dense(1, activation='sigmoid'))"
   ]
  },
  {
   "cell_type": "code",
   "execution_count": 7,
   "metadata": {},
   "outputs": [
    {
     "name": "stdout",
     "output_type": "stream",
     "text": [
      "(6499, 22)\n",
      "(6499,)\n"
     ]
    }
   ],
   "source": [
    "print(x_train.shape)\n",
    "print(y_train.shape)"
   ]
  },
  {
   "cell_type": "code",
   "execution_count": 9,
   "metadata": {},
   "outputs": [
    {
     "name": "stdout",
     "output_type": "stream",
     "text": [
      "Epoch 1/25\n",
      "204/204 [==============================] - 0s 2ms/step - loss: 0.3264 - accuracy: 0.8657\n",
      "Epoch 2/25\n",
      "204/204 [==============================] - 0s 1ms/step - loss: 0.1318 - accuracy: 0.9503\n",
      "Epoch 3/25\n",
      "204/204 [==============================] - 0s 1ms/step - loss: 0.0624 - accuracy: 0.9802\n",
      "Epoch 4/25\n",
      "204/204 [==============================] - 0s 1ms/step - loss: 0.0322 - accuracy: 0.9912\n",
      "Epoch 5/25\n",
      "204/204 [==============================] - 0s 2ms/step - loss: 0.0143 - accuracy: 0.9983\n",
      "Epoch 6/25\n",
      "204/204 [==============================] - 0s 2ms/step - loss: 0.0148 - accuracy: 0.9963\n",
      "Epoch 7/25\n",
      "204/204 [==============================] - 0s 2ms/step - loss: 0.0053 - accuracy: 0.9998\n",
      "Epoch 8/25\n",
      "204/204 [==============================] - 0s 2ms/step - loss: 0.0037 - accuracy: 0.9995\n",
      "Epoch 9/25\n",
      "204/204 [==============================] - 0s 2ms/step - loss: 0.0052 - accuracy: 0.9991\n",
      "Epoch 10/25\n",
      "204/204 [==============================] - 0s 2ms/step - loss: 0.0021 - accuracy: 1.0000\n",
      "Epoch 11/25\n",
      "204/204 [==============================] - 0s 2ms/step - loss: 0.0019 - accuracy: 0.9997\n",
      "Epoch 12/25\n",
      "204/204 [==============================] - 0s 2ms/step - loss: 0.0012 - accuracy: 1.0000\n",
      "Epoch 13/25\n",
      "204/204 [==============================] - 0s 1ms/step - loss: 8.1210e-04 - accuracy: 1.0000\n",
      "Epoch 14/25\n",
      "204/204 [==============================] - 0s 1ms/step - loss: 0.0014 - accuracy: 0.9998\n",
      "Epoch 15/25\n",
      "204/204 [==============================] - 0s 1ms/step - loss: 0.0023 - accuracy: 0.9997\n",
      "Epoch 16/25\n",
      "204/204 [==============================] - 0s 2ms/step - loss: 3.9201e-04 - accuracy: 1.0000\n",
      "Epoch 17/25\n",
      "204/204 [==============================] - 0s 1ms/step - loss: 3.1635e-04 - accuracy: 1.0000\n",
      "Epoch 18/25\n",
      "204/204 [==============================] - 0s 1ms/step - loss: 2.5678e-04 - accuracy: 1.0000\n",
      "Epoch 19/25\n",
      "204/204 [==============================] - ETA: 0s - loss: 2.0287e-04 - accuracy: 1.00 - 0s 2ms/step - loss: 2.1173e-04 - accuracy: 1.0000\n",
      "Epoch 20/25\n",
      "204/204 [==============================] - 0s 2ms/step - loss: 1.9521e-04 - accuracy: 1.0000\n",
      "Epoch 21/25\n",
      "204/204 [==============================] - 0s 1ms/step - loss: 1.6671e-04 - accuracy: 1.0000\n",
      "Epoch 22/25\n",
      "204/204 [==============================] - 0s 1ms/step - loss: 1.4068e-04 - accuracy: 1.0000\n",
      "Epoch 23/25\n",
      "204/204 [==============================] - 0s 1ms/step - loss: 1.3869e-04 - accuracy: 1.0000\n",
      "Epoch 24/25\n",
      "204/204 [==============================] - 0s 1ms/step - loss: 9.9954e-05 - accuracy: 1.0000\n",
      "Epoch 25/25\n",
      "204/204 [==============================] - 0s 1ms/step - loss: 8.8797e-05 - accuracy: 1.0000\n"
     ]
    }
   ],
   "source": [
    "model.compile(loss='binary_crossentropy', optimizer='adam', metrics=['accuracy'])\n",
    "history=model.fit(x_train, y_train, epochs=25, batch_size=32)"
   ]
  },
  {
   "cell_type": "code",
   "execution_count": 10,
   "metadata": {},
   "outputs": [
    {
     "name": "stdout",
     "output_type": "stream",
     "text": [
      "Model: \"sequential\"\n",
      "_________________________________________________________________\n",
      "Layer (type)                 Output Shape              Param #   \n",
      "=================================================================\n",
      "dense (Dense)                (None, 48)                1104      \n",
      "_________________________________________________________________\n",
      "dense_1 (Dense)              (None, 24)                1176      \n",
      "_________________________________________________________________\n",
      "dense_2 (Dense)              (None, 12)                300       \n",
      "_________________________________________________________________\n",
      "dense_3 (Dense)              (None, 1)                 13        \n",
      "=================================================================\n",
      "Total params: 2,593\n",
      "Trainable params: 2,593\n",
      "Non-trainable params: 0\n",
      "_________________________________________________________________\n"
     ]
    }
   ],
   "source": [
    "model.summary()"
   ]
  },
  {
   "cell_type": "code",
   "execution_count": 11,
   "metadata": {},
   "outputs": [
    {
     "name": "stdout",
     "output_type": "stream",
     "text": [
      "51/51 [==============================] - 0s 745us/step - loss: 7.1761e-05 - accuracy: 1.0000\n"
     ]
    },
    {
     "data": {
      "text/plain": [
       "[7.17611110303551e-05, 1.0]"
      ]
     },
     "execution_count": 11,
     "metadata": {},
     "output_type": "execute_result"
    }
   ],
   "source": [
    "model.evaluate(x_test,y_test)"
   ]
  },
  {
   "cell_type": "code",
   "execution_count": null,
   "metadata": {},
   "outputs": [],
   "source": []
  }
 ],
 "metadata": {
  "kernelspec": {
   "display_name": "Python 3",
   "language": "python",
   "name": "python3"
  },
  "language_info": {
   "codemirror_mode": {
    "name": "ipython",
    "version": 3
   },
   "file_extension": ".py",
   "mimetype": "text/x-python",
   "name": "python",
   "nbconvert_exporter": "python",
   "pygments_lexer": "ipython3",
   "version": "3.7.9"
  }
 },
 "nbformat": 4,
 "nbformat_minor": 4
}
