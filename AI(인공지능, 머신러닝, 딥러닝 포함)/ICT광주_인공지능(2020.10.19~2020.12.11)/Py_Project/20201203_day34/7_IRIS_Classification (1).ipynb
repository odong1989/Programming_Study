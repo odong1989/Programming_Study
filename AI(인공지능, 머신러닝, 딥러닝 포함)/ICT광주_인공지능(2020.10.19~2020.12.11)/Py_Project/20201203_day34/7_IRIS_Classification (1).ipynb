{
 "cells": [
  {
   "cell_type": "code",
   "execution_count": 11,
   "metadata": {
    "colab": {
     "base_uri": "https://localhost:8080/",
     "height": 688
    },
    "colab_type": "code",
    "executionInfo": {
     "elapsed": 3555,
     "status": "ok",
     "timestamp": 1594963837571,
     "user": {
      "displayName": "Gilah Lee",
      "photoUrl": "",
      "userId": "12439456149827101116"
     },
     "user_tz": -540
    },
    "id": "ZIxVmLoeB7ql",
    "outputId": "6027f543-73c9-41cd-b40d-40adf13df783"
   },
   "outputs": [
    {
     "name": "stdout",
     "output_type": "stream",
     "text": [
      "Requirement already satisfied: tensorflow-gpu==2.2.0 in /usr/local/lib/python3.6/dist-packages (2.2.0)\n",
      "Requirement already satisfied: tensorflow-estimator<2.3.0,>=2.2.0 in /usr/local/lib/python3.6/dist-packages (from tensorflow-gpu==2.2.0) (2.2.0)\n",
      "Requirement already satisfied: six>=1.12.0 in /usr/local/lib/python3.6/dist-packages (from tensorflow-gpu==2.2.0) (1.12.0)\n",
      "Requirement already satisfied: wheel>=0.26; python_version >= \"3\" in /usr/local/lib/python3.6/dist-packages (from tensorflow-gpu==2.2.0) (0.34.2)\n",
      "Requirement already satisfied: wrapt>=1.11.1 in /usr/local/lib/python3.6/dist-packages (from tensorflow-gpu==2.2.0) (1.12.1)\n",
      "Requirement already satisfied: absl-py>=0.7.0 in /usr/local/lib/python3.6/dist-packages (from tensorflow-gpu==2.2.0) (0.9.0)\n",
      "Requirement already satisfied: tensorboard<2.3.0,>=2.2.0 in /usr/local/lib/python3.6/dist-packages (from tensorflow-gpu==2.2.0) (2.2.2)\n",
      "Requirement already satisfied: keras-preprocessing>=1.1.0 in /usr/local/lib/python3.6/dist-packages (from tensorflow-gpu==2.2.0) (1.1.2)\n",
      "Requirement already satisfied: termcolor>=1.1.0 in /usr/local/lib/python3.6/dist-packages (from tensorflow-gpu==2.2.0) (1.1.0)\n",
      "Requirement already satisfied: astunparse==1.6.3 in /usr/local/lib/python3.6/dist-packages (from tensorflow-gpu==2.2.0) (1.6.3)\n",
      "Requirement already satisfied: opt-einsum>=2.3.2 in /usr/local/lib/python3.6/dist-packages (from tensorflow-gpu==2.2.0) (3.2.1)\n",
      "Requirement already satisfied: protobuf>=3.8.0 in /usr/local/lib/python3.6/dist-packages (from tensorflow-gpu==2.2.0) (3.12.2)\n",
      "Requirement already satisfied: gast==0.3.3 in /usr/local/lib/python3.6/dist-packages (from tensorflow-gpu==2.2.0) (0.3.3)\n",
      "Requirement already satisfied: scipy==1.4.1; python_version >= \"3\" in /usr/local/lib/python3.6/dist-packages (from tensorflow-gpu==2.2.0) (1.4.1)\n",
      "Requirement already satisfied: numpy<2.0,>=1.16.0 in /usr/local/lib/python3.6/dist-packages (from tensorflow-gpu==2.2.0) (1.18.5)\n",
      "Requirement already satisfied: grpcio>=1.8.6 in /usr/local/lib/python3.6/dist-packages (from tensorflow-gpu==2.2.0) (1.30.0)\n",
      "Requirement already satisfied: h5py<2.11.0,>=2.10.0 in /usr/local/lib/python3.6/dist-packages (from tensorflow-gpu==2.2.0) (2.10.0)\n",
      "Requirement already satisfied: google-pasta>=0.1.8 in /usr/local/lib/python3.6/dist-packages (from tensorflow-gpu==2.2.0) (0.2.0)\n",
      "Requirement already satisfied: google-auth<2,>=1.6.3 in /usr/local/lib/python3.6/dist-packages (from tensorboard<2.3.0,>=2.2.0->tensorflow-gpu==2.2.0) (1.17.2)\n",
      "Requirement already satisfied: requests<3,>=2.21.0 in /usr/local/lib/python3.6/dist-packages (from tensorboard<2.3.0,>=2.2.0->tensorflow-gpu==2.2.0) (2.23.0)\n",
      "Requirement already satisfied: google-auth-oauthlib<0.5,>=0.4.1 in /usr/local/lib/python3.6/dist-packages (from tensorboard<2.3.0,>=2.2.0->tensorflow-gpu==2.2.0) (0.4.1)\n",
      "Requirement already satisfied: werkzeug>=0.11.15 in /usr/local/lib/python3.6/dist-packages (from tensorboard<2.3.0,>=2.2.0->tensorflow-gpu==2.2.0) (1.0.1)\n",
      "Requirement already satisfied: setuptools>=41.0.0 in /usr/local/lib/python3.6/dist-packages (from tensorboard<2.3.0,>=2.2.0->tensorflow-gpu==2.2.0) (49.1.0)\n",
      "Requirement already satisfied: markdown>=2.6.8 in /usr/local/lib/python3.6/dist-packages (from tensorboard<2.3.0,>=2.2.0->tensorflow-gpu==2.2.0) (3.2.2)\n",
      "Requirement already satisfied: tensorboard-plugin-wit>=1.6.0 in /usr/local/lib/python3.6/dist-packages (from tensorboard<2.3.0,>=2.2.0->tensorflow-gpu==2.2.0) (1.7.0)\n",
      "Requirement already satisfied: rsa<5,>=3.1.4; python_version >= \"3\" in /usr/local/lib/python3.6/dist-packages (from google-auth<2,>=1.6.3->tensorboard<2.3.0,>=2.2.0->tensorflow-gpu==2.2.0) (4.6)\n",
      "Requirement already satisfied: cachetools<5.0,>=2.0.0 in /usr/local/lib/python3.6/dist-packages (from google-auth<2,>=1.6.3->tensorboard<2.3.0,>=2.2.0->tensorflow-gpu==2.2.0) (4.1.1)\n",
      "Requirement already satisfied: pyasn1-modules>=0.2.1 in /usr/local/lib/python3.6/dist-packages (from google-auth<2,>=1.6.3->tensorboard<2.3.0,>=2.2.0->tensorflow-gpu==2.2.0) (0.2.8)\n",
      "Requirement already satisfied: certifi>=2017.4.17 in /usr/local/lib/python3.6/dist-packages (from requests<3,>=2.21.0->tensorboard<2.3.0,>=2.2.0->tensorflow-gpu==2.2.0) (2020.6.20)\n",
      "Requirement already satisfied: chardet<4,>=3.0.2 in /usr/local/lib/python3.6/dist-packages (from requests<3,>=2.21.0->tensorboard<2.3.0,>=2.2.0->tensorflow-gpu==2.2.0) (3.0.4)\n",
      "Requirement already satisfied: urllib3!=1.25.0,!=1.25.1,<1.26,>=1.21.1 in /usr/local/lib/python3.6/dist-packages (from requests<3,>=2.21.0->tensorboard<2.3.0,>=2.2.0->tensorflow-gpu==2.2.0) (1.24.3)\n",
      "Requirement already satisfied: idna<3,>=2.5 in /usr/local/lib/python3.6/dist-packages (from requests<3,>=2.21.0->tensorboard<2.3.0,>=2.2.0->tensorflow-gpu==2.2.0) (2.10)\n",
      "Requirement already satisfied: requests-oauthlib>=0.7.0 in /usr/local/lib/python3.6/dist-packages (from google-auth-oauthlib<0.5,>=0.4.1->tensorboard<2.3.0,>=2.2.0->tensorflow-gpu==2.2.0) (1.3.0)\n",
      "Requirement already satisfied: importlib-metadata; python_version < \"3.8\" in /usr/local/lib/python3.6/dist-packages (from markdown>=2.6.8->tensorboard<2.3.0,>=2.2.0->tensorflow-gpu==2.2.0) (1.7.0)\n",
      "Requirement already satisfied: pyasn1>=0.1.3 in /usr/local/lib/python3.6/dist-packages (from rsa<5,>=3.1.4; python_version >= \"3\"->google-auth<2,>=1.6.3->tensorboard<2.3.0,>=2.2.0->tensorflow-gpu==2.2.0) (0.4.8)\n",
      "Requirement already satisfied: oauthlib>=3.0.0 in /usr/local/lib/python3.6/dist-packages (from requests-oauthlib>=0.7.0->google-auth-oauthlib<0.5,>=0.4.1->tensorboard<2.3.0,>=2.2.0->tensorflow-gpu==2.2.0) (3.1.0)\n",
      "Requirement already satisfied: zipp>=0.5 in /usr/local/lib/python3.6/dist-packages (from importlib-metadata; python_version < \"3.8\"->markdown>=2.6.8->tensorboard<2.3.0,>=2.2.0->tensorflow-gpu==2.2.0) (3.1.0)\n"
     ]
    }
   ],
   "source": [
    "# 구글에서 제공하는 GPU를 이용해서 계산하기\n",
    "!pip install tensorflow-gpu==2.2.0"
   ]
  },
  {
   "cell_type": "code",
   "execution_count": 12,
   "metadata": {
    "colab": {
     "base_uri": "https://localhost:8080/",
     "height": 35
    },
    "colab_type": "code",
    "executionInfo": {
     "elapsed": 794,
     "status": "ok",
     "timestamp": 1594963847223,
     "user": {
      "displayName": "Gilah Lee",
      "photoUrl": "",
      "userId": "12439456149827101116"
     },
     "user_tz": -540
    },
    "id": "DOXVrhFHCVm-",
    "outputId": "bdd5118a-f4d6-47bc-f545-dfae0549ce73"
   },
   "outputs": [
    {
     "data": {
      "application/vnd.google.colaboratory.intrinsic": {
       "type": "string"
      },
      "text/plain": [
       "'2.2.0'"
      ]
     },
     "execution_count": 12,
     "metadata": {
      "tags": []
     },
     "output_type": "execute_result"
    }
   ],
   "source": [
    "import tensorflow as tf\n",
    "tf.__version__"
   ]
  },
  {
   "cell_type": "code",
   "execution_count": 13,
   "metadata": {
    "colab": {},
    "colab_type": "code",
    "executionInfo": {
     "elapsed": 681,
     "status": "ok",
     "timestamp": 1594963848576,
     "user": {
      "displayName": "Gilah Lee",
      "photoUrl": "",
      "userId": "12439456149827101116"
     },
     "user_tz": -540
    },
    "id": "qZWZbZ2uCWxq"
   },
   "outputs": [],
   "source": [
    "# 관련 모듈을 전부 import\n",
    "from keras.models import Sequential\n",
    "from keras.layers import Dense\n",
    "from keras.optimizers import Adam\n",
    "\n",
    "from sklearn.preprocessing import LabelEncoder\n",
    "from sklearn.model_selection import train_test_split\n",
    "\n",
    "import matplotlib.pyplot as plt\n",
    "import pandas as pd\n",
    "import numpy as np\n",
    "import seaborn as sns"
   ]
  },
  {
   "cell_type": "code",
   "execution_count": 14,
   "metadata": {
    "colab": {
     "base_uri": "https://localhost:8080/",
     "height": 402
    },
    "colab_type": "code",
    "executionInfo": {
     "elapsed": 476,
     "status": "ok",
     "timestamp": 1594963849583,
     "user": {
      "displayName": "Gilah Lee",
      "photoUrl": "",
      "userId": "12439456149827101116"
     },
     "user_tz": -540
    },
    "id": "73Zo5s4LDeKp",
    "outputId": "70b7797b-0171-435b-8d1e-2463c473d5b8"
   },
   "outputs": [
    {
     "data": {
      "text/html": [
       "<div>\n",
       "<style scoped>\n",
       "    .dataframe tbody tr th:only-of-type {\n",
       "        vertical-align: middle;\n",
       "    }\n",
       "\n",
       "    .dataframe tbody tr th {\n",
       "        vertical-align: top;\n",
       "    }\n",
       "\n",
       "    .dataframe thead th {\n",
       "        text-align: right;\n",
       "    }\n",
       "</style>\n",
       "<table border=\"1\" class=\"dataframe\">\n",
       "  <thead>\n",
       "    <tr style=\"text-align: right;\">\n",
       "      <th></th>\n",
       "      <th>sepal_length</th>\n",
       "      <th>sepal_width</th>\n",
       "      <th>petal_length</th>\n",
       "      <th>petal_width</th>\n",
       "      <th>species</th>\n",
       "    </tr>\n",
       "  </thead>\n",
       "  <tbody>\n",
       "    <tr>\n",
       "      <th>0</th>\n",
       "      <td>5.1</td>\n",
       "      <td>3.5</td>\n",
       "      <td>1.4</td>\n",
       "      <td>0.2</td>\n",
       "      <td>setosa</td>\n",
       "    </tr>\n",
       "    <tr>\n",
       "      <th>1</th>\n",
       "      <td>4.9</td>\n",
       "      <td>3.0</td>\n",
       "      <td>1.4</td>\n",
       "      <td>0.2</td>\n",
       "      <td>setosa</td>\n",
       "    </tr>\n",
       "    <tr>\n",
       "      <th>2</th>\n",
       "      <td>4.7</td>\n",
       "      <td>3.2</td>\n",
       "      <td>1.3</td>\n",
       "      <td>0.2</td>\n",
       "      <td>setosa</td>\n",
       "    </tr>\n",
       "    <tr>\n",
       "      <th>3</th>\n",
       "      <td>4.6</td>\n",
       "      <td>3.1</td>\n",
       "      <td>1.5</td>\n",
       "      <td>0.2</td>\n",
       "      <td>setosa</td>\n",
       "    </tr>\n",
       "    <tr>\n",
       "      <th>4</th>\n",
       "      <td>5.0</td>\n",
       "      <td>3.6</td>\n",
       "      <td>1.4</td>\n",
       "      <td>0.2</td>\n",
       "      <td>setosa</td>\n",
       "    </tr>\n",
       "    <tr>\n",
       "      <th>...</th>\n",
       "      <td>...</td>\n",
       "      <td>...</td>\n",
       "      <td>...</td>\n",
       "      <td>...</td>\n",
       "      <td>...</td>\n",
       "    </tr>\n",
       "    <tr>\n",
       "      <th>145</th>\n",
       "      <td>6.7</td>\n",
       "      <td>3.0</td>\n",
       "      <td>5.2</td>\n",
       "      <td>2.3</td>\n",
       "      <td>virginica</td>\n",
       "    </tr>\n",
       "    <tr>\n",
       "      <th>146</th>\n",
       "      <td>6.3</td>\n",
       "      <td>2.5</td>\n",
       "      <td>5.0</td>\n",
       "      <td>1.9</td>\n",
       "      <td>virginica</td>\n",
       "    </tr>\n",
       "    <tr>\n",
       "      <th>147</th>\n",
       "      <td>6.5</td>\n",
       "      <td>3.0</td>\n",
       "      <td>5.2</td>\n",
       "      <td>2.0</td>\n",
       "      <td>virginica</td>\n",
       "    </tr>\n",
       "    <tr>\n",
       "      <th>148</th>\n",
       "      <td>6.2</td>\n",
       "      <td>3.4</td>\n",
       "      <td>5.4</td>\n",
       "      <td>2.3</td>\n",
       "      <td>virginica</td>\n",
       "    </tr>\n",
       "    <tr>\n",
       "      <th>149</th>\n",
       "      <td>5.9</td>\n",
       "      <td>3.0</td>\n",
       "      <td>5.1</td>\n",
       "      <td>1.8</td>\n",
       "      <td>virginica</td>\n",
       "    </tr>\n",
       "  </tbody>\n",
       "</table>\n",
       "<p>150 rows × 5 columns</p>\n",
       "</div>"
      ],
      "text/plain": [
       "     sepal_length  sepal_width  petal_length  petal_width    species\n",
       "0             5.1          3.5           1.4          0.2     setosa\n",
       "1             4.9          3.0           1.4          0.2     setosa\n",
       "2             4.7          3.2           1.3          0.2     setosa\n",
       "3             4.6          3.1           1.5          0.2     setosa\n",
       "4             5.0          3.6           1.4          0.2     setosa\n",
       "..            ...          ...           ...          ...        ...\n",
       "145           6.7          3.0           5.2          2.3  virginica\n",
       "146           6.3          2.5           5.0          1.9  virginica\n",
       "147           6.5          3.0           5.2          2.0  virginica\n",
       "148           6.2          3.4           5.4          2.3  virginica\n",
       "149           5.9          3.0           5.1          1.8  virginica\n",
       "\n",
       "[150 rows x 5 columns]"
      ]
     },
     "execution_count": 14,
     "metadata": {
      "tags": []
     },
     "output_type": "execute_result"
    }
   ],
   "source": [
    "iris = sns.load_dataset(\"iris\")\n",
    "iris"
   ]
  },
  {
   "cell_type": "code",
   "execution_count": 15,
   "metadata": {
    "colab": {
     "base_uri": "https://localhost:8080/",
     "height": 228
    },
    "colab_type": "code",
    "executionInfo": {
     "elapsed": 789,
     "status": "ok",
     "timestamp": 1594963851121,
     "user": {
      "displayName": "Gilah Lee",
      "photoUrl": "",
      "userId": "12439456149827101116"
     },
     "user_tz": -540
    },
    "id": "_8ldL8IYDeIV",
    "outputId": "9e16a507-7a56-469f-d185-dce97cb61941"
   },
   "outputs": [
    {
     "name": "stdout",
     "output_type": "stream",
     "text": [
      "<class 'pandas.core.frame.DataFrame'>\n",
      "RangeIndex: 150 entries, 0 to 149\n",
      "Data columns (total 5 columns):\n",
      " #   Column        Non-Null Count  Dtype  \n",
      "---  ------        --------------  -----  \n",
      " 0   sepal_length  150 non-null    float64\n",
      " 1   sepal_width   150 non-null    float64\n",
      " 2   petal_length  150 non-null    float64\n",
      " 3   petal_width   150 non-null    float64\n",
      " 4   species       150 non-null    object \n",
      "dtypes: float64(4), object(1)\n",
      "memory usage: 6.0+ KB\n"
     ]
    }
   ],
   "source": [
    "iris.info()"
   ]
  },
  {
   "cell_type": "code",
   "execution_count": 16,
   "metadata": {
    "colab": {
     "base_uri": "https://localhost:8080/",
     "height": 1000
    },
    "colab_type": "code",
    "executionInfo": {
     "elapsed": 687,
     "status": "ok",
     "timestamp": 1594963852569,
     "user": {
      "displayName": "Gilah Lee",
      "photoUrl": "",
      "userId": "12439456149827101116"
     },
     "user_tz": -540
    },
    "id": "0rlYEGmKDeFY",
    "outputId": "b8ec6470-21f8-4ce1-c5e0-783ebbd273b8"
   },
   "outputs": [
    {
     "data": {
      "text/plain": [
       "array([[1, 0, 0],\n",
       "       [1, 0, 0],\n",
       "       [1, 0, 0],\n",
       "       [1, 0, 0],\n",
       "       [1, 0, 0],\n",
       "       [1, 0, 0],\n",
       "       [1, 0, 0],\n",
       "       [1, 0, 0],\n",
       "       [1, 0, 0],\n",
       "       [1, 0, 0],\n",
       "       [1, 0, 0],\n",
       "       [1, 0, 0],\n",
       "       [1, 0, 0],\n",
       "       [1, 0, 0],\n",
       "       [1, 0, 0],\n",
       "       [1, 0, 0],\n",
       "       [1, 0, 0],\n",
       "       [1, 0, 0],\n",
       "       [1, 0, 0],\n",
       "       [1, 0, 0],\n",
       "       [1, 0, 0],\n",
       "       [1, 0, 0],\n",
       "       [1, 0, 0],\n",
       "       [1, 0, 0],\n",
       "       [1, 0, 0],\n",
       "       [1, 0, 0],\n",
       "       [1, 0, 0],\n",
       "       [1, 0, 0],\n",
       "       [1, 0, 0],\n",
       "       [1, 0, 0],\n",
       "       [1, 0, 0],\n",
       "       [1, 0, 0],\n",
       "       [1, 0, 0],\n",
       "       [1, 0, 0],\n",
       "       [1, 0, 0],\n",
       "       [1, 0, 0],\n",
       "       [1, 0, 0],\n",
       "       [1, 0, 0],\n",
       "       [1, 0, 0],\n",
       "       [1, 0, 0],\n",
       "       [1, 0, 0],\n",
       "       [1, 0, 0],\n",
       "       [1, 0, 0],\n",
       "       [1, 0, 0],\n",
       "       [1, 0, 0],\n",
       "       [1, 0, 0],\n",
       "       [1, 0, 0],\n",
       "       [1, 0, 0],\n",
       "       [1, 0, 0],\n",
       "       [1, 0, 0],\n",
       "       [0, 1, 0],\n",
       "       [0, 1, 0],\n",
       "       [0, 1, 0],\n",
       "       [0, 1, 0],\n",
       "       [0, 1, 0],\n",
       "       [0, 1, 0],\n",
       "       [0, 1, 0],\n",
       "       [0, 1, 0],\n",
       "       [0, 1, 0],\n",
       "       [0, 1, 0],\n",
       "       [0, 1, 0],\n",
       "       [0, 1, 0],\n",
       "       [0, 1, 0],\n",
       "       [0, 1, 0],\n",
       "       [0, 1, 0],\n",
       "       [0, 1, 0],\n",
       "       [0, 1, 0],\n",
       "       [0, 1, 0],\n",
       "       [0, 1, 0],\n",
       "       [0, 1, 0],\n",
       "       [0, 1, 0],\n",
       "       [0, 1, 0],\n",
       "       [0, 1, 0],\n",
       "       [0, 1, 0],\n",
       "       [0, 1, 0],\n",
       "       [0, 1, 0],\n",
       "       [0, 1, 0],\n",
       "       [0, 1, 0],\n",
       "       [0, 1, 0],\n",
       "       [0, 1, 0],\n",
       "       [0, 1, 0],\n",
       "       [0, 1, 0],\n",
       "       [0, 1, 0],\n",
       "       [0, 1, 0],\n",
       "       [0, 1, 0],\n",
       "       [0, 1, 0],\n",
       "       [0, 1, 0],\n",
       "       [0, 1, 0],\n",
       "       [0, 1, 0],\n",
       "       [0, 1, 0],\n",
       "       [0, 1, 0],\n",
       "       [0, 1, 0],\n",
       "       [0, 1, 0],\n",
       "       [0, 1, 0],\n",
       "       [0, 1, 0],\n",
       "       [0, 1, 0],\n",
       "       [0, 1, 0],\n",
       "       [0, 1, 0],\n",
       "       [0, 1, 0],\n",
       "       [0, 1, 0],\n",
       "       [0, 0, 1],\n",
       "       [0, 0, 1],\n",
       "       [0, 0, 1],\n",
       "       [0, 0, 1],\n",
       "       [0, 0, 1],\n",
       "       [0, 0, 1],\n",
       "       [0, 0, 1],\n",
       "       [0, 0, 1],\n",
       "       [0, 0, 1],\n",
       "       [0, 0, 1],\n",
       "       [0, 0, 1],\n",
       "       [0, 0, 1],\n",
       "       [0, 0, 1],\n",
       "       [0, 0, 1],\n",
       "       [0, 0, 1],\n",
       "       [0, 0, 1],\n",
       "       [0, 0, 1],\n",
       "       [0, 0, 1],\n",
       "       [0, 0, 1],\n",
       "       [0, 0, 1],\n",
       "       [0, 0, 1],\n",
       "       [0, 0, 1],\n",
       "       [0, 0, 1],\n",
       "       [0, 0, 1],\n",
       "       [0, 0, 1],\n",
       "       [0, 0, 1],\n",
       "       [0, 0, 1],\n",
       "       [0, 0, 1],\n",
       "       [0, 0, 1],\n",
       "       [0, 0, 1],\n",
       "       [0, 0, 1],\n",
       "       [0, 0, 1],\n",
       "       [0, 0, 1],\n",
       "       [0, 0, 1],\n",
       "       [0, 0, 1],\n",
       "       [0, 0, 1],\n",
       "       [0, 0, 1],\n",
       "       [0, 0, 1],\n",
       "       [0, 0, 1],\n",
       "       [0, 0, 1],\n",
       "       [0, 0, 1],\n",
       "       [0, 0, 1],\n",
       "       [0, 0, 1],\n",
       "       [0, 0, 1],\n",
       "       [0, 0, 1],\n",
       "       [0, 0, 1],\n",
       "       [0, 0, 1],\n",
       "       [0, 0, 1],\n",
       "       [0, 0, 1],\n",
       "       [0, 0, 1]], dtype=uint8)"
      ]
     },
     "execution_count": 16,
     "metadata": {
      "tags": []
     },
     "output_type": "execute_result"
    }
   ],
   "source": [
    "X = iris.iloc[:, 0:4].values # ndarray 2차원 (float64)\n",
    "y = iris.iloc[:, 4].values   # ndarray 1차원 (문자)\n",
    "\n",
    "le = LabelEncoder()\n",
    "y1 = le.fit_transform(y)     # 0, 1, 2\n",
    "Y= pd.get_dummies(y1).values # ndarray 2차원 one hot encoding이 완료된 데이터\n",
    "Y"
   ]
  },
  {
   "cell_type": "code",
   "execution_count": 17,
   "metadata": {
    "colab": {
     "base_uri": "https://localhost:8080/",
     "height": 34
    },
    "colab_type": "code",
    "executionInfo": {
     "elapsed": 699,
     "status": "ok",
     "timestamp": 1594963854030,
     "user": {
      "displayName": "Gilah Lee",
      "photoUrl": "",
      "userId": "12439456149827101116"
     },
     "user_tz": -540
    },
    "id": "quR-ndnZDeCF",
    "outputId": "62307bbf-e117-4ce5-9d4a-1ce9af9416b0"
   },
   "outputs": [
    {
     "data": {
      "text/plain": [
       "((120, 4), (30, 4), (120, 3), (30, 3))"
      ]
     },
     "execution_count": 17,
     "metadata": {
      "tags": []
     },
     "output_type": "execute_result"
    }
   ],
   "source": [
    "# 위에서 전처리가 끝난 X, Y를 훈련/검증 데이터로 나눈다.\n",
    "\n",
    "X_train, X_test, y_train, y_test = train_test_split(X, Y, test_size=0.2, random_state=1)\n",
    "X_train.shape, X_test.shape, y_train.shape, y_test.shape"
   ]
  },
  {
   "cell_type": "code",
   "execution_count": 18,
   "metadata": {
    "colab": {
     "base_uri": "https://localhost:8080/",
     "height": 263
    },
    "colab_type": "code",
    "executionInfo": {
     "elapsed": 728,
     "status": "ok",
     "timestamp": 1594963855563,
     "user": {
      "displayName": "Gilah Lee",
      "photoUrl": "",
      "userId": "12439456149827101116"
     },
     "user_tz": -540
    },
    "id": "tCGvU2zVDd9H",
    "outputId": "811716d6-4815-4401-9783-0696e2a6b565",
    "scrolled": true
   },
   "outputs": [
    {
     "name": "stdout",
     "output_type": "stream",
     "text": [
      "Model: \"sequential_2\"\n",
      "_________________________________________________________________\n",
      "Layer (type)                 Output Shape              Param #   \n",
      "=================================================================\n",
      "dense_4 (Dense)              (None, 64)                320       \n",
      "_________________________________________________________________\n",
      "dense_5 (Dense)              (None, 64)                4160      \n",
      "_________________________________________________________________\n",
      "dense_6 (Dense)              (None, 3)                 195       \n",
      "=================================================================\n",
      "Total params: 4,675\n",
      "Trainable params: 4,675\n",
      "Non-trainable params: 0\n",
      "_________________________________________________________________\n"
     ]
    }
   ],
   "source": [
    "# 모델 생성\n",
    "model = Sequential()\n",
    "\n",
    "model.add(Dense(64, activation=\"relu\", input_shape=(4, ) ))\n",
    "model.add(Dense(64, activation=\"relu\" ))\n",
    "model.add(Dense(3, activation=\"softmax\"))\n",
    "\n",
    "model.summary()"
   ]
  },
  {
   "cell_type": "code",
   "execution_count": 19,
   "metadata": {
    "colab": {},
    "colab_type": "code",
    "executionInfo": {
     "elapsed": 447,
     "status": "ok",
     "timestamp": 1594963856802,
     "user": {
      "displayName": "Gilah Lee",
      "photoUrl": "",
      "userId": "12439456149827101116"
     },
     "user_tz": -540
    },
    "id": "yNbGJGtVJd9I"
   },
   "outputs": [],
   "source": [
    "model.compile(optimizer='Adam', loss='categorical_crossentropy', metrics=['accuracy']) # SGD, MSE"
   ]
  },
  {
   "cell_type": "code",
   "execution_count": 20,
   "metadata": {
    "colab": {
     "base_uri": "https://localhost:8080/",
     "height": 1000
    },
    "colab_type": "code",
    "executionInfo": {
     "elapsed": 2921,
     "status": "ok",
     "timestamp": 1594963860429,
     "user": {
      "displayName": "Gilah Lee",
      "photoUrl": "",
      "userId": "12439456149827101116"
     },
     "user_tz": -540
    },
    "id": "KHTyFBBIDd60",
    "outputId": "da634f24-7401-4b4b-c38d-a15aa9f32d50"
   },
   "outputs": [
    {
     "name": "stdout",
     "output_type": "stream",
     "text": [
      "Train on 120 samples, validate on 30 samples\n",
      "Epoch 1/100\n",
      "120/120 [==============================] - 0s 863us/step - loss: 1.1321 - accuracy: 0.2750 - val_loss: 1.1500 - val_accuracy: 0.2000\n",
      "Epoch 2/100\n",
      "120/120 [==============================] - 0s 142us/step - loss: 1.0240 - accuracy: 0.3667 - val_loss: 1.0332 - val_accuracy: 0.2000\n",
      "Epoch 3/100\n",
      "120/120 [==============================] - 0s 136us/step - loss: 0.9458 - accuracy: 0.4083 - val_loss: 0.9516 - val_accuracy: 0.5667\n",
      "Epoch 4/100\n",
      "120/120 [==============================] - 0s 136us/step - loss: 0.8793 - accuracy: 0.6917 - val_loss: 0.9125 - val_accuracy: 0.5667\n",
      "Epoch 5/100\n",
      "120/120 [==============================] - 0s 130us/step - loss: 0.8296 - accuracy: 0.6917 - val_loss: 0.8734 - val_accuracy: 0.5667\n",
      "Epoch 6/100\n",
      "120/120 [==============================] - 0s 118us/step - loss: 0.7780 - accuracy: 0.6917 - val_loss: 0.7939 - val_accuracy: 0.5667\n",
      "Epoch 7/100\n",
      "120/120 [==============================] - 0s 133us/step - loss: 0.7268 - accuracy: 0.6917 - val_loss: 0.7580 - val_accuracy: 0.5667\n",
      "Epoch 8/100\n",
      "120/120 [==============================] - 0s 175us/step - loss: 0.6813 - accuracy: 0.7000 - val_loss: 0.6966 - val_accuracy: 0.6000\n",
      "Epoch 9/100\n",
      "120/120 [==============================] - 0s 136us/step - loss: 0.6402 - accuracy: 0.8000 - val_loss: 0.6572 - val_accuracy: 0.6000\n",
      "Epoch 10/100\n",
      "120/120 [==============================] - 0s 130us/step - loss: 0.5996 - accuracy: 0.7417 - val_loss: 0.6379 - val_accuracy: 0.5667\n",
      "Epoch 11/100\n",
      "120/120 [==============================] - 0s 143us/step - loss: 0.5626 - accuracy: 0.7167 - val_loss: 0.5983 - val_accuracy: 0.6000\n",
      "Epoch 12/100\n",
      "120/120 [==============================] - 0s 133us/step - loss: 0.5333 - accuracy: 0.8250 - val_loss: 0.5616 - val_accuracy: 0.6667\n",
      "Epoch 13/100\n",
      "120/120 [==============================] - 0s 173us/step - loss: 0.5038 - accuracy: 0.8500 - val_loss: 0.5456 - val_accuracy: 0.6667\n",
      "Epoch 14/100\n",
      "120/120 [==============================] - 0s 164us/step - loss: 0.4806 - accuracy: 0.8500 - val_loss: 0.5249 - val_accuracy: 0.6667\n",
      "Epoch 15/100\n",
      "120/120 [==============================] - 0s 147us/step - loss: 0.4608 - accuracy: 0.8667 - val_loss: 0.5008 - val_accuracy: 0.7667\n",
      "Epoch 16/100\n",
      "120/120 [==============================] - 0s 143us/step - loss: 0.4387 - accuracy: 0.8583 - val_loss: 0.4934 - val_accuracy: 0.6667\n",
      "Epoch 17/100\n",
      "120/120 [==============================] - 0s 164us/step - loss: 0.4223 - accuracy: 0.9000 - val_loss: 0.4541 - val_accuracy: 0.8000\n",
      "Epoch 18/100\n",
      "120/120 [==============================] - 0s 125us/step - loss: 0.4038 - accuracy: 0.9167 - val_loss: 0.4525 - val_accuracy: 0.7667\n",
      "Epoch 19/100\n",
      "120/120 [==============================] - 0s 155us/step - loss: 0.3867 - accuracy: 0.9083 - val_loss: 0.4302 - val_accuracy: 0.8000\n",
      "Epoch 20/100\n",
      "120/120 [==============================] - 0s 147us/step - loss: 0.3715 - accuracy: 0.9583 - val_loss: 0.3945 - val_accuracy: 0.9333\n",
      "Epoch 21/100\n",
      "120/120 [==============================] - 0s 151us/step - loss: 0.3621 - accuracy: 0.9750 - val_loss: 0.4084 - val_accuracy: 0.8000\n",
      "Epoch 22/100\n",
      "120/120 [==============================] - 0s 136us/step - loss: 0.3456 - accuracy: 0.9333 - val_loss: 0.4023 - val_accuracy: 0.8000\n",
      "Epoch 23/100\n",
      "120/120 [==============================] - 0s 144us/step - loss: 0.3307 - accuracy: 0.9583 - val_loss: 0.3680 - val_accuracy: 0.9333\n",
      "Epoch 24/100\n",
      "120/120 [==============================] - 0s 127us/step - loss: 0.3215 - accuracy: 0.9750 - val_loss: 0.3687 - val_accuracy: 0.9000\n",
      "Epoch 25/100\n",
      "120/120 [==============================] - 0s 156us/step - loss: 0.3071 - accuracy: 0.9750 - val_loss: 0.3540 - val_accuracy: 0.9333\n",
      "Epoch 26/100\n",
      "120/120 [==============================] - 0s 143us/step - loss: 0.2993 - accuracy: 0.9750 - val_loss: 0.3437 - val_accuracy: 0.9333\n",
      "Epoch 27/100\n",
      "120/120 [==============================] - 0s 153us/step - loss: 0.2914 - accuracy: 0.9667 - val_loss: 0.3440 - val_accuracy: 0.9000\n",
      "Epoch 28/100\n",
      "120/120 [==============================] - 0s 144us/step - loss: 0.2758 - accuracy: 0.9667 - val_loss: 0.3212 - val_accuracy: 0.9333\n",
      "Epoch 29/100\n",
      "120/120 [==============================] - 0s 160us/step - loss: 0.2721 - accuracy: 0.9750 - val_loss: 0.3029 - val_accuracy: 0.9667\n",
      "Epoch 30/100\n",
      "120/120 [==============================] - 0s 127us/step - loss: 0.2610 - accuracy: 0.9667 - val_loss: 0.3246 - val_accuracy: 0.9000\n",
      "Epoch 31/100\n",
      "120/120 [==============================] - 0s 155us/step - loss: 0.2507 - accuracy: 0.9667 - val_loss: 0.3089 - val_accuracy: 0.9333\n",
      "Epoch 32/100\n",
      "120/120 [==============================] - 0s 136us/step - loss: 0.2403 - accuracy: 0.9750 - val_loss: 0.2825 - val_accuracy: 0.9667\n",
      "Epoch 33/100\n",
      "120/120 [==============================] - 0s 134us/step - loss: 0.2340 - accuracy: 0.9833 - val_loss: 0.2765 - val_accuracy: 0.9667\n",
      "Epoch 34/100\n",
      "120/120 [==============================] - 0s 140us/step - loss: 0.2301 - accuracy: 0.9667 - val_loss: 0.2949 - val_accuracy: 0.9000\n",
      "Epoch 35/100\n",
      "120/120 [==============================] - 0s 130us/step - loss: 0.2195 - accuracy: 0.9750 - val_loss: 0.2631 - val_accuracy: 0.9667\n",
      "Epoch 36/100\n",
      "120/120 [==============================] - 0s 141us/step - loss: 0.2111 - accuracy: 0.9750 - val_loss: 0.2527 - val_accuracy: 0.9667\n",
      "Epoch 37/100\n",
      "120/120 [==============================] - 0s 129us/step - loss: 0.2044 - accuracy: 0.9750 - val_loss: 0.2555 - val_accuracy: 0.9667\n",
      "Epoch 38/100\n",
      "120/120 [==============================] - 0s 145us/step - loss: 0.2059 - accuracy: 0.9667 - val_loss: 0.2527 - val_accuracy: 0.9333\n",
      "Epoch 39/100\n",
      "120/120 [==============================] - 0s 203us/step - loss: 0.1902 - accuracy: 0.9750 - val_loss: 0.2288 - val_accuracy: 0.9667\n",
      "Epoch 40/100\n",
      "120/120 [==============================] - 0s 148us/step - loss: 0.1895 - accuracy: 0.9667 - val_loss: 0.2297 - val_accuracy: 0.9667\n",
      "Epoch 41/100\n",
      "120/120 [==============================] - 0s 142us/step - loss: 0.1792 - accuracy: 0.9750 - val_loss: 0.2462 - val_accuracy: 0.9333\n",
      "Epoch 42/100\n",
      "120/120 [==============================] - 0s 137us/step - loss: 0.1781 - accuracy: 0.9750 - val_loss: 0.2312 - val_accuracy: 0.9333\n",
      "Epoch 43/100\n",
      "120/120 [==============================] - 0s 139us/step - loss: 0.1702 - accuracy: 0.9750 - val_loss: 0.2063 - val_accuracy: 1.0000\n",
      "Epoch 44/100\n",
      "120/120 [==============================] - 0s 124us/step - loss: 0.1673 - accuracy: 0.9667 - val_loss: 0.2123 - val_accuracy: 0.9667\n",
      "Epoch 45/100\n",
      "120/120 [==============================] - 0s 140us/step - loss: 0.1605 - accuracy: 0.9750 - val_loss: 0.2130 - val_accuracy: 0.9667\n",
      "Epoch 46/100\n",
      "120/120 [==============================] - 0s 144us/step - loss: 0.1595 - accuracy: 0.9750 - val_loss: 0.2090 - val_accuracy: 0.9667\n",
      "Epoch 47/100\n",
      "120/120 [==============================] - 0s 141us/step - loss: 0.1522 - accuracy: 0.9750 - val_loss: 0.1909 - val_accuracy: 0.9667\n",
      "Epoch 48/100\n",
      "120/120 [==============================] - 0s 161us/step - loss: 0.1510 - accuracy: 0.9667 - val_loss: 0.1891 - val_accuracy: 0.9667\n",
      "Epoch 49/100\n",
      "120/120 [==============================] - 0s 135us/step - loss: 0.1484 - accuracy: 0.9750 - val_loss: 0.2023 - val_accuracy: 0.9667\n",
      "Epoch 50/100\n",
      "120/120 [==============================] - 0s 145us/step - loss: 0.1422 - accuracy: 0.9750 - val_loss: 0.1819 - val_accuracy: 0.9667\n",
      "Epoch 51/100\n",
      "120/120 [==============================] - 0s 152us/step - loss: 0.1395 - accuracy: 0.9833 - val_loss: 0.1738 - val_accuracy: 1.0000\n",
      "Epoch 52/100\n",
      "120/120 [==============================] - 0s 146us/step - loss: 0.1367 - accuracy: 0.9750 - val_loss: 0.1858 - val_accuracy: 0.9667\n",
      "Epoch 53/100\n",
      "120/120 [==============================] - 0s 154us/step - loss: 0.1349 - accuracy: 0.9750 - val_loss: 0.1743 - val_accuracy: 0.9667\n",
      "Epoch 54/100\n",
      "120/120 [==============================] - 0s 161us/step - loss: 0.1300 - accuracy: 0.9750 - val_loss: 0.1764 - val_accuracy: 0.9667\n",
      "Epoch 55/100\n",
      "120/120 [==============================] - 0s 142us/step - loss: 0.1298 - accuracy: 0.9750 - val_loss: 0.1667 - val_accuracy: 0.9667\n",
      "Epoch 56/100\n",
      "120/120 [==============================] - 0s 134us/step - loss: 0.1290 - accuracy: 0.9833 - val_loss: 0.1535 - val_accuracy: 1.0000\n",
      "Epoch 57/100\n",
      "120/120 [==============================] - 0s 127us/step - loss: 0.1227 - accuracy: 0.9750 - val_loss: 0.1653 - val_accuracy: 0.9667\n",
      "Epoch 58/100\n",
      "120/120 [==============================] - 0s 158us/step - loss: 0.1271 - accuracy: 0.9667 - val_loss: 0.1847 - val_accuracy: 0.9333\n",
      "Epoch 59/100\n",
      "120/120 [==============================] - 0s 156us/step - loss: 0.1204 - accuracy: 0.9750 - val_loss: 0.1497 - val_accuracy: 1.0000\n",
      "Epoch 60/100\n",
      "120/120 [==============================] - 0s 130us/step - loss: 0.1213 - accuracy: 0.9750 - val_loss: 0.1428 - val_accuracy: 1.0000\n",
      "Epoch 61/100\n",
      "120/120 [==============================] - 0s 130us/step - loss: 0.1200 - accuracy: 0.9667 - val_loss: 0.1635 - val_accuracy: 0.9667\n",
      "Epoch 62/100\n",
      "120/120 [==============================] - 0s 149us/step - loss: 0.1153 - accuracy: 0.9750 - val_loss: 0.1458 - val_accuracy: 0.9667\n",
      "Epoch 63/100\n",
      "120/120 [==============================] - 0s 136us/step - loss: 0.1126 - accuracy: 0.9667 - val_loss: 0.1397 - val_accuracy: 1.0000\n",
      "Epoch 64/100\n",
      "120/120 [==============================] - 0s 219us/step - loss: 0.1097 - accuracy: 0.9667 - val_loss: 0.1479 - val_accuracy: 0.9667\n",
      "Epoch 65/100\n",
      "120/120 [==============================] - 0s 130us/step - loss: 0.1110 - accuracy: 0.9750 - val_loss: 0.1389 - val_accuracy: 0.9667\n",
      "Epoch 66/100\n",
      "120/120 [==============================] - 0s 135us/step - loss: 0.1060 - accuracy: 0.9750 - val_loss: 0.1422 - val_accuracy: 0.9667\n",
      "Epoch 67/100\n",
      "120/120 [==============================] - 0s 132us/step - loss: 0.1054 - accuracy: 0.9750 - val_loss: 0.1344 - val_accuracy: 0.9667\n",
      "Epoch 68/100\n",
      "120/120 [==============================] - 0s 125us/step - loss: 0.1039 - accuracy: 0.9750 - val_loss: 0.1344 - val_accuracy: 0.9667\n",
      "Epoch 69/100\n",
      "120/120 [==============================] - 0s 134us/step - loss: 0.1030 - accuracy: 0.9667 - val_loss: 0.1264 - val_accuracy: 1.0000\n",
      "Epoch 70/100\n",
      "120/120 [==============================] - 0s 134us/step - loss: 0.1015 - accuracy: 0.9833 - val_loss: 0.1312 - val_accuracy: 0.9667\n",
      "Epoch 71/100\n",
      "120/120 [==============================] - 0s 176us/step - loss: 0.0999 - accuracy: 0.9750 - val_loss: 0.1333 - val_accuracy: 0.9667\n",
      "Epoch 72/100\n",
      "120/120 [==============================] - 0s 147us/step - loss: 0.0995 - accuracy: 0.9750 - val_loss: 0.1221 - val_accuracy: 1.0000\n",
      "Epoch 73/100\n",
      "120/120 [==============================] - 0s 144us/step - loss: 0.0995 - accuracy: 0.9667 - val_loss: 0.1201 - val_accuracy: 1.0000\n",
      "Epoch 74/100\n",
      "120/120 [==============================] - 0s 172us/step - loss: 0.0986 - accuracy: 0.9750 - val_loss: 0.1363 - val_accuracy: 0.9667\n",
      "Epoch 75/100\n",
      "120/120 [==============================] - 0s 132us/step - loss: 0.1000 - accuracy: 0.9750 - val_loss: 0.1174 - val_accuracy: 1.0000\n",
      "Epoch 76/100\n",
      "120/120 [==============================] - 0s 252us/step - loss: 0.0956 - accuracy: 0.9750 - val_loss: 0.1160 - val_accuracy: 1.0000\n",
      "Epoch 77/100\n",
      "120/120 [==============================] - 0s 137us/step - loss: 0.0936 - accuracy: 0.9833 - val_loss: 0.1201 - val_accuracy: 0.9667\n",
      "Epoch 78/100\n",
      "120/120 [==============================] - 0s 137us/step - loss: 0.0967 - accuracy: 0.9750 - val_loss: 0.1235 - val_accuracy: 0.9667\n",
      "Epoch 79/100\n",
      "120/120 [==============================] - 0s 133us/step - loss: 0.0907 - accuracy: 0.9667 - val_loss: 0.1086 - val_accuracy: 1.0000\n",
      "Epoch 80/100\n",
      "120/120 [==============================] - 0s 131us/step - loss: 0.0931 - accuracy: 0.9667 - val_loss: 0.1076 - val_accuracy: 1.0000\n",
      "Epoch 81/100\n",
      "120/120 [==============================] - 0s 130us/step - loss: 0.0906 - accuracy: 0.9667 - val_loss: 0.1127 - val_accuracy: 1.0000\n",
      "Epoch 82/100\n",
      "120/120 [==============================] - 0s 147us/step - loss: 0.0896 - accuracy: 0.9750 - val_loss: 0.1155 - val_accuracy: 0.9667\n",
      "Epoch 83/100\n",
      "120/120 [==============================] - 0s 145us/step - loss: 0.0915 - accuracy: 0.9750 - val_loss: 0.1106 - val_accuracy: 1.0000\n",
      "Epoch 84/100\n",
      "120/120 [==============================] - 0s 137us/step - loss: 0.0883 - accuracy: 0.9750 - val_loss: 0.1111 - val_accuracy: 0.9667\n",
      "Epoch 85/100\n",
      "120/120 [==============================] - 0s 146us/step - loss: 0.0878 - accuracy: 0.9750 - val_loss: 0.1071 - val_accuracy: 1.0000\n",
      "Epoch 86/100\n",
      "120/120 [==============================] - 0s 124us/step - loss: 0.0912 - accuracy: 0.9583 - val_loss: 0.0997 - val_accuracy: 1.0000\n",
      "Epoch 87/100\n",
      "120/120 [==============================] - 0s 124us/step - loss: 0.0890 - accuracy: 0.9667 - val_loss: 0.1100 - val_accuracy: 0.9667\n",
      "Epoch 88/100\n",
      "120/120 [==============================] - 0s 136us/step - loss: 0.0872 - accuracy: 0.9750 - val_loss: 0.1031 - val_accuracy: 1.0000\n",
      "Epoch 89/100\n",
      "120/120 [==============================] - 0s 137us/step - loss: 0.0861 - accuracy: 0.9833 - val_loss: 0.1025 - val_accuracy: 1.0000\n",
      "Epoch 90/100\n",
      "120/120 [==============================] - 0s 131us/step - loss: 0.0872 - accuracy: 0.9667 - val_loss: 0.1044 - val_accuracy: 1.0000\n",
      "Epoch 91/100\n",
      "120/120 [==============================] - 0s 136us/step - loss: 0.0850 - accuracy: 0.9750 - val_loss: 0.1061 - val_accuracy: 0.9667\n",
      "Epoch 92/100\n",
      "120/120 [==============================] - 0s 139us/step - loss: 0.0844 - accuracy: 0.9750 - val_loss: 0.1013 - val_accuracy: 1.0000\n",
      "Epoch 93/100\n",
      "120/120 [==============================] - 0s 141us/step - loss: 0.0844 - accuracy: 0.9667 - val_loss: 0.0938 - val_accuracy: 1.0000\n",
      "Epoch 94/100\n",
      "120/120 [==============================] - 0s 142us/step - loss: 0.0834 - accuracy: 0.9667 - val_loss: 0.0980 - val_accuracy: 1.0000\n",
      "Epoch 95/100\n",
      "120/120 [==============================] - 0s 144us/step - loss: 0.0824 - accuracy: 0.9750 - val_loss: 0.0963 - val_accuracy: 1.0000\n",
      "Epoch 96/100\n",
      "120/120 [==============================] - 0s 159us/step - loss: 0.0835 - accuracy: 0.9750 - val_loss: 0.0996 - val_accuracy: 0.9667\n",
      "Epoch 97/100\n",
      "120/120 [==============================] - 0s 142us/step - loss: 0.0831 - accuracy: 0.9750 - val_loss: 0.0908 - val_accuracy: 1.0000\n",
      "Epoch 98/100\n",
      "120/120 [==============================] - 0s 193us/step - loss: 0.0815 - accuracy: 0.9750 - val_loss: 0.0941 - val_accuracy: 1.0000\n",
      "Epoch 99/100\n",
      "120/120 [==============================] - 0s 140us/step - loss: 0.0836 - accuracy: 0.9750 - val_loss: 0.0921 - val_accuracy: 1.0000\n",
      "Epoch 100/100\n",
      "120/120 [==============================] - 0s 198us/step - loss: 0.0820 - accuracy: 0.9750 - val_loss: 0.0947 - val_accuracy: 1.0000\n"
     ]
    }
   ],
   "source": [
    "hist = model.fit(X_train, y_train, epochs=100, validation_data=(X_test, y_test) )"
   ]
  },
  {
   "cell_type": "code",
   "execution_count": 21,
   "metadata": {
    "colab": {
     "base_uri": "https://localhost:8080/",
     "height": 283
    },
    "colab_type": "code",
    "executionInfo": {
     "elapsed": 809,
     "status": "ok",
     "timestamp": 1594963863103,
     "user": {
      "displayName": "Gilah Lee",
      "photoUrl": "",
      "userId": "12439456149827101116"
     },
     "user_tz": -540
    },
    "id": "wgPlPWMbDd2X",
    "outputId": "886cd5d4-3b51-4162-9859-92c83c2ca4b2"
   },
   "outputs": [
    {
     "data": {
      "image/png": "[encoded data removed]",
      "text/plain": [
       "<Figure size 432x288 with 2 Axes>"
      ]
     },
     "metadata": {
      "needs_background": "light",
      "tags": []
     },
     "output_type": "display_data"
    }
   ],
   "source": [
    "# 학습 과정을 그래프로 그래보기\n",
    "import matplotlib.pyplot as plt\n",
    "\n",
    "fig, loss_ax = plt.subplots()\n",
    "acc_ax = loss_ax.twinx()\n",
    "\n",
    "loss_ax.plot(hist.history['loss'], 'y', label='train loss')\n",
    "loss_ax.plot(hist.history['val_loss'], 'r', label='val loss')\n",
    "\n",
    "acc_ax.plot(hist.history['accuracy'], 'b', label='train acc')\n",
    "acc_ax.plot(hist.history['val_accuracy'], 'g', label='val acc')\n",
    "\n",
    "loss_ax.set_xlabel('Epoch')\n",
    "loss_ax.set_ylabel('Loss')\n",
    "\n",
    "acc_ax.set_ylabel('Accuracy')\n",
    "\n",
    "loss_ax.legend(loc='upper left')\n",
    "acc_ax.legend(loc='lower left')\n",
    "\n",
    "plt.show()"
   ]
  },
  {
   "cell_type": "code",
   "execution_count": 25,
   "metadata": {
    "colab": {
     "base_uri": "https://localhost:8080/",
     "height": 246
    },
    "colab_type": "code",
    "executionInfo": {
     "elapsed": 1142,
     "status": "ok",
     "timestamp": 1594964350607,
     "user": {
      "displayName": "Gilah Lee",
      "photoUrl": "",
      "userId": "12439456149827101116"
     },
     "user_tz": -540
    },
    "id": "78ZJnlnvDdv9",
    "outputId": "e38d15e0-0459-4914-9537-74ec70e87f6b"
   },
   "outputs": [
    {
     "name": "stdout",
     "output_type": "stream",
     "text": [
      "              precision    recall  f1-score   support\n",
      "\n",
      "           0       1.00      1.00      1.00        11\n",
      "           1       1.00      1.00      1.00        13\n",
      "           2       1.00      1.00      1.00         6\n",
      "\n",
      "    accuracy                           1.00        30\n",
      "   macro avg       1.00      1.00      1.00        30\n",
      "weighted avg       1.00      1.00      1.00        30\n",
      "\n",
      "[[11  0  0]\n",
      " [ 0 13  0]\n",
      " [ 0  0  6]]\n"
     ]
    }
   ],
   "source": [
    "# 혼동행렬 (Confusion Matrix)\n",
    "import numpy as np\n",
    "from sklearn.metrics import confusion_matrix, classification_report\n",
    "\n",
    "y_pred = model.predict(X_test)\n",
    "y_test_p1 = np.argmax(y_test, axis=1)\n",
    "y_test_p2 = np.argmax(y_pred, axis=1)\n",
    "\n",
    "print(classification_report(y_test_p1, y_test_p2))\n",
    "print(confusion_matrix(y_test_p1, y_test_p2 ))   "
   ]
  },
  {
   "cell_type": "code",
   "execution_count": null,
   "metadata": {
    "colab": {},
    "colab_type": "code",
    "id": "u-mHdvDODdmK"
   },
   "outputs": [],
   "source": []
  },
  {
   "cell_type": "code",
   "execution_count": null,
   "metadata": {
    "colab": {},
    "colab_type": "code",
    "id": "WmwCvgWnDdXq"
   },
   "outputs": [],
   "source": []
  }
 ],
 "metadata": {
  "accelerator": "GPU",
  "colab": {
   "authorship_tag": "ABX9TyNydxOyfzNhBVF+DOqGbujH",
   "collapsed_sections": [],
   "name": "7_IRIS_Classification.ipynb",
   "provenance": []
  },
  "kernelspec": {
   "display_name": "Python 3",
   "language": "python",
   "name": "python3"
  },
  "language_info": {
   "codemirror_mode": {
    "name": "ipython",
    "version": 3
   },
   "file_extension": ".py",
   "mimetype": "text/x-python",
   "name": "python",
   "nbconvert_exporter": "python",
   "pygments_lexer": "ipython3",
   "version": "3.7.9"
  }
 },
 "nbformat": 4,
 "nbformat_minor": 1
}
