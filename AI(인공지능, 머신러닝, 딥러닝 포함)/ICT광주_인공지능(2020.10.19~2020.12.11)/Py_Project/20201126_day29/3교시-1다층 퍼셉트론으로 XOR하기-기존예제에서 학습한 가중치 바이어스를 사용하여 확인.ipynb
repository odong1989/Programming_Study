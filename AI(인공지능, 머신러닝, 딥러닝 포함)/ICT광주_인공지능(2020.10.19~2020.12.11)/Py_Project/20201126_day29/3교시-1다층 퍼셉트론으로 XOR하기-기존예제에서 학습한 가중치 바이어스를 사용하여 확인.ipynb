{
 "cells": [
  {
   "cell_type": "code",
   "execution_count": 1,
   "metadata": {},
   "outputs": [],
   "source": [
    "#import tensorflow.compat.v1 as tf\n",
    "#tf.disable_v2_behavior()\n",
    "\n",
    "#본 예제에서는 텐서플로우를 사용하지 않습니다.(#의외중의 의외)\n",
    "import numpy as np"
   ]
  },
  {
   "cell_type": "code",
   "execution_count": 2,
   "metadata": {},
   "outputs": [],
   "source": [
    "##앞의 부분\n",
    "#이부분에서 OR, AND, NAND 연산에 대한 10000번의 시뮬결과가 아래와 같이 나왔다고 가정하자.\n",
    "#step: 10000 cost: 0.01747633  W: [[7.4011198] [7.4171198]] b: [-11.283303]#AND\n",
    "#step: 10000 cost: 0.009325321 W: [[8.675739] [8.675732]] b: [-3.8626876]  #OR\n",
    "#step: 10000 cost: 0.017403867 W: [[-7.4055345] [-7.4015345]] b: [11.295905] #NAND"
   ]
  },
  {
   "cell_type": "code",
   "execution_count": 3,
   "metadata": {},
   "outputs": [],
   "source": [
    "#가중치와 바이어스 설정\n",
    "w11 = np.array([-7.40, -7.40]) #NAND\n",
    "w12= np.array([8.67, 8.67])    #OR\n",
    "w2 = np.array([7.41, 7.41])    #AND\n",
    "b1=11.28\n",
    "b2=-3.87\n",
    "b3=-11.29"
   ]
  },
  {
   "cell_type": "code",
   "execution_count": 4,
   "metadata": {},
   "outputs": [
    {
     "name": "stdout",
     "output_type": "stream",
     "text": [
      "[-7.4 -7.4]\n",
      "[8.67 8.67]\n",
      "[7.41 7.41]\n"
     ]
    }
   ],
   "source": [
    "print(w11)\n",
    "print(w12)\n",
    "print(w2)"
   ]
  },
  {
   "cell_type": "code",
   "execution_count": 5,
   "metadata": {},
   "outputs": [],
   "source": [
    "#퍼셉트론\n",
    "def MLP(x,w,b) :\n",
    "    y = np.sum(w*x) +b\n",
    "    if y<=0:\n",
    "        return 0\n",
    "    else:\n",
    "        return 1"
   ]
  },
  {
   "cell_type": "code",
   "execution_count": 6,
   "metadata": {},
   "outputs": [],
   "source": [
    "#NAND게이트\n",
    "def NAND(x1,x2):\n",
    "    return MLP(np.array([x1,x2]), w11,b1)"
   ]
  },
  {
   "cell_type": "code",
   "execution_count": 7,
   "metadata": {},
   "outputs": [],
   "source": [
    "#OR게이트\n",
    "def OR(x1,x2):\n",
    "    return MLP(np.array([x1,x2]),w12,b2 )"
   ]
  },
  {
   "cell_type": "code",
   "execution_count": 8,
   "metadata": {},
   "outputs": [],
   "source": [
    "#AND 게이트\n",
    "def AND(x1,x2):\n",
    "    return MLP(np.array([x1,x2]),w2,b3)"
   ]
  },
  {
   "cell_type": "code",
   "execution_count": 9,
   "metadata": {},
   "outputs": [],
   "source": [
    "#XOR게이트\n",
    "def XOR(x1,x2):\n",
    "    return AND( NAND(x1,x2), OR(x1,x2) )"
   ]
  },
  {
   "cell_type": "code",
   "execution_count": 10,
   "metadata": {},
   "outputs": [
    {
     "name": "stdout",
     "output_type": "stream",
     "text": [
      "x[0]: 0 x[1] : 0\n",
      "입력 값 :(0, 0)출력 값:0\n",
      "x[0]: 1 x[1] : 0\n",
      "입력 값 :(1, 0)출력 값:1\n",
      "x[0]: 0 x[1] : 1\n",
      "입력 값 :(0, 1)출력 값:1\n",
      "x[0]: 1 x[1] : 1\n",
      "입력 값 :(1, 1)출력 값:0\n"
     ]
    }
   ],
   "source": [
    "# 값을 번갈아 대입해가며 최종값을 출력\n",
    "if __name__ == '__main__':#메인모듈이면 아래의 내용을 실행하시오! 라는 의미로 간단히 생각하자.\n",
    "    for x in [(0,0), (1,0), (0,1), (1,1)]:\n",
    "        print(\"x[0]:\",x[0], \"x[1] :\",x[1])\n",
    "        y=XOR(x[0], x[1])\n",
    "        print(\"입력 값 :\"+str(x)+\"출력 값:\"+str(y))"
   ]
  },
  {
   "cell_type": "code",
   "execution_count": null,
   "metadata": {},
   "outputs": [],
   "source": []
  },
  {
   "cell_type": "code",
   "execution_count": null,
   "metadata": {},
   "outputs": [],
   "source": []
  }
 ],
 "metadata": {
  "kernelspec": {
   "display_name": "Python 3",
   "language": "python",
   "name": "python3"
  },
  "language_info": {
   "codemirror_mode": {
    "name": "ipython",
    "version": 3
   },
   "file_extension": ".py",
   "mimetype": "text/x-python",
   "name": "python",
   "nbconvert_exporter": "python",
   "pygments_lexer": "ipython3",
   "version": "3.7.9"
  }
 },
 "nbformat": 4,
 "nbformat_minor": 4
}
