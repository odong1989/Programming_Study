{
 "cells": [
  {
   "cell_type": "code",
   "execution_count": 1,
   "metadata": {},
   "outputs": [
    {
     "name": "stdout",
     "output_type": "stream",
     "text": [
      "WARNING:tensorflow:From C:\\ProgramData\\Anaconda3\\envs\\tf_2_3\\lib\\site-packages\\tensorflow\\python\\compat\\v2_compat.py:96: disable_resource_variables (from tensorflow.python.ops.variable_scope) is deprecated and will be removed in a future version.\n",
      "Instructions for updating:\n",
      "non-resource variables are not supported in the long term\n"
     ]
    }
   ],
   "source": [
    "import tensorflow.compat.v1 as tf\n",
    "tf.disable_v2_behavior()\n",
    "import numpy as np"
   ]
  },
  {
   "cell_type": "code",
   "execution_count": 2,
   "metadata": {},
   "outputs": [],
   "source": [
    "#실행할 때마다 같은 결과를 출력하기 위한 시드 값 설정\n",
    "seed=0\n",
    "np.random.seed(seed)\n",
    "tf.set_random_seed(seed)"
   ]
  },
  {
   "cell_type": "code",
   "execution_count": 3,
   "metadata": {},
   "outputs": [],
   "source": [
    "#x,y 데이터 값\n",
    "x_data = np.array([[0,0], [0,1], [1,0], [1,1] ], dtype=np.float32) \n",
    "y_data = np.array([[0],[1],[1],[0] ], dtype=np.float32)"
   ]
  },
  {
   "cell_type": "code",
   "execution_count": 4,
   "metadata": {},
   "outputs": [],
   "source": [
    "#입력값을 플레이스홀더에 실시.\n",
    "X = tf.placeholder(tf.float32, shape=[None, 2])\n",
    "Y = tf.placeholder(tf.float32, shape=[None, 1])\n",
    "W = tf.Variable(tf.random_uniform([2,1], dtype=tf.float32) )\n",
    "b = tf.Variable(tf.random_uniform([1], dtype=tf.float32) )"
   ]
  },
  {
   "cell_type": "code",
   "execution_count": 5,
   "metadata": {},
   "outputs": [],
   "source": [
    "#y 시그모이드 함수의 방정식을 세움.\n",
    "hypothesis = tf.sigmoid(tf.matmul(X, W) +b )"
   ]
  },
  {
   "cell_type": "code",
   "execution_count": 6,
   "metadata": {},
   "outputs": [],
   "source": [
    "cost = -tf.reduce_mean(Y * tf.log(hypothesis) + (1-Y) * tf.log(1-hypothesis) )\n",
    "train = tf.train.GradientDescentOptimizer(learning_rate=0.0001).minimize(cost)\n",
    "predicted = tf.cast(hypothesis>0.5, dtype=tf.float32 ) #결과값 나오는 small Y이다.\n",
    "accuracy =tf.reduce_mean(tf.cast(tf.equal(predicted, Y), dtype=tf.float32 )) #계산하기 좋게 0,1으로 변경한다"
   ]
  },
  {
   "cell_type": "code",
   "execution_count": 7,
   "metadata": {},
   "outputs": [
    {
     "name": "stdout",
     "output_type": "stream",
     "text": [
      "step: 0 cost: 0.7309234 W: [[0.01975017]\n",
      " [0.00703539]] b: [0.5397167]\n",
      "step: 1000 cost: 0.72827303 W: [[0.01302869]\n",
      " [0.00038757]] b: [0.5264633]\n",
      "step: 2000 cost: 0.7258113 W: [[ 0.0065732 ]\n",
      " [-0.00599431]] b: [0.51366746]\n",
      "step: 3000 cost: 0.7235254 W: [[ 0.00037543]\n",
      " [-0.01211855]] b: [0.50131196]\n",
      "step: 4000 cost: 0.72140366 W: [[-0.0055728 ]\n",
      " [-0.01799335]] b: [0.4893851]\n",
      "step: 5000 cost: 0.71943486 W: [[-0.01127955]\n",
      " [-0.0236268 ]] b: [0.47787148]\n",
      "step: 6000 cost: 0.71760845 W: [[-0.01675276]\n",
      " [-0.02902689]] b: [0.4667584]\n",
      "step: 7000 cost: 0.7159146 W: [[-0.02200024]\n",
      " [-0.03420144]] b: [0.4560321]\n",
      "step: 8000 cost: 0.71434426 W: [[-0.02702964]\n",
      " [-0.03915807]] b: [0.44567996]\n",
      "step: 9000 cost: 0.7128883 W: [[-0.03184846]\n",
      " [-0.04390434]] b: [0.43568882]\n",
      "step: 10000 cost: 0.71153903 W: [[-0.036464  ]\n",
      " [-0.04844756]] b: [0.42604667]\n",
      "step: 11000 cost: 0.7102886 W: [[-0.04088342]\n",
      " [-0.0527949 ]] b: [0.41674098]\n",
      "step: 12000 cost: 0.70913005 W: [[-0.04511368]\n",
      " [-0.05695334]] b: [0.40776038]\n",
      "step: 13000 cost: 0.7080568 W: [[-0.04916155]\n",
      " [-0.06092966]] b: [0.39909294]\n",
      "step: 14000 cost: 0.70706254 W: [[-0.05303365]\n",
      " [-0.06473051]] b: [0.39072794]\n",
      "step: 15000 cost: 0.7061417 W: [[-0.05673636]\n",
      " [-0.06836225]] b: [0.38265452]\n",
      "step: 16000 cost: 0.70528877 W: [[-0.0602759 ]\n",
      " [-0.07183111]] b: [0.37486196]\n",
      "step: 17000 cost: 0.70449877 W: [[-0.06365833]\n",
      " [-0.07514316]] b: [0.36734024]\n",
      "step: 18000 cost: 0.70376706 W: [[-0.06688944]\n",
      " [-0.07830426]] b: [0.3600793]\n",
      "step: 19000 cost: 0.70308965 W: [[-0.06997494]\n",
      " [-0.08132001]] b: [0.35307023]\n",
      "step: 20000 cost: 0.70246226 W: [[-0.07292027]\n",
      " [-0.08419593]] b: [0.3463032]\n",
      "step: 21000 cost: 0.70188105 W: [[-0.07573078]\n",
      " [-0.08693738]] b: [0.3397691]\n",
      "step: 22000 cost: 0.70134294 W: [[-0.07841153]\n",
      " [-0.08954941]] b: [0.3334604]\n",
      "step: 23000 cost: 0.70084435 W: [[-0.08096747]\n",
      " [-0.09203703]] b: [0.32736763]\n",
      "step: 24000 cost: 0.7003827 W: [[-0.08340342]\n",
      " [-0.09440495]] b: [0.32148325]\n",
      "step: 25000 cost: 0.69995505 W: [[-0.08572398]\n",
      " [-0.09665784]] b: [0.31579906]\n",
      "step: 26000 cost: 0.6995588 W: [[-0.08793359]\n",
      " [-0.09880015]] b: [0.31030875]\n",
      "step: 27000 cost: 0.69919163 W: [[-0.0900365 ]\n",
      " [-0.10083613]] b: [0.30500388]\n",
      "step: 28000 cost: 0.69885147 W: [[-0.09203691]\n",
      " [-0.10276993]] b: [0.29987794]\n",
      "step: 29000 cost: 0.69853616 W: [[-0.09393878]\n",
      " [-0.10460559]] b: [0.29492375]\n",
      "step: 30000 cost: 0.69824386 W: [[-0.095746  ]\n",
      " [-0.10634699]] b: [0.29013613]\n",
      "step: 31000 cost: 0.6979729 W: [[-0.09746221]\n",
      " [-0.10799769]] b: [0.28550732]\n",
      "step: 32000 cost: 0.6977216 W: [[-0.09909093]\n",
      " [-0.10956132]] b: [0.28103215]\n",
      "step: 33000 cost: 0.69748855 W: [[-0.10063573]\n",
      " [-0.11104136]] b: [0.276705]\n",
      "step: 34000 cost: 0.69727236 W: [[-0.10209987]\n",
      " [-0.11244115]] b: [0.27251983]\n",
      "step: 35000 cost: 0.69707173 W: [[-0.10348647]\n",
      " [-0.11376381]] b: [0.26847088]\n",
      "step: 36000 cost: 0.69688547 W: [[-0.10479871]\n",
      " [-0.11501231]] b: [0.26455423]\n",
      "step: 37000 cost: 0.6967125 W: [[-0.10603942]\n",
      " [-0.11618981]] b: [0.26076418]\n",
      "step: 38000 cost: 0.69655186 W: [[-0.10721152]\n",
      " [-0.11729901]] b: [0.25709572]\n",
      "step: 39000 cost: 0.6964026 W: [[-0.1083177 ]\n",
      " [-0.11834261]] b: [0.25354433]\n",
      "step: 40000 cost: 0.69626385 W: [[-0.10936061]\n",
      " [-0.11932343]] b: [0.25010526]\n",
      "step: 41000 cost: 0.69613487 W: [[-0.11034276]\n",
      " [-0.12024377]] b: [0.24677564]\n",
      "step: 42000 cost: 0.6960149 W: [[-0.1112666 ]\n",
      " [-0.12110608]] b: [0.24355026]\n",
      "step: 43000 cost: 0.6959031 W: [[-0.11213443]\n",
      " [-0.12191292]] b: [0.24042515]\n",
      "step: 44000 cost: 0.6957992 W: [[-0.11294854]\n",
      " [-0.12266633]] b: [0.23739718]\n",
      "step: 45000 cost: 0.6957022 W: [[-0.11371104]\n",
      " [-0.12336846]] b: [0.23446205]\n",
      "step: 46000 cost: 0.69561183 W: [[-0.11442419]\n",
      " [-0.12402162]] b: [0.23161647]\n",
      "step: 47000 cost: 0.6955277 W: [[-0.11508962]\n",
      " [-0.12462745]] b: [0.22885686]\n",
      "step: 48000 cost: 0.695449 W: [[-0.11570958]\n",
      " [-0.12518816]] b: [0.22618052]\n",
      "step: 49000 cost: 0.69537556 W: [[-0.11628591]\n",
      " [-0.12570564]] b: [0.22358365]\n",
      "step: 50000 cost: 0.695307 W: [[-0.11682001]\n",
      " [-0.12618163]] b: [0.22106369]\n",
      "\n",
      " Hypothesis : [[0.55504197]\n",
      " [0.52370274]\n",
      " [0.52603734]\n",
      " [0.49451575]] \n",
      " Correct (Y) : [[1.]\n",
      " [1.]\n",
      " [1.]\n",
      " [0.]] \n",
      " Accuracy: 0.75\n"
     ]
    }
   ],
   "source": [
    "#학습\n",
    "with tf.Session() as sess :\n",
    "    sess.run(tf.global_variables_initializer())\n",
    "\n",
    "    for step in range(50001) :\n",
    "        sess.run(train,feed_dict={X:x_data, Y:y_data} ) \n",
    "        if(step) % 1000 == 0 :\n",
    "            print(\"step:\",step,\"cost:\",sess.run(cost, feed_dict={X:x_data, Y:y_data}),\n",
    "                  \"W:\",sess.run(W),\"b:\",sess.run(b) )\n",
    "    #정확도 측정\n",
    "    h,c,a = sess.run( [hypothesis , predicted, accuracy], feed_dict= {X:x_data, Y:y_data} )\n",
    "    print(\"\\n Hypothesis :\", h ,\"\\n Correct (Y) :\", c, \"\\n Accuracy:\",a)"
   ]
  }
 ],
 "metadata": {
  "kernelspec": {
   "display_name": "Python 3",
   "language": "python",
   "name": "python3"
  },
  "language_info": {
   "codemirror_mode": {
    "name": "ipython",
    "version": 3
   },
   "file_extension": ".py",
   "mimetype": "text/x-python",
   "name": "python",
   "nbconvert_exporter": "python",
   "pygments_lexer": "ipython3",
   "version": "3.7.9"
  }
 },
 "nbformat": 4,
 "nbformat_minor": 4
}
