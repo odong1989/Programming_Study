{
 "cells": [
  {
   "cell_type": "code",
   "execution_count": 1,
   "metadata": {},
   "outputs": [],
   "source": [
    "import tensorflow as tf\n",
    "import numpy as np"
   ]
  },
  {
   "cell_type": "code",
   "execution_count": 2,
   "metadata": {},
   "outputs": [],
   "source": [
    "#x,y의 데이터 값\n",
    "data=[[2,0], [4,0], [6,0], [8,1], [10,1], [12,1], [14,1]] # [[공부시간1,합격여부(합격=1) ],[공부시간2,합격여부(합격=1) ]...]\n",
    "x_data = [x_row[0] for x_row in data]\n",
    "y_data = [y_row[1] for y_row in data]"
   ]
  },
  {
   "cell_type": "code",
   "execution_count": 3,
   "metadata": {},
   "outputs": [],
   "source": [
    "a      = tf.Variable(tf.random.normal([1], dtype=tf.float64, seed=0 ))\n",
    "b      = tf.Variable(tf.random.normal([1], dtype=tf.float64, seed=0 ))"
   ]
  },
  {
   "cell_type": "code",
   "execution_count": 4,
   "metadata": {},
   "outputs": [],
   "source": [
    "def hypothesis(a,b):\n",
    "    #가설\n",
    "    return 1/(1 + np.e** -(a * x_data + b) )\n",
    "\n",
    "def cost(w,b):\n",
    "    #손실을 계산하는 함수.\n",
    "    return -tf.reduce_mean(np.array(y_data) * tf.math.log(hypothesis(a,b))\n",
    "            +(1 -np.array(y_data)) * tf.math.log(1- hypothesis(a,b)) )\n",
    "\n",
    "\n",
    "def costFunc():#minimize에서 사용 손실(비용)함수\n",
    "    return -tf.reduce_mean(np.array(y_data) * tf.math.log(hypothesis(a,b))\n",
    "            +(1 -np.array(y_data)) * tf.math.log(1- hypothesis(a,b)) )\n",
    "\n",
    "\n",
    "#loss를 최소로 하는 값 구하기 & #학습률 값\n",
    "opt = tf.keras.optimizers.SGD(learning_rate=0.5)"
   ]
  },
  {
   "cell_type": "code",
   "execution_count": 5,
   "metadata": {},
   "outputs": [
    {
     "name": "stdout",
     "output_type": "stream",
     "text": [
      "0 4.199030941448979, [2.45719506], [-0.03358081]\n",
      "6000 0.01516909509106098, [2.92268135], [-20.30933691]\n",
      "12000 0.008063038533778466, [3.56459439], [-24.8069916]\n",
      "18000 0.005471605177679625, [3.95630493], [-27.55039466]\n",
      "24000 0.004135230525266977, [4.23846392], [-29.52621989]\n",
      "30000 0.0033213773990668793, [4.45894767], [-31.07003192]\n",
      "36000 0.002774212242385354, [4.63985768], [-32.33668483]\n",
      "42000 0.002381316391738347, [4.79322008], [-33.41042306]\n",
      "48000 0.002085608961406375, [4.92630368], [-34.34215902]\n",
      "54000 0.0018550505199591682, [5.04383702], [-35.16500936]\n",
      "60000 0.0016702771597220426, [5.14906839], [-35.90172237]\n",
      "[3.88260468e-05]\n",
      "0.0000388260468469354806404086888349524997\n",
      "[0.53537987]\n",
      "0.5353798705783079370235100213903933763504\n",
      "[1.]\n",
      "0.9999999999999666933092612453037872910500\n"
     ]
    }
   ],
   "source": [
    "#학습\n",
    "for i in range(60001) :\n",
    "    opt.minimize(costFunc, var_list=[a,b])\n",
    "    if i % 6000 == 0 :\n",
    "        print(i, f'{cost(a,b)}, {a.numpy()}, {b.numpy()}' )\n",
    "        \n",
    "#새로운값 5,7,13에 대한 분석결과를 출력하도록 한다.\n",
    "#즉시실행의 개념에 따라 작동한다.\n",
    "new_x_data=5              \n",
    "y_test = 1/(1 + np.e** -(a * new_x_data + b) )             \n",
    "print(y_test.numpy() )             #y_test :  [3.88235153e-05] 의 의미는 합격률=0.0003, 거의 불합격이란애기.              \n",
    "print(\"%.40f\"%float(y_test.numpy()) )\n",
    "\n",
    "new_x_data=7\n",
    "y_test = 1/(1 + np.e** -(a * new_x_data + b) ) \n",
    "print(y_test.numpy() )             #y_test :  [3.88235153e-05] 의 의미는 합격률=0.0003, 거의 불합격이란애기.              \n",
    "print(\"%.40f\"%float(y_test.numpy()) )\n",
    "\n",
    "new_x_data=13\n",
    "y_test = 1/(1 + np.e** -(a * new_x_data + b) ) \n",
    "print(y_test.numpy() )             #y_test :  [3.88235153e-05] 의 의미는 합격률=0.0003, 거의 불합격이란애기.              \n",
    "print(\"%.40f\"%float(y_test.numpy()) )\n",
    "   "
   ]
  },
  {
   "cell_type": "code",
   "execution_count": null,
   "metadata": {},
   "outputs": [],
   "source": []
  }
 ],
 "metadata": {
  "kernelspec": {
   "display_name": "Python 3",
   "language": "python",
   "name": "python3"
  },
  "language_info": {
   "codemirror_mode": {
    "name": "ipython",
    "version": 3
   },
   "file_extension": ".py",
   "mimetype": "text/x-python",
   "name": "python",
   "nbconvert_exporter": "python",
   "pygments_lexer": "ipython3",
   "version": "3.7.9"
  }
 },
 "nbformat": 4,
 "nbformat_minor": 4
}
