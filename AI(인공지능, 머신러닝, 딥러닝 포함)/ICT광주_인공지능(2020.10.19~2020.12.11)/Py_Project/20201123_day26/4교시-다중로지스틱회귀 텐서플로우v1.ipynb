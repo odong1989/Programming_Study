{
 "cells": [
  {
   "cell_type": "code",
   "execution_count": 1,
   "metadata": {},
   "outputs": [
    {
     "name": "stdout",
     "output_type": "stream",
     "text": [
      "WARNING:tensorflow:From C:\\ProgramData\\Anaconda3\\envs\\tf_2_3\\lib\\site-packages\\tensorflow\\python\\compat\\v2_compat.py:96: disable_resource_variables (from tensorflow.python.ops.variable_scope) is deprecated and will be removed in a future version.\n",
      "Instructions for updating:\n",
      "non-resource variables are not supported in the long term\n"
     ]
    }
   ],
   "source": [
    "import tensorflow.compat.v1 as tf\n",
    "tf.disable_v2_behavior()\n",
    "import numpy as np"
   ]
  },
  {
   "cell_type": "code",
   "execution_count": 2,
   "metadata": {},
   "outputs": [],
   "source": [
    "#실행할 때마다 같은 결과를 출력하기 위한 시드 값 설정\n",
    "seed=0\n",
    "np.random.seed(seed)\n",
    "tf.set_random_seed(seed)"
   ]
  },
  {
   "cell_type": "code",
   "execution_count": 3,
   "metadata": {},
   "outputs": [],
   "source": [
    "#x,y 데이터 값\n",
    "x_data = np.array([[2,3], [4,3], [6,4], [8,6], [10,7], [12,8], [14,9]]) #7행2열의 데이터 \n",
    "y_data = np.array([0,0,0,1,1,1,1]).reshape(7,1)"
   ]
  },
  {
   "cell_type": "code",
   "execution_count": 4,
   "metadata": {},
   "outputs": [],
   "source": [
    "#입력값을 플레이스홀더에 실시.\n",
    "X = tf.placeholder(tf.float64, shape=[None, 2])\n",
    "Y = tf.placeholder(tf.float64, shape=[None, 1])"
   ]
  },
  {
   "cell_type": "code",
   "execution_count": 5,
   "metadata": {},
   "outputs": [],
   "source": [
    "#기울기 a와 바이어스 b의 값을 임의로 정함. a는 [2,1] 형태를 가지며 a1,a2이다.\n",
    "a = tf.Variable(tf.random_uniform([2,1], dtype=tf.float64) )\n",
    "#[2,1] 의미 : 들어오는 값은 2개, 나가는 값은 1개(tf.random_uniform([2,1])\n",
    "b = tf.Variable(tf.random_uniform([1], dtype=tf.float64) )"
   ]
  },
  {
   "cell_type": "code",
   "execution_count": 6,
   "metadata": {},
   "outputs": [],
   "source": [
    "#y 시그모이드 함수의 방정식을 세움.\n",
    "y = tf.sigmoid(-(tf.matmul(X,a) +b ))"
   ]
  },
  {
   "cell_type": "code",
   "execution_count": 7,
   "metadata": {},
   "outputs": [],
   "source": [
    "#오차를 구하는 함수\n",
    "loss = -tf.reduce_mean(Y * tf.log(y) + (1-y) *tf.log(1-y) )\n",
    "#tf.reduce_mean() : 배열의 평균"
   ]
  },
  {
   "cell_type": "code",
   "execution_count": 8,
   "metadata": {},
   "outputs": [],
   "source": [
    "#학습률\n",
    "learning_rate=0.1"
   ]
  },
  {
   "cell_type": "code",
   "execution_count": 9,
   "metadata": {},
   "outputs": [],
   "source": [
    "#오차를 최소로 하는 값 찾기\n",
    "gradient_decent = tf.train.GradientDescentOptimizer(learning_rate).minimize(loss)"
   ]
  },
  {
   "cell_type": "code",
   "execution_count": 10,
   "metadata": {},
   "outputs": [
    {
     "name": "stdout",
     "output_type": "stream",
     "text": [
      "step=300, a1=-1.3846, a2=-0.8848, b=-0.0400, loss=0.0036\n",
      "step=600, a1=-1.5171, a2=-1.0680, b=-0.1010, loss=0.0017\n",
      "step=900, a1=-1.5918, a2=-1.1729, b=-0.1360, loss=0.0011\n",
      "step=1200, a1=-1.6437, a2=-1.2465, b=-0.1605, loss=0.0008\n",
      "step=1500, a1=-1.6834, a2=-1.3031, b=-0.1793, loss=0.0006\n",
      "step=1800, a1=-1.7156, a2=-1.3490, b=-0.1946, loss=0.0005\n",
      "step=2100, a1=nan, a2=nan, b=nan, loss=nan\n",
      "step=2400, a1=nan, a2=nan, b=nan, loss=nan\n",
      "step=2700, a1=nan, a2=nan, b=nan, loss=nan\n",
      "step=3000, a1=nan, a2=nan, b=nan, loss=nan\n",
      "predicted= [[0.]\n",
      " [0.]\n",
      " [0.]\n",
      " [0.]\n",
      " [0.]\n",
      " [0.]\n",
      " [0.]]\n",
      "check predicted= [[0.]\n",
      " [0.]\n",
      " [0.]]\n",
      "cechkhypothesis= [[nan]\n",
      " [nan]\n",
      " [nan]]\n",
      "\n",
      " Hypothesis : [[nan]\n",
      " [nan]\n",
      " [nan]\n",
      " [nan]\n",
      " [nan]\n",
      " [nan]\n",
      " [nan]] \n",
      " Correct (Y) : [[0.]\n",
      " [0.]\n",
      " [0.]\n",
      " [0.]\n",
      " [0.]\n",
      " [0.]\n",
      " [0.]] \n",
      " Accuracy: 0.42857142857142855\n"
     ]
    }
   ],
   "source": [
    "predicted = tf.cast(y>0.5, dtype=tf.float64 ) #결과값 나오는 small Y이다.\n",
    "\n",
    "accuracy =tf.reduce_mean(tf.cast(tf.equal(predicted, Y), dtype=tf.float64 )) #계산하기 좋게 0,1으로 변경한다\n",
    "#accuracy : 정밀도 구하기\n",
    "#tf.cast(tf.equal(predicted, Y) : 예측값(predicted과 실제값(Y)이 같은지(tf.equal() )를 확인후 boolean값으로 리턴하시오.\n",
    "#(예) 예측을 11110으로 했는데 결과가 11111으로 나왔다? =>정확도(accuracy)는 80%=0.8\n",
    "\n",
    "#학습\n",
    "with tf.Session() as sess :\n",
    "    sess.run(tf.global_variables_initializer())\n",
    "\n",
    "    for i in range(3001) :\n",
    "        a_, b_, loss_, _ = sess.run([a,b,loss,gradient_decent], feed_dict={X:x_data, Y: y_data} ) \n",
    "        if(i+1) % 300 == 0 :\n",
    "            print(\"step=%d, a1=%.4f, a2=%.4f, b=%.4f, loss=%.4f\" % (i+1, a_[0], a_[1], b_, loss_))\n",
    "    \n",
    "    print(\"predicted=\",sess.run(predicted, feed_dict={X:x_data} ))\n",
    "            \n",
    "    #다른 값 테스트\n",
    "    p_val, h_val = sess.run([predicted, y], feed_dict= {X:[ [1,5], [10,5], [4,5] ]} )\n",
    "    print(\"check predicted=\",p_val) #연산된 값을 bool로 변환한 값.\n",
    "    print(\"cechkhypothesis=\",h_val) #계산값\n",
    "\n",
    "    #정확도 측정\n",
    "    h,c,a = sess.run( [y, predicted, accuracy], feed_dict= {X:x_data, Y:y_data} )\n",
    "    print(\"\\n Hypothesis :\", h ,\"\\n Correct (Y) :\", c, \"\\n Accuracy:\",a)"
   ]
  },
  {
   "cell_type": "code",
   "execution_count": null,
   "metadata": {},
   "outputs": [],
   "source": []
  }
 ],
 "metadata": {
  "kernelspec": {
   "display_name": "Python 3",
   "language": "python",
   "name": "python3"
  },
  "language_info": {
   "codemirror_mode": {
    "name": "ipython",
    "version": 3
   },
   "file_extension": ".py",
   "mimetype": "text/x-python",
   "name": "python",
   "nbconvert_exporter": "python",
   "pygments_lexer": "ipython3",
   "version": "3.7.9"
  }
 },
 "nbformat": 4,
 "nbformat_minor": 4
}
