{
 "cells": [
  {
   "cell_type": "code",
   "execution_count": 5,
   "metadata": {},
   "outputs": [
    {
     "name": "stdout",
     "output_type": "stream",
     "text": [
      "낮과밤\n",
      "레이디스코드\n",
      "권리세\n",
      "jlpt\n",
      "대한항공 아시아나 인수\n",
      "빌보드\n",
      "LG에너지솔루션\n",
      "윤석열 직무정지\n",
      "땅만빌리지\n",
      "박셀바이오\n",
      "업텐션\n",
      "모더나 관련주\n",
      "롯데마트 안내견\n",
      "동태를말하다\n",
      "강동구청\n",
      "싱어게인 11호\n",
      "나홀로집에\n",
      "위키드\n",
      "빌보드 차트\n",
      "비투비\n"
     ]
    }
   ],
   "source": [
    "# python에서 HTTP 요청을 보내는 모듈\n",
    "import requests\n",
    "\n",
    "#bs4라고 불리는 html 분석 라이브러리\n",
    "from bs4 import BeautifulSoup\n",
    "\n",
    "oldRtData = [None]*20\n",
    "newRtData = [None]*20\n",
    "\n",
    "#유저 설정(HTTP 헤더는 클라이언트와 서버가 요청 또는 응답으로 부가적인 정보를 전송할 수 있음.)\n",
    "headers = {'User-Agent':'Mozila/5.0 (Windows NT 10.0; Win64; x64) AppleWebKit/537.36(KHTML, like Gecko) Chrome/80.0.3987.122 Safari/537.36'}\n",
    "\n",
    "#네이버 메인이 아닌 DataLab 페이지\n",
    "url = 'https://datalab.naver.com/keyword/realtimeList.naver?where=main'\n",
    "\n",
    "#User 설정\n",
    "res = requests.get(url,headers= headers)           \n",
    "\n",
    "#res.content 주의\n",
    "soup = BeautifulSoup(res.content,'html.parser')\n",
    "\n",
    "#span.item_title 정보를 선택\n",
    "data = soup.select('span.item_title')\n",
    "\n",
    "\n",
    "#for 문의로 출력.\n",
    "for item in data:\n",
    "    print(item.get_text() )\n"
   ]
  },
  {
   "cell_type": "code",
   "execution_count": 7,
   "metadata": {},
   "outputs": [],
   "source": [
    "#일정 시간마다 함수를 실행시키는 방법\n",
    "import threading\n",
    "\n",
    "def readRTData():\n",
    "    #5초 마다 작업하도록 \n",
    "    timer = threading.Timer(5,readRTData)\n",
    "    timer.start()\n",
    "readRTData()"
   ]
  },
  {
   "cell_type": "code",
   "execution_count": null,
   "metadata": {},
   "outputs": [],
   "source": [
    "#조건1) 5초 간격으로 5분간의 실시간 검색어를 추적할 것.\n",
    "#조건2) 실시간 검색어 결과가 기존과 다른 경우에 파일에 저장\n",
    "#조건3) 저장할 때 몇 번째 확인인지를 표시하여 저장하세요\n",
    "# 예. 시작후 5초면 1번째 확인, 55초후면 11번째 확인\n",
    "#조건4)저장된 파일을 통하여 네이버 급상승 검색어 갱신 주기를 확인할 수 있음."
   ]
  }
 ],
 "metadata": {
  "kernelspec": {
   "display_name": "Python 3",
   "language": "python",
   "name": "python3"
  },
  "language_info": {
   "codemirror_mode": {
    "name": "ipython",
    "version": 3
   },
   "file_extension": ".py",
   "mimetype": "text/x-python",
   "name": "python",
   "nbconvert_exporter": "python",
   "pygments_lexer": "ipython3",
   "version": "3.7.9"
  }
 },
 "nbformat": 4,
 "nbformat_minor": 4
}
